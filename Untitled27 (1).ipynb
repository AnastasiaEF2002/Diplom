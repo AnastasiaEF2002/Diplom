{
  "nbformat": 4,
  "nbformat_minor": 0,
  "metadata": {
    "colab": {
      "provenance": []
    },
    "kernelspec": {
      "name": "python3",
      "display_name": "Python 3"
    },
    "language_info": {
      "name": "python"
    }
  },
  "cells": [
    {
      "cell_type": "code",
      "execution_count": null,
      "metadata": {
        "colab": {
          "base_uri": "https://localhost:8080/",
          "height": 424
        },
        "id": "lTzP1AKSsDOd",
        "outputId": "c946d006-8993-479e-f224-d0e0ed143f65"
      },
      "outputs": [
        {
          "output_type": "execute_result",
          "data": {
            "text/plain": [
              "                  Модель                          Задача  \\\n",
              "0            Lumina Chat  Академические вопросы и ответы   \n",
              "1         Socratic Guide  Академические вопросы и ответы   \n",
              "2             Cambrianml                 Поиск статей ИИ   \n",
              "3      Airtable Hint GPT      Воздухопроницаемые формулы   \n",
              "4      Formula Assistant      Воздухопроницаемые формулы   \n",
              "...                  ...                             ...   \n",
              "10911         Earth.atmo          Прогнозирование погоды   \n",
              "10912                Jua          Прогнозирование погоды   \n",
              "10913           NimbusWx          Прогнозирование погоды   \n",
              "10914            Rainbow          Прогнозирование погоды   \n",
              "10915  Weather Assistant          Прогнозирование погоды   \n",
              "\n",
              "                                                Описание  Оценка  \\\n",
              "0      Lumina - это исследовательский пакет на базе и...     0.0   \n",
              "1      The Socratic Guide - это GPT, применяющий прин...     0.0   \n",
              "2      Cambrian CoPilot for AI Research - это комплек...     0.0   \n",
              "3      Расширение Airtable Hint GPT для Chrome - это ...     0.0   \n",
              "4      Formula Assistant - это GPT, который специализ...     0.0   \n",
              "...                                                  ...     ...   \n",
              "10911  Карта, используемая в инструменте, предоставле...     0.0   \n",
              "10912  Модель Jua - это погодная модель на базе искус...     0.0   \n",
              "10913  NimbusWx - это погодное приложение, которое пр...     0.0   \n",
              "10914  Rainbow.ai это гиперлокальное погодное приложе...     0.0   \n",
              "10915  GPT предоставляет ответы на запросы пользовате...     0.0   \n",
              "\n",
              "                                 Сфера  \n",
              "0      Административные и канцелярские  \n",
              "1      Административные и канцелярские  \n",
              "2      Административные и канцелярские  \n",
              "3      Административные и канцелярские  \n",
              "4      Административные и канцелярские  \n",
              "...                                ...  \n",
              "10911     Цепочка поставок и логистика  \n",
              "10912     Цепочка поставок и логистика  \n",
              "10913     Цепочка поставок и логистика  \n",
              "10914     Цепочка поставок и логистика  \n",
              "10915     Цепочка поставок и логистика  \n",
              "\n",
              "[10916 rows x 5 columns]"
            ],
            "text/html": [
              "\n",
              "  <div id=\"df-dafa7f45-0e7f-4027-99a5-053f662f878f\" class=\"colab-df-container\">\n",
              "    <div>\n",
              "<style scoped>\n",
              "    .dataframe tbody tr th:only-of-type {\n",
              "        vertical-align: middle;\n",
              "    }\n",
              "\n",
              "    .dataframe tbody tr th {\n",
              "        vertical-align: top;\n",
              "    }\n",
              "\n",
              "    .dataframe thead th {\n",
              "        text-align: right;\n",
              "    }\n",
              "</style>\n",
              "<table border=\"1\" class=\"dataframe\">\n",
              "  <thead>\n",
              "    <tr style=\"text-align: right;\">\n",
              "      <th></th>\n",
              "      <th>Модель</th>\n",
              "      <th>Задача</th>\n",
              "      <th>Описание</th>\n",
              "      <th>Оценка</th>\n",
              "      <th>Сфера</th>\n",
              "    </tr>\n",
              "  </thead>\n",
              "  <tbody>\n",
              "    <tr>\n",
              "      <th>0</th>\n",
              "      <td>Lumina Chat</td>\n",
              "      <td>Академические вопросы и ответы</td>\n",
              "      <td>Lumina - это исследовательский пакет на базе и...</td>\n",
              "      <td>0.0</td>\n",
              "      <td>Административные и канцелярские</td>\n",
              "    </tr>\n",
              "    <tr>\n",
              "      <th>1</th>\n",
              "      <td>Socratic Guide</td>\n",
              "      <td>Академические вопросы и ответы</td>\n",
              "      <td>The Socratic Guide - это GPT, применяющий прин...</td>\n",
              "      <td>0.0</td>\n",
              "      <td>Административные и канцелярские</td>\n",
              "    </tr>\n",
              "    <tr>\n",
              "      <th>2</th>\n",
              "      <td>Cambrianml</td>\n",
              "      <td>Поиск статей ИИ</td>\n",
              "      <td>Cambrian CoPilot for AI Research - это комплек...</td>\n",
              "      <td>0.0</td>\n",
              "      <td>Административные и канцелярские</td>\n",
              "    </tr>\n",
              "    <tr>\n",
              "      <th>3</th>\n",
              "      <td>Airtable Hint GPT</td>\n",
              "      <td>Воздухопроницаемые формулы</td>\n",
              "      <td>Расширение Airtable Hint GPT для Chrome - это ...</td>\n",
              "      <td>0.0</td>\n",
              "      <td>Административные и канцелярские</td>\n",
              "    </tr>\n",
              "    <tr>\n",
              "      <th>4</th>\n",
              "      <td>Formula Assistant</td>\n",
              "      <td>Воздухопроницаемые формулы</td>\n",
              "      <td>Formula Assistant - это GPT, который специализ...</td>\n",
              "      <td>0.0</td>\n",
              "      <td>Административные и канцелярские</td>\n",
              "    </tr>\n",
              "    <tr>\n",
              "      <th>...</th>\n",
              "      <td>...</td>\n",
              "      <td>...</td>\n",
              "      <td>...</td>\n",
              "      <td>...</td>\n",
              "      <td>...</td>\n",
              "    </tr>\n",
              "    <tr>\n",
              "      <th>10911</th>\n",
              "      <td>Earth.atmo</td>\n",
              "      <td>Прогнозирование погоды</td>\n",
              "      <td>Карта, используемая в инструменте, предоставле...</td>\n",
              "      <td>0.0</td>\n",
              "      <td>Цепочка поставок и логистика</td>\n",
              "    </tr>\n",
              "    <tr>\n",
              "      <th>10912</th>\n",
              "      <td>Jua</td>\n",
              "      <td>Прогнозирование погоды</td>\n",
              "      <td>Модель Jua - это погодная модель на базе искус...</td>\n",
              "      <td>0.0</td>\n",
              "      <td>Цепочка поставок и логистика</td>\n",
              "    </tr>\n",
              "    <tr>\n",
              "      <th>10913</th>\n",
              "      <td>NimbusWx</td>\n",
              "      <td>Прогнозирование погоды</td>\n",
              "      <td>NimbusWx - это погодное приложение, которое пр...</td>\n",
              "      <td>0.0</td>\n",
              "      <td>Цепочка поставок и логистика</td>\n",
              "    </tr>\n",
              "    <tr>\n",
              "      <th>10914</th>\n",
              "      <td>Rainbow</td>\n",
              "      <td>Прогнозирование погоды</td>\n",
              "      <td>Rainbow.ai это гиперлокальное погодное приложе...</td>\n",
              "      <td>0.0</td>\n",
              "      <td>Цепочка поставок и логистика</td>\n",
              "    </tr>\n",
              "    <tr>\n",
              "      <th>10915</th>\n",
              "      <td>Weather Assistant</td>\n",
              "      <td>Прогнозирование погоды</td>\n",
              "      <td>GPT предоставляет ответы на запросы пользовате...</td>\n",
              "      <td>0.0</td>\n",
              "      <td>Цепочка поставок и логистика</td>\n",
              "    </tr>\n",
              "  </tbody>\n",
              "</table>\n",
              "<p>10916 rows × 5 columns</p>\n",
              "</div>\n",
              "    <div class=\"colab-df-buttons\">\n",
              "\n",
              "  <div class=\"colab-df-container\">\n",
              "    <button class=\"colab-df-convert\" onclick=\"convertToInteractive('df-dafa7f45-0e7f-4027-99a5-053f662f878f')\"\n",
              "            title=\"Convert this dataframe to an interactive table.\"\n",
              "            style=\"display:none;\">\n",
              "\n",
              "  <svg xmlns=\"http://www.w3.org/2000/svg\" height=\"24px\" viewBox=\"0 -960 960 960\">\n",
              "    <path d=\"M120-120v-720h720v720H120Zm60-500h600v-160H180v160Zm220 220h160v-160H400v160Zm0 220h160v-160H400v160ZM180-400h160v-160H180v160Zm440 0h160v-160H620v160ZM180-180h160v-160H180v160Zm440 0h160v-160H620v160Z\"/>\n",
              "  </svg>\n",
              "    </button>\n",
              "\n",
              "  <style>\n",
              "    .colab-df-container {\n",
              "      display:flex;\n",
              "      gap: 12px;\n",
              "    }\n",
              "\n",
              "    .colab-df-convert {\n",
              "      background-color: #E8F0FE;\n",
              "      border: none;\n",
              "      border-radius: 50%;\n",
              "      cursor: pointer;\n",
              "      display: none;\n",
              "      fill: #1967D2;\n",
              "      height: 32px;\n",
              "      padding: 0 0 0 0;\n",
              "      width: 32px;\n",
              "    }\n",
              "\n",
              "    .colab-df-convert:hover {\n",
              "      background-color: #E2EBFA;\n",
              "      box-shadow: 0px 1px 2px rgba(60, 64, 67, 0.3), 0px 1px 3px 1px rgba(60, 64, 67, 0.15);\n",
              "      fill: #174EA6;\n",
              "    }\n",
              "\n",
              "    .colab-df-buttons div {\n",
              "      margin-bottom: 4px;\n",
              "    }\n",
              "\n",
              "    [theme=dark] .colab-df-convert {\n",
              "      background-color: #3B4455;\n",
              "      fill: #D2E3FC;\n",
              "    }\n",
              "\n",
              "    [theme=dark] .colab-df-convert:hover {\n",
              "      background-color: #434B5C;\n",
              "      box-shadow: 0px 1px 3px 1px rgba(0, 0, 0, 0.15);\n",
              "      filter: drop-shadow(0px 1px 2px rgba(0, 0, 0, 0.3));\n",
              "      fill: #FFFFFF;\n",
              "    }\n",
              "  </style>\n",
              "\n",
              "    <script>\n",
              "      const buttonEl =\n",
              "        document.querySelector('#df-dafa7f45-0e7f-4027-99a5-053f662f878f button.colab-df-convert');\n",
              "      buttonEl.style.display =\n",
              "        google.colab.kernel.accessAllowed ? 'block' : 'none';\n",
              "\n",
              "      async function convertToInteractive(key) {\n",
              "        const element = document.querySelector('#df-dafa7f45-0e7f-4027-99a5-053f662f878f');\n",
              "        const dataTable =\n",
              "          await google.colab.kernel.invokeFunction('convertToInteractive',\n",
              "                                                    [key], {});\n",
              "        if (!dataTable) return;\n",
              "\n",
              "        const docLinkHtml = 'Like what you see? Visit the ' +\n",
              "          '<a target=\"_blank\" href=https://colab.research.google.com/notebooks/data_table.ipynb>data table notebook</a>'\n",
              "          + ' to learn more about interactive tables.';\n",
              "        element.innerHTML = '';\n",
              "        dataTable['output_type'] = 'display_data';\n",
              "        await google.colab.output.renderOutput(dataTable, element);\n",
              "        const docLink = document.createElement('div');\n",
              "        docLink.innerHTML = docLinkHtml;\n",
              "        element.appendChild(docLink);\n",
              "      }\n",
              "    </script>\n",
              "  </div>\n",
              "\n",
              "\n",
              "<div id=\"df-36a336b5-6c11-4e68-96ec-f15e51aaa506\">\n",
              "  <button class=\"colab-df-quickchart\" onclick=\"quickchart('df-36a336b5-6c11-4e68-96ec-f15e51aaa506')\"\n",
              "            title=\"Suggest charts\"\n",
              "            style=\"display:none;\">\n",
              "\n",
              "<svg xmlns=\"http://www.w3.org/2000/svg\" height=\"24px\"viewBox=\"0 0 24 24\"\n",
              "     width=\"24px\">\n",
              "    <g>\n",
              "        <path d=\"M19 3H5c-1.1 0-2 .9-2 2v14c0 1.1.9 2 2 2h14c1.1 0 2-.9 2-2V5c0-1.1-.9-2-2-2zM9 17H7v-7h2v7zm4 0h-2V7h2v10zm4 0h-2v-4h2v4z\"/>\n",
              "    </g>\n",
              "</svg>\n",
              "  </button>\n",
              "\n",
              "<style>\n",
              "  .colab-df-quickchart {\n",
              "      --bg-color: #E8F0FE;\n",
              "      --fill-color: #1967D2;\n",
              "      --hover-bg-color: #E2EBFA;\n",
              "      --hover-fill-color: #174EA6;\n",
              "      --disabled-fill-color: #AAA;\n",
              "      --disabled-bg-color: #DDD;\n",
              "  }\n",
              "\n",
              "  [theme=dark] .colab-df-quickchart {\n",
              "      --bg-color: #3B4455;\n",
              "      --fill-color: #D2E3FC;\n",
              "      --hover-bg-color: #434B5C;\n",
              "      --hover-fill-color: #FFFFFF;\n",
              "      --disabled-bg-color: #3B4455;\n",
              "      --disabled-fill-color: #666;\n",
              "  }\n",
              "\n",
              "  .colab-df-quickchart {\n",
              "    background-color: var(--bg-color);\n",
              "    border: none;\n",
              "    border-radius: 50%;\n",
              "    cursor: pointer;\n",
              "    display: none;\n",
              "    fill: var(--fill-color);\n",
              "    height: 32px;\n",
              "    padding: 0;\n",
              "    width: 32px;\n",
              "  }\n",
              "\n",
              "  .colab-df-quickchart:hover {\n",
              "    background-color: var(--hover-bg-color);\n",
              "    box-shadow: 0 1px 2px rgba(60, 64, 67, 0.3), 0 1px 3px 1px rgba(60, 64, 67, 0.15);\n",
              "    fill: var(--button-hover-fill-color);\n",
              "  }\n",
              "\n",
              "  .colab-df-quickchart-complete:disabled,\n",
              "  .colab-df-quickchart-complete:disabled:hover {\n",
              "    background-color: var(--disabled-bg-color);\n",
              "    fill: var(--disabled-fill-color);\n",
              "    box-shadow: none;\n",
              "  }\n",
              "\n",
              "  .colab-df-spinner {\n",
              "    border: 2px solid var(--fill-color);\n",
              "    border-color: transparent;\n",
              "    border-bottom-color: var(--fill-color);\n",
              "    animation:\n",
              "      spin 1s steps(1) infinite;\n",
              "  }\n",
              "\n",
              "  @keyframes spin {\n",
              "    0% {\n",
              "      border-color: transparent;\n",
              "      border-bottom-color: var(--fill-color);\n",
              "      border-left-color: var(--fill-color);\n",
              "    }\n",
              "    20% {\n",
              "      border-color: transparent;\n",
              "      border-left-color: var(--fill-color);\n",
              "      border-top-color: var(--fill-color);\n",
              "    }\n",
              "    30% {\n",
              "      border-color: transparent;\n",
              "      border-left-color: var(--fill-color);\n",
              "      border-top-color: var(--fill-color);\n",
              "      border-right-color: var(--fill-color);\n",
              "    }\n",
              "    40% {\n",
              "      border-color: transparent;\n",
              "      border-right-color: var(--fill-color);\n",
              "      border-top-color: var(--fill-color);\n",
              "    }\n",
              "    60% {\n",
              "      border-color: transparent;\n",
              "      border-right-color: var(--fill-color);\n",
              "    }\n",
              "    80% {\n",
              "      border-color: transparent;\n",
              "      border-right-color: var(--fill-color);\n",
              "      border-bottom-color: var(--fill-color);\n",
              "    }\n",
              "    90% {\n",
              "      border-color: transparent;\n",
              "      border-bottom-color: var(--fill-color);\n",
              "    }\n",
              "  }\n",
              "</style>\n",
              "\n",
              "  <script>\n",
              "    async function quickchart(key) {\n",
              "      const quickchartButtonEl =\n",
              "        document.querySelector('#' + key + ' button');\n",
              "      quickchartButtonEl.disabled = true;  // To prevent multiple clicks.\n",
              "      quickchartButtonEl.classList.add('colab-df-spinner');\n",
              "      try {\n",
              "        const charts = await google.colab.kernel.invokeFunction(\n",
              "            'suggestCharts', [key], {});\n",
              "      } catch (error) {\n",
              "        console.error('Error during call to suggestCharts:', error);\n",
              "      }\n",
              "      quickchartButtonEl.classList.remove('colab-df-spinner');\n",
              "      quickchartButtonEl.classList.add('colab-df-quickchart-complete');\n",
              "    }\n",
              "    (() => {\n",
              "      let quickchartButtonEl =\n",
              "        document.querySelector('#df-36a336b5-6c11-4e68-96ec-f15e51aaa506 button');\n",
              "      quickchartButtonEl.style.display =\n",
              "        google.colab.kernel.accessAllowed ? 'block' : 'none';\n",
              "    })();\n",
              "  </script>\n",
              "</div>\n",
              "    </div>\n",
              "  </div>\n"
            ],
            "application/vnd.google.colaboratory.intrinsic+json": {
              "type": "dataframe",
              "variable_name": "df",
              "summary": "{\n  \"name\": \"df\",\n  \"rows\": 10916,\n  \"fields\": [\n    {\n      \"column\": \"\\u041c\\u043e\\u0434\\u0435\\u043b\\u044c\",\n      \"properties\": {\n        \"dtype\": \"string\",\n        \"num_unique_values\": 9784,\n        \"samples\": [\n          \"Courses AI\",\n          \"AI Assisted Doctor\",\n          \"Benchmark Email\"\n        ],\n        \"semantic_type\": \"\",\n        \"description\": \"\"\n      }\n    },\n    {\n      \"column\": \"\\u0417\\u0430\\u0434\\u0430\\u0447\\u0430\",\n      \"properties\": {\n        \"dtype\": \"category\",\n        \"num_unique_values\": 1952,\n        \"samples\": [\n          \"\\u0421\\u0442\\u0440\\u0430\\u0442\\u0435\\u0433\\u0438\\u0447\\u0435\\u0441\\u043a\\u0438\\u0439 \\u043e\\u0442\\u0432\\u0435\\u0442\",\n          \"\\u0422\\u0435\\u043a\\u0441\\u0442\\u043e\\u0432\\u044b\\u0435 \\u043f\\u043e\\u044f\\u0441\\u043d\\u0435\\u043d\\u0438\\u044f \\u0441 \\u043f\\u043e\\u043c\\u043e\\u0449\\u044c\\u044e \\u0430\\u043d\\u0430\\u043b\\u043e\\u0433\\u0438\\u0439\",\n          \"\\u041e\\u043f\\u044b\\u0442 \\u0440\\u0430\\u0431\\u043e\\u0442\\u044b \\u0441 \\u043f\\u043e\\u043a\\u0443\\u043f\\u0430\\u0442\\u0435\\u043b\\u044f\\u043c\\u0438\"\n        ],\n        \"semantic_type\": \"\",\n        \"description\": \"\"\n      }\n    },\n    {\n      \"column\": \"\\u041e\\u043f\\u0438\\u0441\\u0430\\u043d\\u0438\\u0435\",\n      \"properties\": {\n        \"dtype\": \"string\",\n        \"num_unique_values\": 10045,\n        \"samples\": [\n          \"Leanbe - \\u044d\\u0442\\u043e \\u043f\\u043b\\u0430\\u0442\\u0444\\u043e\\u0440\\u043c\\u0430 \\u0443\\u043f\\u0440\\u0430\\u0432\\u043b\\u0435\\u043d\\u0438\\u044f \\u043f\\u0440\\u043e\\u0434\\u0443\\u043a\\u0442\\u0430\\u043c\\u0438 \\u0434\\u043b\\u044f \\u043a\\u043e\\u043c\\u0430\\u043d\\u0434, \\u0443\\u043f\\u0440\\u0430\\u0432\\u043b\\u044f\\u0435\\u043c\\u044b\\u0445 \\u0434\\u0430\\u043d\\u043d\\u044b\\u043c\\u0438, \\u043a\\u043e\\u0442\\u043e\\u0440\\u0430\\u044f \\u043f\\u043e\\u043c\\u043e\\u0433\\u0430\\u0435\\u0442 \\u0441\\u043e\\u0431\\u0438\\u0440\\u0430\\u0442\\u044c \\u0437\\u0430\\u043f\\u0440\\u043e\\u0441\\u044b \\u043d\\u0430 \\u0444\\u0443\\u043d\\u043a\\u0446\\u0438\\u0438 \\u0438 \\u043e\\u0442\\u0437\\u044b\\u0432\\u044b, \\u0441\\u043e\\u0437\\u0434\\u0430\\u0432\\u0430\\u0442\\u044c \\u0434\\u043e\\u0440\\u043e\\u0436\\u043d\\u044b\\u0435 \\u043a\\u0430\\u0440\\u0442\\u044b \\u043f\\u0440\\u043e\\u0434\\u0443\\u043a\\u0442\\u043e\\u0432 \\u043d\\u0430 \\u043e\\u0441\\u043d\\u043e\\u0432\\u0435 \\u043f\\u043e\\u0442\\u0440\\u0435\\u0431\\u043d\\u043e\\u0441\\u0442\\u0435\\u0439 \\u043a\\u043b\\u0438\\u0435\\u043d\\u0442\\u043e\\u0432 \\u0438 \\u043e\\u0431\\u044a\\u044f\\u0432\\u043b\\u044f\\u0442\\u044c \\u043e\\u0431 \\u043e\\u0431\\u043d\\u043e\\u0432\\u043b\\u0435\\u043d\\u0438\\u044f\\u0445 \\u043f\\u0440\\u043e\\u0434\\u0443\\u043a\\u0442\\u043e\\u0432.\",\n          \"Sly Fish AI - \\u044d\\u0442\\u043e \\u043f\\u0440\\u043e\\u0434\\u0432\\u0438\\u043d\\u0443\\u0442\\u044b\\u0439 \\u0438\\u043d\\u0441\\u0442\\u0440\\u0443\\u043c\\u0435\\u043d\\u0442 \\u0438\\u0441\\u043a\\u0443\\u0441\\u0441\\u0442\\u0432\\u0435\\u043d\\u043d\\u043e\\u0433\\u043e \\u0438\\u043d\\u0442\\u0435\\u043b\\u043b\\u0435\\u043a\\u0442\\u0430, \\u043a\\u043e\\u0442\\u043e\\u0440\\u044b\\u0439 \\u043f\\u0440\\u0435\\u0434\\u043b\\u0430\\u0433\\u0430\\u0435\\u0442 \\u043f\\u0435\\u0440\\u0435\\u0434\\u043e\\u0432\\u044b\\u0435 \\u0442\\u0435\\u0445\\u043d\\u043e\\u043b\\u043e\\u0433\\u0438\\u0438 \\u0434\\u043b\\u044f \\u0431\\u0435\\u0441\\u0448\\u043e\\u0432\\u043d\\u043e\\u0433\\u043e \\u0441\\u043e\\u0437\\u0434\\u0430\\u043d\\u0438\\u044f \\u043a\\u043e\\u043d\\u0442\\u0435\\u043d\\u0442\\u0430, \\u0433\\u0435\\u043d\\u0435\\u0440\\u0430\\u0446\\u0438\\u0438 \\u0438\\u0437\\u043e\\u0431\\u0440\\u0430\\u0436\\u0435\\u043d\\u0438\\u0439, \\u0443\\u0441\\u043b\\u0443\\u0433\\u0438 \\u0432\\u0438\\u0440\\u0442\\u0443\\u0430\\u043b\\u044c\\u043d\\u043e\\u0433\\u043e \\u043f\\u043e\\u043c\\u043e\\u0449\\u043d\\u0438\\u043a\\u0430 \\u0438 \\u0440\\u0430\\u0441\\u0448\\u0438\\u0440\\u0435\\u043d\\u043d\\u044b\\u0435 \\u0432\\u043e\\u0437\\u043c\\u043e\\u0436\\u043d\\u043e\\u0441\\u0442\\u0438, \\u0442\\u0430\\u043a\\u0438\\u0435 \\u043a\\u0430\\u043a \\u043f\\u0440\\u0435\\u043e\\u0431\\u0440\\u0430\\u0437\\u043e\\u0432\\u0430\\u043d\\u0438\\u0435 \\u0442\\u0435\\u043a\\u0441\\u0442\\u0430 \\u0432 \\u0440\\u0435\\u0447\\u044c \\u0438 \\u0442\\u0435\\u043a\\u0441\\u0442\\u0430 \\u0432 \\u0438\\u0437\\u043e\\u0431\\u0440\\u0430\\u0436\\u0435\\u043d\\u0438\\u0435.\",\n          \"\\u0411\\u044b\\u0441\\u0442\\u0440\\u0435\\u0435 \\u043d\\u0430\\u0439\\u0434\\u0438\\u0442\\u0435 \\u0440\\u0430\\u0431\\u043e\\u0442\\u0443 \\u0441\\u0432\\u043e\\u0435\\u0439 \\u043c\\u0435\\u0447\\u0442\\u044b \\u0441 \\u043f\\u043e\\u043c\\u043e\\u0449\\u044c\\u044e \\u0443\\u0434\\u043e\\u0431\\u043d\\u044b\\u0445 \\u0438\\u043d\\u0441\\u0442\\u0440\\u0443\\u043c\\u0435\\u043d\\u0442\\u043e\\u0432 \\u0438\\u0441\\u043a\\u0443\\u0441\\u0441\\u0442\\u0432\\u0435\\u043d\\u043d\\u043e\\u0433\\u043e \\u0438\\u043d\\u0442\\u0435\\u043b\\u043b\\u0435\\u043a\\u0442\\u0430. \\u041c\\u0433\\u043d\\u043e\\u0432\\u0435\\u043d\\u043d\\u043e \\u043e\\u043f\\u0442\\u0438\\u043c\\u0438\\u0437\\u0438\\u0440\\u0443\\u0439\\u0442\\u0435 \\u0441\\u0432\\u043e\\u0435 \\u0440\\u0435\\u0437\\u044e\\u043c\\u0435 \\u0438 \\u0441\\u043e\\u043f\\u0440\\u043e\\u0432\\u043e\\u0434\\u0438\\u0442\\u0435\\u043b\\u044c\\u043d\\u043e\\u0435 \\u043f\\u0438\\u0441\\u044c\\u043c\\u043e \\u0434\\u043b\\u044f \\u043b\\u044e\\u0431\\u043e\\u0439 \\u0432\\u0430\\u043a\\u0430\\u043d\\u0441\\u0438\\u0438. \\u041e\\u0442\\u0440\\u0430\\u0431\\u0430\\u0442\\u044b\\u0432\\u0430\\u0439\\u0442\\u0435 \\u0432\\u043e\\u043f\\u0440\\u043e\\u0441\\u044b \\u043d\\u0430 \\u0441\\u043e\\u0431\\u0435\\u0441\\u0435\\u0434\\u043e\\u0432\\u0430\\u043d\\u0438\\u0438 \\u0441 \\u043f\\u043e\\u043c\\u043e\\u0449\\u044c\\u044e \\u0434\\u0435\\u0439\\u0441\\u0442\\u0432\\u0435\\u043d\\u043d\\u043e\\u0439 \\u043e\\u0431\\u0440\\u0430\\u0442\\u043d\\u043e\\u0439 \\u0441\\u0432\\u044f\\u0437\\u0438 \\u0432 \\u0440\\u0435\\u0436\\u0438\\u043c\\u0435 \\u0440\\u0435\\u0430\\u043b\\u044c\\u043d\\u043e\\u0433\\u043e \\u0432\\u0440\\u0435\\u043c\\u0435\\u043d\\u0438.\"\n        ],\n        \"semantic_type\": \"\",\n        \"description\": \"\"\n      }\n    },\n    {\n      \"column\": \"\\u041e\\u0446\\u0435\\u043d\\u043a\\u0430\",\n      \"properties\": {\n        \"dtype\": \"number\",\n        \"std\": 1.8884330918670793,\n        \"min\": 0.0,\n        \"max\": 5.0,\n        \"num_unique_values\": 38,\n        \"samples\": [\n          1.9,\n          3.1,\n          5.0\n        ],\n        \"semantic_type\": \"\",\n        \"description\": \"\"\n      }\n    },\n    {\n      \"column\": \"\\u0421\\u0444\\u0435\\u0440\\u0430\",\n      \"properties\": {\n        \"dtype\": \"category\",\n        \"num_unique_values\": 10,\n        \"samples\": [\n          \"\\u0421\\u0442\\u0440\\u043e\\u0438\\u0442\\u0435\\u043b\\u044c\\u0441\\u0442\\u0432\\u043e\",\n          \"\\u0413\\u043e\\u0441\\u0442\\u0435\\u043f\\u0440\\u0438\\u0438\\u043c\\u0441\\u0442\\u0432\\u043e\",\n          \"\\u041c\\u0435\\u0434\\u0438\\u0446\\u0438\\u043d\\u0430 \\u0438 \\u0437\\u0434\\u0440\\u0430\\u0432\\u043e\\u043e\\u0445\\u0440\\u0430\\u043d\\u0435\\u043d\\u0438\\u0435\"\n        ],\n        \"semantic_type\": \"\",\n        \"description\": \"\"\n      }\n    }\n  ]\n}"
            }
          },
          "metadata": {},
          "execution_count": 1
        }
      ],
      "source": [
        "import pandas as pd\n",
        "\n",
        "read_file = pd.read_excel (\"/content/AIs — копия.xlsx\")\n",
        "\n",
        "read_file.to_csv (\"AIs.csv\",\n",
        "                  index = None,\n",
        "                  header=True)\n",
        "\n",
        "df = pd.DataFrame(pd.read_csv(\"AIs.csv\"))\n",
        "\n",
        "df"
      ]
    },
    {
      "cell_type": "code",
      "source": [
        "import matplotlib.pyplot as plt\n",
        "\n",
        "marks = df['Оценка'].values\n",
        "plt.hist(marks, bins=100)\n",
        "plt.ylabel('Probability')\n",
        "plt.xlabel('Data')"
      ],
      "metadata": {
        "colab": {
          "base_uri": "https://localhost:8080/",
          "height": 466
        },
        "id": "gmz6KJStwdco",
        "outputId": "92a39085-4c5b-4415-9f0c-3660965b4de9"
      },
      "execution_count": null,
      "outputs": [
        {
          "output_type": "execute_result",
          "data": {
            "text/plain": [
              "Text(0.5, 0, 'Data')"
            ]
          },
          "metadata": {},
          "execution_count": 49
        },
        {
          "output_type": "display_data",
          "data": {
            "text/plain": [
              "<Figure size 640x480 with 1 Axes>"
            ],
            "image/png": "[encoded data removed]"
          },
          "metadata": {}
        }
      ]
    },
    {
      "cell_type": "code",
      "source": [
        "com=df.loc[df['Сфера'] == 'Коммуникация и PR']\n",
        "com"
      ],
      "metadata": {
        "colab": {
          "base_uri": "https://localhost:8080/",
          "height": 424
        },
        "id": "diCc_cUaylRD",
        "outputId": "2f0d77ad-7f07-4864-a3e9-129f30a9f15b"
      },
      "execution_count": null,
      "outputs": [
        {
          "output_type": "execute_result",
          "data": {
            "text/plain": [
              "                    Модель                                Задача  \\\n",
              "4313              Skyglass                             360 фонов   \n",
              "4314              Cerelyze            Академические исследования   \n",
              "4315                Elicit            Академические исследования   \n",
              "4316               Epsilon            Академические исследования   \n",
              "4317               Feynman            Академические исследования   \n",
              "...                    ...                                   ...   \n",
              "8336            Transvribe  Вопросы и ответы по видео на Youtube   \n",
              "8337               YouTalk  Вопросы и ответы по видео на Youtube   \n",
              "8338  Youtube AI Assistant  Вопросы и ответы по видео на Youtube   \n",
              "8339    YouTube to Chatbot  Вопросы и ответы по видео на Youtube   \n",
              "8340  Digital surface labs            Видео с YouTube для блогов   \n",
              "\n",
              "                                               Описание  Оценка  \\\n",
              "4313  Skyglass - это инструмент искусственного интел...     0.0   \n",
              "4314  Cerelyze - это инструмент искусственного интел...     4.0   \n",
              "4315  Elicit - ассистент по исследованиям в области ...     4.1   \n",
              "4316  Epsilon - это инструмент искусственного интелл...     4.7   \n",
              "4317  Feynman AI - это инструмент на базе искусствен...     0.0   \n",
              "...                                                 ...     ...   \n",
              "8336  Transvribe - это инструмент искусственного инт...     0.0   \n",
              "8337  YouTalk - это расширение для Chrome, которое р...     5.0   \n",
              "8338  Youtube Assistant, расширение для Chrome от Ki...     0.0   \n",
              "8339  Инструмент \"Youtube to Chatbot\", предлагаемый ...     0.0   \n",
              "8340  Digital Surface is an online AI-powered tool t...     0.0   \n",
              "\n",
              "                  Сфера  \n",
              "4313  Коммуникация и PR  \n",
              "4314  Коммуникация и PR  \n",
              "4315  Коммуникация и PR  \n",
              "4316  Коммуникация и PR  \n",
              "4317  Коммуникация и PR  \n",
              "...                 ...  \n",
              "8336  Коммуникация и PR  \n",
              "8337  Коммуникация и PR  \n",
              "8338  Коммуникация и PR  \n",
              "8339  Коммуникация и PR  \n",
              "8340  Коммуникация и PR  \n",
              "\n",
              "[4028 rows x 5 columns]"
            ],
            "text/html": [
              "\n",
              "  <div id=\"df-e33477c0-a331-4fb7-8e0a-3901f69c9126\" class=\"colab-df-container\">\n",
              "    <div>\n",
              "<style scoped>\n",
              "    .dataframe tbody tr th:only-of-type {\n",
              "        vertical-align: middle;\n",
              "    }\n",
              "\n",
              "    .dataframe tbody tr th {\n",
              "        vertical-align: top;\n",
              "    }\n",
              "\n",
              "    .dataframe thead th {\n",
              "        text-align: right;\n",
              "    }\n",
              "</style>\n",
              "<table border=\"1\" class=\"dataframe\">\n",
              "  <thead>\n",
              "    <tr style=\"text-align: right;\">\n",
              "      <th></th>\n",
              "      <th>Модель</th>\n",
              "      <th>Задача</th>\n",
              "      <th>Описание</th>\n",
              "      <th>Оценка</th>\n",
              "      <th>Сфера</th>\n",
              "    </tr>\n",
              "  </thead>\n",
              "  <tbody>\n",
              "    <tr>\n",
              "      <th>4313</th>\n",
              "      <td>Skyglass</td>\n",
              "      <td>360 фонов</td>\n",
              "      <td>Skyglass - это инструмент искусственного интел...</td>\n",
              "      <td>0.0</td>\n",
              "      <td>Коммуникация и PR</td>\n",
              "    </tr>\n",
              "    <tr>\n",
              "      <th>4314</th>\n",
              "      <td>Cerelyze</td>\n",
              "      <td>Академические исследования</td>\n",
              "      <td>Cerelyze - это инструмент искусственного интел...</td>\n",
              "      <td>4.0</td>\n",
              "      <td>Коммуникация и PR</td>\n",
              "    </tr>\n",
              "    <tr>\n",
              "      <th>4315</th>\n",
              "      <td>Elicit</td>\n",
              "      <td>Академические исследования</td>\n",
              "      <td>Elicit - ассистент по исследованиям в области ...</td>\n",
              "      <td>4.1</td>\n",
              "      <td>Коммуникация и PR</td>\n",
              "    </tr>\n",
              "    <tr>\n",
              "      <th>4316</th>\n",
              "      <td>Epsilon</td>\n",
              "      <td>Академические исследования</td>\n",
              "      <td>Epsilon - это инструмент искусственного интелл...</td>\n",
              "      <td>4.7</td>\n",
              "      <td>Коммуникация и PR</td>\n",
              "    </tr>\n",
              "    <tr>\n",
              "      <th>4317</th>\n",
              "      <td>Feynman</td>\n",
              "      <td>Академические исследования</td>\n",
              "      <td>Feynman AI - это инструмент на базе искусствен...</td>\n",
              "      <td>0.0</td>\n",
              "      <td>Коммуникация и PR</td>\n",
              "    </tr>\n",
              "    <tr>\n",
              "      <th>...</th>\n",
              "      <td>...</td>\n",
              "      <td>...</td>\n",
              "      <td>...</td>\n",
              "      <td>...</td>\n",
              "      <td>...</td>\n",
              "    </tr>\n",
              "    <tr>\n",
              "      <th>8336</th>\n",
              "      <td>Transvribe</td>\n",
              "      <td>Вопросы и ответы по видео на Youtube</td>\n",
              "      <td>Transvribe - это инструмент искусственного инт...</td>\n",
              "      <td>0.0</td>\n",
              "      <td>Коммуникация и PR</td>\n",
              "    </tr>\n",
              "    <tr>\n",
              "      <th>8337</th>\n",
              "      <td>YouTalk</td>\n",
              "      <td>Вопросы и ответы по видео на Youtube</td>\n",
              "      <td>YouTalk - это расширение для Chrome, которое р...</td>\n",
              "      <td>5.0</td>\n",
              "      <td>Коммуникация и PR</td>\n",
              "    </tr>\n",
              "    <tr>\n",
              "      <th>8338</th>\n",
              "      <td>Youtube AI Assistant</td>\n",
              "      <td>Вопросы и ответы по видео на Youtube</td>\n",
              "      <td>Youtube Assistant, расширение для Chrome от Ki...</td>\n",
              "      <td>0.0</td>\n",
              "      <td>Коммуникация и PR</td>\n",
              "    </tr>\n",
              "    <tr>\n",
              "      <th>8339</th>\n",
              "      <td>YouTube to Chatbot</td>\n",
              "      <td>Вопросы и ответы по видео на Youtube</td>\n",
              "      <td>Инструмент \"Youtube to Chatbot\", предлагаемый ...</td>\n",
              "      <td>0.0</td>\n",
              "      <td>Коммуникация и PR</td>\n",
              "    </tr>\n",
              "    <tr>\n",
              "      <th>8340</th>\n",
              "      <td>Digital surface labs</td>\n",
              "      <td>Видео с YouTube для блогов</td>\n",
              "      <td>Digital Surface is an online AI-powered tool t...</td>\n",
              "      <td>0.0</td>\n",
              "      <td>Коммуникация и PR</td>\n",
              "    </tr>\n",
              "  </tbody>\n",
              "</table>\n",
              "<p>4028 rows × 5 columns</p>\n",
              "</div>\n",
              "    <div class=\"colab-df-buttons\">\n",
              "\n",
              "  <div class=\"colab-df-container\">\n",
              "    <button class=\"colab-df-convert\" onclick=\"convertToInteractive('df-e33477c0-a331-4fb7-8e0a-3901f69c9126')\"\n",
              "            title=\"Convert this dataframe to an interactive table.\"\n",
              "            style=\"display:none;\">\n",
              "\n",
              "  <svg xmlns=\"http://www.w3.org/2000/svg\" height=\"24px\" viewBox=\"0 -960 960 960\">\n",
              "    <path d=\"M120-120v-720h720v720H120Zm60-500h600v-160H180v160Zm220 220h160v-160H400v160Zm0 220h160v-160H400v160ZM180-400h160v-160H180v160Zm440 0h160v-160H620v160ZM180-180h160v-160H180v160Zm440 0h160v-160H620v160Z\"/>\n",
              "  </svg>\n",
              "    </button>\n",
              "\n",
              "  <style>\n",
              "    .colab-df-container {\n",
              "      display:flex;\n",
              "      gap: 12px;\n",
              "    }\n",
              "\n",
              "    .colab-df-convert {\n",
              "      background-color: #E8F0FE;\n",
              "      border: none;\n",
              "      border-radius: 50%;\n",
              "      cursor: pointer;\n",
              "      display: none;\n",
              "      fill: #1967D2;\n",
              "      height: 32px;\n",
              "      padding: 0 0 0 0;\n",
              "      width: 32px;\n",
              "    }\n",
              "\n",
              "    .colab-df-convert:hover {\n",
              "      background-color: #E2EBFA;\n",
              "      box-shadow: 0px 1px 2px rgba(60, 64, 67, 0.3), 0px 1px 3px 1px rgba(60, 64, 67, 0.15);\n",
              "      fill: #174EA6;\n",
              "    }\n",
              "\n",
              "    .colab-df-buttons div {\n",
              "      margin-bottom: 4px;\n",
              "    }\n",
              "\n",
              "    [theme=dark] .colab-df-convert {\n",
              "      background-color: #3B4455;\n",
              "      fill: #D2E3FC;\n",
              "    }\n",
              "\n",
              "    [theme=dark] .colab-df-convert:hover {\n",
              "      background-color: #434B5C;\n",
              "      box-shadow: 0px 1px 3px 1px rgba(0, 0, 0, 0.15);\n",
              "      filter: drop-shadow(0px 1px 2px rgba(0, 0, 0, 0.3));\n",
              "      fill: #FFFFFF;\n",
              "    }\n",
              "  </style>\n",
              "\n",
              "    <script>\n",
              "      const buttonEl =\n",
              "        document.querySelector('#df-e33477c0-a331-4fb7-8e0a-3901f69c9126 button.colab-df-convert');\n",
              "      buttonEl.style.display =\n",
              "        google.colab.kernel.accessAllowed ? 'block' : 'none';\n",
              "\n",
              "      async function convertToInteractive(key) {\n",
              "        const element = document.querySelector('#df-e33477c0-a331-4fb7-8e0a-3901f69c9126');\n",
              "        const dataTable =\n",
              "          await google.colab.kernel.invokeFunction('convertToInteractive',\n",
              "                                                    [key], {});\n",
              "        if (!dataTable) return;\n",
              "\n",
              "        const docLinkHtml = 'Like what you see? Visit the ' +\n",
              "          '<a target=\"_blank\" href=https://colab.research.google.com/notebooks/data_table.ipynb>data table notebook</a>'\n",
              "          + ' to learn more about interactive tables.';\n",
              "        element.innerHTML = '';\n",
              "        dataTable['output_type'] = 'display_data';\n",
              "        await google.colab.output.renderOutput(dataTable, element);\n",
              "        const docLink = document.createElement('div');\n",
              "        docLink.innerHTML = docLinkHtml;\n",
              "        element.appendChild(docLink);\n",
              "      }\n",
              "    </script>\n",
              "  </div>\n",
              "\n",
              "\n",
              "<div id=\"df-5b5b12c5-8f90-402e-a921-f8d5301ea23b\">\n",
              "  <button class=\"colab-df-quickchart\" onclick=\"quickchart('df-5b5b12c5-8f90-402e-a921-f8d5301ea23b')\"\n",
              "            title=\"Suggest charts\"\n",
              "            style=\"display:none;\">\n",
              "\n",
              "<svg xmlns=\"http://www.w3.org/2000/svg\" height=\"24px\"viewBox=\"0 0 24 24\"\n",
              "     width=\"24px\">\n",
              "    <g>\n",
              "        <path d=\"M19 3H5c-1.1 0-2 .9-2 2v14c0 1.1.9 2 2 2h14c1.1 0 2-.9 2-2V5c0-1.1-.9-2-2-2zM9 17H7v-7h2v7zm4 0h-2V7h2v10zm4 0h-2v-4h2v4z\"/>\n",
              "    </g>\n",
              "</svg>\n",
              "  </button>\n",
              "\n",
              "<style>\n",
              "  .colab-df-quickchart {\n",
              "      --bg-color: #E8F0FE;\n",
              "      --fill-color: #1967D2;\n",
              "      --hover-bg-color: #E2EBFA;\n",
              "      --hover-fill-color: #174EA6;\n",
              "      --disabled-fill-color: #AAA;\n",
              "      --disabled-bg-color: #DDD;\n",
              "  }\n",
              "\n",
              "  [theme=dark] .colab-df-quickchart {\n",
              "      --bg-color: #3B4455;\n",
              "      --fill-color: #D2E3FC;\n",
              "      --hover-bg-color: #434B5C;\n",
              "      --hover-fill-color: #FFFFFF;\n",
              "      --disabled-bg-color: #3B4455;\n",
              "      --disabled-fill-color: #666;\n",
              "  }\n",
              "\n",
              "  .colab-df-quickchart {\n",
              "    background-color: var(--bg-color);\n",
              "    border: none;\n",
              "    border-radius: 50%;\n",
              "    cursor: pointer;\n",
              "    display: none;\n",
              "    fill: var(--fill-color);\n",
              "    height: 32px;\n",
              "    padding: 0;\n",
              "    width: 32px;\n",
              "  }\n",
              "\n",
              "  .colab-df-quickchart:hover {\n",
              "    background-color: var(--hover-bg-color);\n",
              "    box-shadow: 0 1px 2px rgba(60, 64, 67, 0.3), 0 1px 3px 1px rgba(60, 64, 67, 0.15);\n",
              "    fill: var(--button-hover-fill-color);\n",
              "  }\n",
              "\n",
              "  .colab-df-quickchart-complete:disabled,\n",
              "  .colab-df-quickchart-complete:disabled:hover {\n",
              "    background-color: var(--disabled-bg-color);\n",
              "    fill: var(--disabled-fill-color);\n",
              "    box-shadow: none;\n",
              "  }\n",
              "\n",
              "  .colab-df-spinner {\n",
              "    border: 2px solid var(--fill-color);\n",
              "    border-color: transparent;\n",
              "    border-bottom-color: var(--fill-color);\n",
              "    animation:\n",
              "      spin 1s steps(1) infinite;\n",
              "  }\n",
              "\n",
              "  @keyframes spin {\n",
              "    0% {\n",
              "      border-color: transparent;\n",
              "      border-bottom-color: var(--fill-color);\n",
              "      border-left-color: var(--fill-color);\n",
              "    }\n",
              "    20% {\n",
              "      border-color: transparent;\n",
              "      border-left-color: var(--fill-color);\n",
              "      border-top-color: var(--fill-color);\n",
              "    }\n",
              "    30% {\n",
              "      border-color: transparent;\n",
              "      border-left-color: var(--fill-color);\n",
              "      border-top-color: var(--fill-color);\n",
              "      border-right-color: var(--fill-color);\n",
              "    }\n",
              "    40% {\n",
              "      border-color: transparent;\n",
              "      border-right-color: var(--fill-color);\n",
              "      border-top-color: var(--fill-color);\n",
              "    }\n",
              "    60% {\n",
              "      border-color: transparent;\n",
              "      border-right-color: var(--fill-color);\n",
              "    }\n",
              "    80% {\n",
              "      border-color: transparent;\n",
              "      border-right-color: var(--fill-color);\n",
              "      border-bottom-color: var(--fill-color);\n",
              "    }\n",
              "    90% {\n",
              "      border-color: transparent;\n",
              "      border-bottom-color: var(--fill-color);\n",
              "    }\n",
              "  }\n",
              "</style>\n",
              "\n",
              "  <script>\n",
              "    async function quickchart(key) {\n",
              "      const quickchartButtonEl =\n",
              "        document.querySelector('#' + key + ' button');\n",
              "      quickchartButtonEl.disabled = true;  // To prevent multiple clicks.\n",
              "      quickchartButtonEl.classList.add('colab-df-spinner');\n",
              "      try {\n",
              "        const charts = await google.colab.kernel.invokeFunction(\n",
              "            'suggestCharts', [key], {});\n",
              "      } catch (error) {\n",
              "        console.error('Error during call to suggestCharts:', error);\n",
              "      }\n",
              "      quickchartButtonEl.classList.remove('colab-df-spinner');\n",
              "      quickchartButtonEl.classList.add('colab-df-quickchart-complete');\n",
              "    }\n",
              "    (() => {\n",
              "      let quickchartButtonEl =\n",
              "        document.querySelector('#df-5b5b12c5-8f90-402e-a921-f8d5301ea23b button');\n",
              "      quickchartButtonEl.style.display =\n",
              "        google.colab.kernel.accessAllowed ? 'block' : 'none';\n",
              "    })();\n",
              "  </script>\n",
              "</div>\n",
              "    </div>\n",
              "  </div>\n"
            ],
            "application/vnd.google.colaboratory.intrinsic+json": {
              "type": "dataframe",
              "variable_name": "com",
              "summary": "{\n  \"name\": \"com\",\n  \"rows\": 4028,\n  \"fields\": [\n    {\n      \"column\": \"\\u041c\\u043e\\u0434\\u0435\\u043b\\u044c\",\n      \"properties\": {\n        \"dtype\": \"string\",\n        \"num_unique_values\": 4008,\n        \"samples\": [\n          \"AGI Agent GPT\",\n          \"Vscoped\",\n          \"Blaze AI\"\n        ],\n        \"semantic_type\": \"\",\n        \"description\": \"\"\n      }\n    },\n    {\n      \"column\": \"\\u0417\\u0430\\u0434\\u0430\\u0447\\u0430\",\n      \"properties\": {\n        \"dtype\": \"category\",\n        \"num_unique_values\": 734,\n        \"samples\": [\n          \"\\u0421\\u043e\\u0446\\u0438\\u0430\\u043b\\u044c\\u043d\\u0430\\u044f \\u0441\\u0435\\u0442\\u044c\",\n          \"\\u0410\\u0443\\u0434\\u0438\\u043e\\u043a\\u0430\\u0440\\u0442\\u043e\\u0447\\u043a\\u0438\",\n          \"\\u041f\\u043e\\u0434\\u043a\\u0430\\u0441\\u0442 HackerNews\"\n        ],\n        \"semantic_type\": \"\",\n        \"description\": \"\"\n      }\n    },\n    {\n      \"column\": \"\\u041e\\u043f\\u0438\\u0441\\u0430\\u043d\\u0438\\u0435\",\n      \"properties\": {\n        \"dtype\": \"string\",\n        \"num_unique_values\": 4018,\n        \"samples\": [\n          \"SarvaHit AI - \\u043f\\u043e\\u0441\\u0442\\u0430\\u0432\\u0449\\u0438\\u043a \\u0440\\u0435\\u0448\\u0435\\u043d\\u0438\\u0439 \\u0434\\u043b\\u044f \\u0438\\u0441\\u043a\\u0443\\u0441\\u0441\\u0442\\u0432\\u0435\\u043d\\u043d\\u043e\\u0433\\u043e \\u0438\\u043d\\u0442\\u0435\\u043b\\u043b\\u0435\\u043a\\u0442\\u0430, \\u0441\\u043f\\u0435\\u0446\\u0438\\u0430\\u043b\\u0438\\u0437\\u0438\\u0440\\u0443\\u044e\\u0449\\u0438\\u0439\\u0441\\u044f \\u043d\\u0430 \\u0430\\u0432\\u0442\\u043e\\u043c\\u0430\\u0442\\u0438\\u0437\\u0430\\u0446\\u0438\\u0438 \\u043f\\u0440\\u043e\\u0446\\u0435\\u0441\\u0441\\u043e\\u0432 \\u043d\\u0430\\u043f\\u0438\\u0441\\u0430\\u043d\\u0438\\u044f \\u043a\\u043e\\u0434\\u0430 \\u0438 \\u043f\\u0440\\u0435\\u0434\\u043b\\u0430\\u0433\\u0430\\u044e\\u0449\\u0438\\u0439 \\u043f\\u0435\\u0440\\u0441\\u043e\\u043d\\u0430\\u043b\\u0438\\u0437\\u0438\\u0440\\u043e\\u0432\\u0430\\u043d\\u043d\\u044b\\u0445 \\u043f\\u043e\\u043c\\u043e\\u0449\\u043d\\u0438\\u043a\\u043e\\u0432 \\u0441 \\u043f\\u043e\\u043c\\u043e\\u0449\\u044c\\u044e \\u0438\\u0441\\u043a\\u0443\\u0441\\u0441\\u0442\\u0432\\u0435\\u043d\\u043d\\u043e\\u0433\\u043e \\u0438\\u043d\\u0442\\u0435\\u043b\\u043b\\u0435\\u043a\\u0442\\u0430. \\u0418\\u0445 \\u0443\\u0441\\u043b\\u0443\\u0433\\u0438 \\u0432\\u043a\\u043b\\u044e\\u0447\\u0430\\u044e\\u0442 \\u0432 \\u0441\\u0435\\u0431\\u044f \\u0438\\u043d\\u0434\\u0438\\u0432\\u0438\\u0434\\u0443\\u0430\\u043b\\u044c\\u043d\\u044b\\u0435 \\u0440\\u0435\\u0448\\u0435\\u043d\\u0438\\u044f \\u0434\\u043b\\u044f \\u0430\\u0432\\u0442\\u043e\\u043c\\u0430\\u0442\\u0438\\u0437\\u0430\\u0446\\u0438\\u0438 \\u043a\\u043e\\u0434\\u0430, \\u0432\\u043d\\u0435\\u0434\\u0440\\u0435\\u043d\\u0438\\u0435 \\u043f\\u0435\\u0440\\u0441\\u043e\\u043d\\u0430\\u043b\\u0438\\u0437\\u0438\\u0440\\u043e\\u0432\\u0430\\u043d\\u043d\\u044b\\u0445 \\u043f\\u043e\\u043c\\u043e\\u0449\\u043d\\u0438\\u043a\\u043e\\u0432 \\u0441 \\u043f\\u043e\\u043c\\u043e\\u0449\\u044c\\u044e \\u0438\\u0441\\u043a\\u0443\\u0441\\u0441\\u0442\\u0432\\u0435\\u043d\\u043d\\u043e\\u0433\\u043e \\u0438\\u043d\\u0442\\u0435\\u043b\\u043b\\u0435\\u043a\\u0442\\u0430, \\u0438\\u043d\\u0442\\u0435\\u0433\\u0440\\u0430\\u0446\\u0438\\u044e \\u0438 \\u0440\\u0430\\u0437\\u0432\\u0435\\u0440\\u0442\\u044b\\u0432\\u0430\\u043d\\u0438\\u0435 \\u0440\\u0430\\u0441\\u0448\\u0438\\u0440\\u0435\\u043d\\u043d\\u044b\\u0445 \\u043c\\u043e\\u0434\\u0435\\u043b\\u0435\\u0439, \\u0430\\u043d\\u0430\\u043b\\u0438\\u0437 \\u043f\\u043e\\u043b\\u044c\\u0437\\u043e\\u0432\\u0430\\u0442\\u0435\\u043b\\u044c\\u0441\\u043a\\u0438\\u0445 \\u0432\\u0430\\u0440\\u0438\\u0430\\u043d\\u0442\\u043e\\u0432 \\u0438\\u0441\\u043f\\u043e\\u043b\\u044c\\u0437\\u043e\\u0432\\u0430\\u043d\\u0438\\u044f, \\u0430 \\u0442\\u0430\\u043a\\u0436\\u0435 \\u043e\\u0431\\u043c\\u0435\\u043d \\u0437\\u043d\\u0430\\u043d\\u0438\\u044f\\u043c\\u0438 \\u0438 \\u043e\\u0431\\u0443\\u0447\\u0435\\u043d\\u0438\\u0435.\\u0418\\u0445 \\u0440\\u0435\\u0448\\u0435\\u043d\\u0438\\u0435 \\u0434\\u043b\\u044f \\u0430\\u0432\\u0442\\u043e\\u043c\\u0430\\u0442\\u0438\\u0437\\u0430\\u0446\\u0438\\u0438 \\u043f\\u043e\\u043b\\u044c\\u0437\\u043e\\u0432\\u0430\\u0442\\u0435\\u043b\\u044c\\u0441\\u043a\\u043e\\u0433\\u043e \\u043a\\u043e\\u0434\\u0430 \\u043f\\u043e\\u043c\\u043e\\u0433\\u0430\\u0435\\u0442 \\u043a\\u043e\\u043c\\u043f\\u0430\\u043d\\u0438\\u044f\\u043c \\u0441\\u043e\\u0441\\u0440\\u0435\\u0434\\u043e\\u0442\\u043e\\u0447\\u0438\\u0442\\u044c\\u0441\\u044f \\u043d\\u0430 \\u043a\\u043b\\u044e\\u0447\\u0435\\u0432\\u044b\\u0445 \\u0441\\u043b\\u043e\\u0436\\u043d\\u043e\\u0441\\u0442\\u044f\\u0445, \\u0440\\u0430\\u0437\\u0440\\u0430\\u0431\\u0430\\u0442\\u044b\\u0432\\u0430\\u044f \\u0438\\u043d\\u0434\\u0438\\u0432\\u0438\\u0434\\u0443\\u0430\\u043b\\u044c\\u043d\\u044b\\u0435 \\u0440\\u0435\\u0448\\u0435\\u043d\\u0438\\u044f \\u0434\\u043b\\u044f \\u043d\\u0430\\u043f\\u0438\\u0441\\u0430\\u043d\\u0438\\u044f \\u0442\\u0435\\u0445\\u043d\\u0438\\u0447\\u0435\\u0441\\u043a\\u043e\\u0433\\u043e \\u043a\\u043e\\u0434\\u0430.\",\n          \"Oracle - \\u044d\\u0442\\u043e \\u043f\\u043e\\u043c\\u043e\\u0449\\u043d\\u0438\\u043a \\u043d\\u0430 \\u0431\\u0430\\u0437\\u0435 \\u0438\\u0441\\u043a\\u0443\\u0441\\u0441\\u0442\\u0432\\u0435\\u043d\\u043d\\u043e\\u0433\\u043e \\u0438\\u043d\\u0442\\u0435\\u043b\\u043b\\u0435\\u043a\\u0442\\u0430, \\u043a\\u043e\\u0442\\u043e\\u0440\\u044b\\u0439 \\u043f\\u043e\\u043c\\u043e\\u0433\\u0430\\u0435\\u0442 \\u0432\\u0430\\u043c \\u043f\\u043e\\u0432\\u044b\\u0441\\u0438\\u0442\\u044c \\u043f\\u0440\\u043e\\u0438\\u0437\\u0432\\u043e\\u0434\\u0438\\u0442\\u0435\\u043b\\u044c\\u043d\\u043e\\u0441\\u0442\\u044c, \\u043f\\u0440\\u0435\\u0434\\u043e\\u0441\\u0442\\u0430\\u0432\\u043b\\u044f\\u044f \\u043e\\u0442\\u0432\\u0435\\u0442\\u044b \\u043d\\u0430 \\u0432\\u0430\\u0448\\u0438 \\u0432\\u043e\\u043f\\u0440\\u043e\\u0441\\u044b \\u0432 \\u0440\\u0435\\u0436\\u0438\\u043c\\u0435 \\u0440\\u0435\\u0430\\u043b\\u044c\\u043d\\u043e\\u0433\\u043e \\u0432\\u0440\\u0435\\u043c\\u0435\\u043d\\u0438. \\u041e\\u043d \\u043f\\u043e\\u0434\\u043a\\u043b\\u044e\\u0447\\u0430\\u0435\\u0442\\u0441\\u044f \\u043a Slack, Google Docs, Confluence \\u0438 Notion \\u043e\\u0434\\u043d\\u0438\\u043c \\u0449\\u0435\\u043b\\u0447\\u043a\\u043e\\u043c \\u043c\\u044b\\u0448\\u0438, \\u043f\\u043e\\u0437\\u0432\\u043e\\u043b\\u044f\\u044f \\u0432\\u0430\\u043c \\u0431\\u044b\\u0441\\u0442\\u0440\\u043e \\u043f\\u043e\\u043b\\u0443\\u0447\\u0438\\u0442\\u044c \\u0434\\u043e\\u0441\\u0442\\u0443\\u043f \\u043a \\u043d\\u0443\\u0436\\u043d\\u044b\\u043c \\u0432\\u0430\\u043c \\u043e\\u0442\\u0432\\u0435\\u0442\\u0430\\u043c.\",\n          \"Plus AI for Google Slides - \\u043b\\u0443\\u0447\\u0448\\u0438\\u0439 \\u0438\\u043d\\u0441\\u0442\\u0440\\u0443\\u043c\\u0435\\u043d\\u0442 \\u0434\\u043b\\u044f \\u0441\\u043e\\u0437\\u0434\\u0430\\u043d\\u0438\\u044f \\u043f\\u0440\\u0435\\u0437\\u0435\\u043d\\u0442\\u0430\\u0446\\u0438\\u0439 \\u0441 \\u0438\\u0441\\u043f\\u043e\\u043b\\u044c\\u0437\\u043e\\u0432\\u0430\\u043d\\u0438\\u0435\\u043c \\u0438\\u0441\\u043a\\u0443\\u0441\\u0441\\u0442\\u0432\\u0435\\u043d\\u043d\\u043e\\u0433\\u043e \\u0438\\u043d\\u0442\\u0435\\u043b\\u043b\\u0435\\u043a\\u0442\\u0430 \\u0434\\u043b\\u044f \\u0441\\u043e\\u0437\\u0434\\u0430\\u043d\\u0438\\u044f \\u0438 \\u0440\\u0435\\u0434\\u0430\\u043a\\u0442\\u0438\\u0440\\u043e\\u0432\\u0430\\u043d\\u0438\\u044f \\u043f\\u0440\\u0435\\u0437\\u0435\\u043d\\u0442\\u0430\\u0446\\u0438\\u0439 \\u043d\\u0435\\u043f\\u043e\\u0441\\u0440\\u0435\\u0434\\u0441\\u0442\\u0432\\u0435\\u043d\\u043d\\u043e \\u0432 Google Slides. \\u0421 Plus AI \\u0432\\u044b \\u043c\\u043e\\u0436\\u0435\\u0442\\u0435 \\u0438\\u0441\\u043f\\u043e\\u043b\\u044c\\u0437\\u043e\\u0432\\u0430\\u0442\\u044c \\u0442\\u0443 \\u0436\\u0435 \\u0442\\u0435\\u0445\\u043d\\u043e\\u043b\\u043e\\u0433\\u0438\\u044e \\u0438\\u0441\\u043a\\u0443\\u0441\\u0441\\u0442\\u0432\\u0435\\u043d\\u043d\\u043e\\u0433\\u043e \\u0438\\u043d\\u0442\\u0435\\u043b\\u043b\\u0435\\u043a\\u0442\\u0430, \\u043a\\u043e\\u0442\\u043e\\u0440\\u0430\\u044f \\u043f\\u043e\\u0434\\u0434\\u0435\\u0440\\u0436\\u0438\\u0432\\u0430\\u0435\\u0442 \\u0442\\u0430\\u043a\\u0438\\u0435 \\u0438\\u043d\\u0441\\u0442\\u0440\\u0443\\u043c\\u0435\\u043d\\u0442\\u044b, \\u043a\\u0430\\u043a ChatGPT \\u0438 Duet AI, \\u0434\\u043b\\u044f \\u0441\\u043e\\u0437\\u0434\\u0430\\u043d\\u0438\\u044f \\u043a\\u0440\\u0430\\u0441\\u0438\\u0432\\u044b\\u0445 \\u043f\\u0440\\u0435\\u0437\\u0435\\u043d\\u0442\\u0430\\u0446\\u0438\\u0439 \\u043d\\u0430 \\u0440\\u0430\\u0431\\u043e\\u0442\\u0435 \\u0438 \\u0432 \\u0448\\u043a\\u043e\\u043b\\u0435.\"\n        ],\n        \"semantic_type\": \"\",\n        \"description\": \"\"\n      }\n    },\n    {\n      \"column\": \"\\u041e\\u0446\\u0435\\u043d\\u043a\\u0430\",\n      \"properties\": {\n        \"dtype\": \"number\",\n        \"std\": 1.9051566347881974,\n        \"min\": 0.0,\n        \"max\": 5.0,\n        \"num_unique_values\": 34,\n        \"samples\": [\n          4.3,\n          4.8,\n          3.6\n        ],\n        \"semantic_type\": \"\",\n        \"description\": \"\"\n      }\n    },\n    {\n      \"column\": \"\\u0421\\u0444\\u0435\\u0440\\u0430\",\n      \"properties\": {\n        \"dtype\": \"category\",\n        \"num_unique_values\": 1,\n        \"samples\": [\n          \"\\u041a\\u043e\\u043c\\u043c\\u0443\\u043d\\u0438\\u043a\\u0430\\u0446\\u0438\\u044f \\u0438 PR\"\n        ],\n        \"semantic_type\": \"\",\n        \"description\": \"\"\n      }\n    }\n  ]\n}"
            }
          },
          "metadata": {},
          "execution_count": 2
        }
      ]
    },
    {
      "cell_type": "code",
      "source": [
        "midc=com['Оценка'].mean()\n",
        "midc"
      ],
      "metadata": {
        "colab": {
          "base_uri": "https://localhost:8080/"
        },
        "id": "EDgw5OPTzPuP",
        "outputId": "ea202d38-97b9-420b-cd43-530ed2638a04"
      },
      "execution_count": null,
      "outputs": [
        {
          "output_type": "execute_result",
          "data": {
            "text/plain": [
              "1.0559582919563058"
            ]
          },
          "metadata": {},
          "execution_count": 3
        }
      ]
    },
    {
      "cell_type": "code",
      "source": [
        "da=df.loc[df['Сфера'] == 'Данные и IT']\n",
        "da"
      ],
      "metadata": {
        "colab": {
          "base_uri": "https://localhost:8080/",
          "height": 424
        },
        "id": "0djMmJN3zcHg",
        "outputId": "899d35fa-d9b9-4083-8ee8-d7f0ac3dbb88"
      },
      "execution_count": null,
      "outputs": [
        {
          "output_type": "execute_result",
          "data": {
            "text/plain": [
              "            Модель                                 Задача  \\\n",
              "2669  Blockadelabs  Генерация изображений на 360 градусов   \n",
              "2670    Deepmotion                            3D анимация   \n",
              "2671          Opus                            3D анимация   \n",
              "2672         Plask                            3D анимация   \n",
              "2673        3Daily                           3D-персонажи   \n",
              "...            ...                                    ...   \n",
              "4308      Vairflow           Управление рабочим процессом   \n",
              "4309     DiscuroAI         Тестирование рабочего процесса   \n",
              "4310       Floneum                       Рабочие процессы   \n",
              "4311        FigGPT            Написание плагина для Figma   \n",
              "4312   YTlaunchpad                      Стратегии YouTube   \n",
              "\n",
              "                                               Описание  Оценка        Сфера  \n",
              "2669  Blockchain Labs предлагает решение на базе иск...     5.0  Данные и IT  \n",
              "2670  DeepMotion - это инструмент для захвата движен...     5.0  Данные и IT  \n",
              "2671  Opus - это платформа для создания 3D-изображен...     1.7  Данные и IT  \n",
              "2672  Plask - это браузерный инструмент для захвата ...     0.0  Данные и IT  \n",
              "2673            Создайте 3D-персонажа из 2D-изображения     5.0  Данные и IT  \n",
              "...                                                 ...     ...          ...  \n",
              "4308  Vairflow - это управляемый искусственным интел...     0.0  Данные и IT  \n",
              "4309  DiscuroAI - это платформа, которая позволяет р...     0.0  Данные и IT  \n",
              "4310  Floneum - это графический редактор, предназнач...     5.0  Данные и IT  \n",
              "4311  FigGPT - это плагин для искусственного интелле...     0.0  Данные и IT  \n",
              "4312  YT Launchpad - это комплексный курс на базе ис...     0.0  Данные и IT  \n",
              "\n",
              "[1644 rows x 5 columns]"
            ],
            "text/html": [
              "\n",
              "  <div id=\"df-f6b3cd48-ca2f-4015-a816-4c86e5a6a665\" class=\"colab-df-container\">\n",
              "    <div>\n",
              "<style scoped>\n",
              "    .dataframe tbody tr th:only-of-type {\n",
              "        vertical-align: middle;\n",
              "    }\n",
              "\n",
              "    .dataframe tbody tr th {\n",
              "        vertical-align: top;\n",
              "    }\n",
              "\n",
              "    .dataframe thead th {\n",
              "        text-align: right;\n",
              "    }\n",
              "</style>\n",
              "<table border=\"1\" class=\"dataframe\">\n",
              "  <thead>\n",
              "    <tr style=\"text-align: right;\">\n",
              "      <th></th>\n",
              "      <th>Модель</th>\n",
              "      <th>Задача</th>\n",
              "      <th>Описание</th>\n",
              "      <th>Оценка</th>\n",
              "      <th>Сфера</th>\n",
              "    </tr>\n",
              "  </thead>\n",
              "  <tbody>\n",
              "    <tr>\n",
              "      <th>2669</th>\n",
              "      <td>Blockadelabs</td>\n",
              "      <td>Генерация изображений на 360 градусов</td>\n",
              "      <td>Blockchain Labs предлагает решение на базе иск...</td>\n",
              "      <td>5.0</td>\n",
              "      <td>Данные и IT</td>\n",
              "    </tr>\n",
              "    <tr>\n",
              "      <th>2670</th>\n",
              "      <td>Deepmotion</td>\n",
              "      <td>3D анимация</td>\n",
              "      <td>DeepMotion - это инструмент для захвата движен...</td>\n",
              "      <td>5.0</td>\n",
              "      <td>Данные и IT</td>\n",
              "    </tr>\n",
              "    <tr>\n",
              "      <th>2671</th>\n",
              "      <td>Opus</td>\n",
              "      <td>3D анимация</td>\n",
              "      <td>Opus - это платформа для создания 3D-изображен...</td>\n",
              "      <td>1.7</td>\n",
              "      <td>Данные и IT</td>\n",
              "    </tr>\n",
              "    <tr>\n",
              "      <th>2672</th>\n",
              "      <td>Plask</td>\n",
              "      <td>3D анимация</td>\n",
              "      <td>Plask - это браузерный инструмент для захвата ...</td>\n",
              "      <td>0.0</td>\n",
              "      <td>Данные и IT</td>\n",
              "    </tr>\n",
              "    <tr>\n",
              "      <th>2673</th>\n",
              "      <td>3Daily</td>\n",
              "      <td>3D-персонажи</td>\n",
              "      <td>Создайте 3D-персонажа из 2D-изображения</td>\n",
              "      <td>5.0</td>\n",
              "      <td>Данные и IT</td>\n",
              "    </tr>\n",
              "    <tr>\n",
              "      <th>...</th>\n",
              "      <td>...</td>\n",
              "      <td>...</td>\n",
              "      <td>...</td>\n",
              "      <td>...</td>\n",
              "      <td>...</td>\n",
              "    </tr>\n",
              "    <tr>\n",
              "      <th>4308</th>\n",
              "      <td>Vairflow</td>\n",
              "      <td>Управление рабочим процессом</td>\n",
              "      <td>Vairflow - это управляемый искусственным интел...</td>\n",
              "      <td>0.0</td>\n",
              "      <td>Данные и IT</td>\n",
              "    </tr>\n",
              "    <tr>\n",
              "      <th>4309</th>\n",
              "      <td>DiscuroAI</td>\n",
              "      <td>Тестирование рабочего процесса</td>\n",
              "      <td>DiscuroAI - это платформа, которая позволяет р...</td>\n",
              "      <td>0.0</td>\n",
              "      <td>Данные и IT</td>\n",
              "    </tr>\n",
              "    <tr>\n",
              "      <th>4310</th>\n",
              "      <td>Floneum</td>\n",
              "      <td>Рабочие процессы</td>\n",
              "      <td>Floneum - это графический редактор, предназнач...</td>\n",
              "      <td>5.0</td>\n",
              "      <td>Данные и IT</td>\n",
              "    </tr>\n",
              "    <tr>\n",
              "      <th>4311</th>\n",
              "      <td>FigGPT</td>\n",
              "      <td>Написание плагина для Figma</td>\n",
              "      <td>FigGPT - это плагин для искусственного интелле...</td>\n",
              "      <td>0.0</td>\n",
              "      <td>Данные и IT</td>\n",
              "    </tr>\n",
              "    <tr>\n",
              "      <th>4312</th>\n",
              "      <td>YTlaunchpad</td>\n",
              "      <td>Стратегии YouTube</td>\n",
              "      <td>YT Launchpad - это комплексный курс на базе ис...</td>\n",
              "      <td>0.0</td>\n",
              "      <td>Данные и IT</td>\n",
              "    </tr>\n",
              "  </tbody>\n",
              "</table>\n",
              "<p>1644 rows × 5 columns</p>\n",
              "</div>\n",
              "    <div class=\"colab-df-buttons\">\n",
              "\n",
              "  <div class=\"colab-df-container\">\n",
              "    <button class=\"colab-df-convert\" onclick=\"convertToInteractive('df-f6b3cd48-ca2f-4015-a816-4c86e5a6a665')\"\n",
              "            title=\"Convert this dataframe to an interactive table.\"\n",
              "            style=\"display:none;\">\n",
              "\n",
              "  <svg xmlns=\"http://www.w3.org/2000/svg\" height=\"24px\" viewBox=\"0 -960 960 960\">\n",
              "    <path d=\"M120-120v-720h720v720H120Zm60-500h600v-160H180v160Zm220 220h160v-160H400v160Zm0 220h160v-160H400v160ZM180-400h160v-160H180v160Zm440 0h160v-160H620v160ZM180-180h160v-160H180v160Zm440 0h160v-160H620v160Z\"/>\n",
              "  </svg>\n",
              "    </button>\n",
              "\n",
              "  <style>\n",
              "    .colab-df-container {\n",
              "      display:flex;\n",
              "      gap: 12px;\n",
              "    }\n",
              "\n",
              "    .colab-df-convert {\n",
              "      background-color: #E8F0FE;\n",
              "      border: none;\n",
              "      border-radius: 50%;\n",
              "      cursor: pointer;\n",
              "      display: none;\n",
              "      fill: #1967D2;\n",
              "      height: 32px;\n",
              "      padding: 0 0 0 0;\n",
              "      width: 32px;\n",
              "    }\n",
              "\n",
              "    .colab-df-convert:hover {\n",
              "      background-color: #E2EBFA;\n",
              "      box-shadow: 0px 1px 2px rgba(60, 64, 67, 0.3), 0px 1px 3px 1px rgba(60, 64, 67, 0.15);\n",
              "      fill: #174EA6;\n",
              "    }\n",
              "\n",
              "    .colab-df-buttons div {\n",
              "      margin-bottom: 4px;\n",
              "    }\n",
              "\n",
              "    [theme=dark] .colab-df-convert {\n",
              "      background-color: #3B4455;\n",
              "      fill: #D2E3FC;\n",
              "    }\n",
              "\n",
              "    [theme=dark] .colab-df-convert:hover {\n",
              "      background-color: #434B5C;\n",
              "      box-shadow: 0px 1px 3px 1px rgba(0, 0, 0, 0.15);\n",
              "      filter: drop-shadow(0px 1px 2px rgba(0, 0, 0, 0.3));\n",
              "      fill: #FFFFFF;\n",
              "    }\n",
              "  </style>\n",
              "\n",
              "    <script>\n",
              "      const buttonEl =\n",
              "        document.querySelector('#df-f6b3cd48-ca2f-4015-a816-4c86e5a6a665 button.colab-df-convert');\n",
              "      buttonEl.style.display =\n",
              "        google.colab.kernel.accessAllowed ? 'block' : 'none';\n",
              "\n",
              "      async function convertToInteractive(key) {\n",
              "        const element = document.querySelector('#df-f6b3cd48-ca2f-4015-a816-4c86e5a6a665');\n",
              "        const dataTable =\n",
              "          await google.colab.kernel.invokeFunction('convertToInteractive',\n",
              "                                                    [key], {});\n",
              "        if (!dataTable) return;\n",
              "\n",
              "        const docLinkHtml = 'Like what you see? Visit the ' +\n",
              "          '<a target=\"_blank\" href=https://colab.research.google.com/notebooks/data_table.ipynb>data table notebook</a>'\n",
              "          + ' to learn more about interactive tables.';\n",
              "        element.innerHTML = '';\n",
              "        dataTable['output_type'] = 'display_data';\n",
              "        await google.colab.output.renderOutput(dataTable, element);\n",
              "        const docLink = document.createElement('div');\n",
              "        docLink.innerHTML = docLinkHtml;\n",
              "        element.appendChild(docLink);\n",
              "      }\n",
              "    </script>\n",
              "  </div>\n",
              "\n",
              "\n",
              "<div id=\"df-cfe43e85-3802-4163-ae35-295976062810\">\n",
              "  <button class=\"colab-df-quickchart\" onclick=\"quickchart('df-cfe43e85-3802-4163-ae35-295976062810')\"\n",
              "            title=\"Suggest charts\"\n",
              "            style=\"display:none;\">\n",
              "\n",
              "<svg xmlns=\"http://www.w3.org/2000/svg\" height=\"24px\"viewBox=\"0 0 24 24\"\n",
              "     width=\"24px\">\n",
              "    <g>\n",
              "        <path d=\"M19 3H5c-1.1 0-2 .9-2 2v14c0 1.1.9 2 2 2h14c1.1 0 2-.9 2-2V5c0-1.1-.9-2-2-2zM9 17H7v-7h2v7zm4 0h-2V7h2v10zm4 0h-2v-4h2v4z\"/>\n",
              "    </g>\n",
              "</svg>\n",
              "  </button>\n",
              "\n",
              "<style>\n",
              "  .colab-df-quickchart {\n",
              "      --bg-color: #E8F0FE;\n",
              "      --fill-color: #1967D2;\n",
              "      --hover-bg-color: #E2EBFA;\n",
              "      --hover-fill-color: #174EA6;\n",
              "      --disabled-fill-color: #AAA;\n",
              "      --disabled-bg-color: #DDD;\n",
              "  }\n",
              "\n",
              "  [theme=dark] .colab-df-quickchart {\n",
              "      --bg-color: #3B4455;\n",
              "      --fill-color: #D2E3FC;\n",
              "      --hover-bg-color: #434B5C;\n",
              "      --hover-fill-color: #FFFFFF;\n",
              "      --disabled-bg-color: #3B4455;\n",
              "      --disabled-fill-color: #666;\n",
              "  }\n",
              "\n",
              "  .colab-df-quickchart {\n",
              "    background-color: var(--bg-color);\n",
              "    border: none;\n",
              "    border-radius: 50%;\n",
              "    cursor: pointer;\n",
              "    display: none;\n",
              "    fill: var(--fill-color);\n",
              "    height: 32px;\n",
              "    padding: 0;\n",
              "    width: 32px;\n",
              "  }\n",
              "\n",
              "  .colab-df-quickchart:hover {\n",
              "    background-color: var(--hover-bg-color);\n",
              "    box-shadow: 0 1px 2px rgba(60, 64, 67, 0.3), 0 1px 3px 1px rgba(60, 64, 67, 0.15);\n",
              "    fill: var(--button-hover-fill-color);\n",
              "  }\n",
              "\n",
              "  .colab-df-quickchart-complete:disabled,\n",
              "  .colab-df-quickchart-complete:disabled:hover {\n",
              "    background-color: var(--disabled-bg-color);\n",
              "    fill: var(--disabled-fill-color);\n",
              "    box-shadow: none;\n",
              "  }\n",
              "\n",
              "  .colab-df-spinner {\n",
              "    border: 2px solid var(--fill-color);\n",
              "    border-color: transparent;\n",
              "    border-bottom-color: var(--fill-color);\n",
              "    animation:\n",
              "      spin 1s steps(1) infinite;\n",
              "  }\n",
              "\n",
              "  @keyframes spin {\n",
              "    0% {\n",
              "      border-color: transparent;\n",
              "      border-bottom-color: var(--fill-color);\n",
              "      border-left-color: var(--fill-color);\n",
              "    }\n",
              "    20% {\n",
              "      border-color: transparent;\n",
              "      border-left-color: var(--fill-color);\n",
              "      border-top-color: var(--fill-color);\n",
              "    }\n",
              "    30% {\n",
              "      border-color: transparent;\n",
              "      border-left-color: var(--fill-color);\n",
              "      border-top-color: var(--fill-color);\n",
              "      border-right-color: var(--fill-color);\n",
              "    }\n",
              "    40% {\n",
              "      border-color: transparent;\n",
              "      border-right-color: var(--fill-color);\n",
              "      border-top-color: var(--fill-color);\n",
              "    }\n",
              "    60% {\n",
              "      border-color: transparent;\n",
              "      border-right-color: var(--fill-color);\n",
              "    }\n",
              "    80% {\n",
              "      border-color: transparent;\n",
              "      border-right-color: var(--fill-color);\n",
              "      border-bottom-color: var(--fill-color);\n",
              "    }\n",
              "    90% {\n",
              "      border-color: transparent;\n",
              "      border-bottom-color: var(--fill-color);\n",
              "    }\n",
              "  }\n",
              "</style>\n",
              "\n",
              "  <script>\n",
              "    async function quickchart(key) {\n",
              "      const quickchartButtonEl =\n",
              "        document.querySelector('#' + key + ' button');\n",
              "      quickchartButtonEl.disabled = true;  // To prevent multiple clicks.\n",
              "      quickchartButtonEl.classList.add('colab-df-spinner');\n",
              "      try {\n",
              "        const charts = await google.colab.kernel.invokeFunction(\n",
              "            'suggestCharts', [key], {});\n",
              "      } catch (error) {\n",
              "        console.error('Error during call to suggestCharts:', error);\n",
              "      }\n",
              "      quickchartButtonEl.classList.remove('colab-df-spinner');\n",
              "      quickchartButtonEl.classList.add('colab-df-quickchart-complete');\n",
              "    }\n",
              "    (() => {\n",
              "      let quickchartButtonEl =\n",
              "        document.querySelector('#df-cfe43e85-3802-4163-ae35-295976062810 button');\n",
              "      quickchartButtonEl.style.display =\n",
              "        google.colab.kernel.accessAllowed ? 'block' : 'none';\n",
              "    })();\n",
              "  </script>\n",
              "</div>\n",
              "    </div>\n",
              "  </div>\n"
            ],
            "application/vnd.google.colaboratory.intrinsic+json": {
              "type": "dataframe",
              "variable_name": "da",
              "summary": "{\n  \"name\": \"da\",\n  \"rows\": 1644,\n  \"fields\": [\n    {\n      \"column\": \"\\u041c\\u043e\\u0434\\u0435\\u043b\\u044c\",\n      \"properties\": {\n        \"dtype\": \"string\",\n        \"num_unique_values\": 1640,\n        \"samples\": [\n          \"Marple\",\n          \"CamelAGI\",\n          \"JiraGPT\"\n        ],\n        \"semantic_type\": \"\",\n        \"description\": \"\"\n      }\n    },\n    {\n      \"column\": \"\\u0417\\u0430\\u0434\\u0430\\u0447\\u0430\",\n      \"properties\": {\n        \"dtype\": \"category\",\n        \"num_unique_values\": 412,\n        \"samples\": [\n          \"\\u041e\\u043f\\u0435\\u0440\\u0430\\u0442\\u0438\\u0432\\u043d\\u044b\\u0439 \\u0434\\u0435\\u0442\\u0435\\u043a\\u0442\\u043e\\u0440 \\u0432\\u043f\\u0440\\u044b\\u0441\\u043a\\u0430\",\n          \"\\u0422\\u0435\\u0441\\u0442\\u0438\\u0440\\u043e\\u0432\\u0430\\u043d\\u0438\\u0435 \\u0431\\u0440\\u0430\\u0443\\u0437\\u0435\\u0440\\u0430\",\n          \"\\u041c\\u043e\\u043d\\u0438\\u0442\\u043e\\u0440\\u0438\\u043d\\u0433 \\u043e\\u0448\\u0438\\u0431\\u043e\\u043a LLM\"\n        ],\n        \"semantic_type\": \"\",\n        \"description\": \"\"\n      }\n    },\n    {\n      \"column\": \"\\u041e\\u043f\\u0438\\u0441\\u0430\\u043d\\u0438\\u0435\",\n      \"properties\": {\n        \"dtype\": \"string\",\n        \"num_unique_values\": 1644,\n        \"samples\": [\n          \"MarkovML - \\u044d\\u0442\\u043e \\u043f\\u043b\\u0430\\u0442\\u0444\\u043e\\u0440\\u043c\\u0430 \\u0441 \\u043d\\u0438\\u0437\\u043a\\u0438\\u043c \\u0443\\u0440\\u043e\\u0432\\u043d\\u0435\\u043c \\u043a\\u043e\\u0434\\u0430 \\u043d\\u0430 \\u0431\\u0430\\u0437\\u0435 \\u0438\\u0441\\u043a\\u0443\\u0441\\u0441\\u0442\\u0432\\u0435\\u043d\\u043d\\u043e\\u0433\\u043e \\u0438\\u043d\\u0442\\u0435\\u043b\\u043b\\u0435\\u043a\\u0442\\u0430, \\u043a\\u043e\\u0442\\u043e\\u0440\\u0430\\u044f \\u043f\\u0440\\u0435\\u0434\\u043b\\u0430\\u0433\\u0430\\u0435\\u0442 \\u043f\\u043b\\u0430\\u0442\\u0444\\u043e\\u0440\\u043c\\u0443 \\u0434\\u043b\\u044f \\u0441\\u043e\\u0432\\u043c\\u0435\\u0441\\u0442\\u043d\\u043e\\u0439 \\u0440\\u0430\\u0431\\u043e\\u0442\\u044b \\u0434\\u043b\\u044f \\u0430\\u043d\\u0430\\u043b\\u0438\\u0437\\u0430 \\u0434\\u0430\\u043d\\u043d\\u044b\\u0445 \\u0438 \\u043c\\u0430\\u0448\\u0438\\u043d\\u043d\\u043e\\u0433\\u043e \\u043e\\u0431\\u0443\\u0447\\u0435\\u043d\\u0438\\u044f. \\u041e\\u043d\\u0430 \\u043f\\u0440\\u0435\\u0434\\u043e\\u0441\\u0442\\u0430\\u0432\\u043b\\u044f\\u0435\\u0442 \\u0443\\u0434\\u043e\\u0431\\u043d\\u044b\\u0439 \\u0438\\u043d\\u0442\\u0435\\u0440\\u0444\\u0435\\u0439\\u0441 \\u0434\\u043b\\u044f \\u0445\\u0440\\u0430\\u043d\\u0435\\u043d\\u0438\\u044f \\u043c\\u043e\\u0434\\u0435\\u043b\\u0435\\u0439, \\u044d\\u043a\\u0441\\u043f\\u0435\\u0440\\u0438\\u043c\\u0435\\u043d\\u0442\\u043e\\u0432 \\u0438 \\u043d\\u0430\\u0431\\u043e\\u0440\\u043e\\u0432 \\u0434\\u0430\\u043d\\u043d\\u044b\\u0445 \\u0438 \\u043e\\u0431\\u043c\\u0435\\u043d\\u0430 \\u0438\\u043c\\u0438.\",\n          \"ETHGlobal Mastermind - \\u044d\\u0442\\u043e GPT, \\u0441\\u043f\\u0435\\u0446\\u0438\\u0430\\u043b\\u044c\\u043d\\u043e \\u0440\\u0430\\u0437\\u0440\\u0430\\u0431\\u043e\\u0442\\u0430\\u043d\\u043d\\u044b\\u0439 \\u0434\\u043b\\u044f \\u043f\\u0440\\u0435\\u0434\\u043e\\u0441\\u0442\\u0430\\u0432\\u043b\\u0435\\u043d\\u0438\\u044f \\u0438\\u0441\\u0447\\u0435\\u0440\\u043f\\u044b\\u0432\\u0430\\u044e\\u0449\\u0435\\u0439 \\u0438\\u043d\\u0444\\u043e\\u0440\\u043c\\u0430\\u0446\\u0438\\u0438 \\u043e \\u043f\\u0440\\u043e\\u0435\\u043a\\u0442\\u0430\\u0445, \\u043f\\u043e\\u043b\\u0443\\u0447\\u0438\\u0432\\u0448\\u0438\\u0445 \\u043f\\u0440\\u0438\\u0437\\u044b ETHGlobal \\u0441 \\u0441\\u0435\\u0440\\u0435\\u0434\\u0438\\u043d\\u044b 2021 \\u0433\\u043e\\u0434\\u0430. \\u042d\\u0442\\u043e\\u0442 GPT \\u0432 \\u043e\\u0441\\u043d\\u043e\\u0432\\u043d\\u043e\\u043c \\u0444\\u0443\\u043d\\u043a\\u0446\\u0438\\u043e\\u043d\\u0438\\u0440\\u0443\\u0435\\u0442 \\u043a\\u0430\\u043a \\u0431\\u043e\\u0442 \\u0434\\u043b\\u044f \\u043f\\u043e\\u0438\\u0441\\u043a\\u0430 \\u0438\\u043d\\u0444\\u043e\\u0440\\u043c\\u0430\\u0446\\u0438\\u0438 \\u043e \\u043f\\u0440\\u043e\\u0435\\u043a\\u0442\\u0430\\u0445 ETHGlobal Hackathon, \\u043a\\u043e\\u0442\\u043e\\u0440\\u044b\\u0435 \\u043f\\u0440\\u043e\\u0432\\u043e\\u0434\\u0438\\u043b\\u0438\\u0441\\u044c \\u0441 \\u0438\\u044e\\u043d\\u044f 2021 \\u0433\\u043e\\u0434\\u0430, \\u043f\\u0440\\u0435\\u0434\\u043f\\u043e\\u043b\\u043e\\u0436\\u0438\\u0442\\u0435\\u043b\\u044c\\u043d\\u043e, \\u043f\\u043e \\u043d\\u0430\\u0441\\u0442\\u043e\\u044f\\u0449\\u0435\\u0435 \\u0432\\u0440\\u0435\\u043c\\u044f.\",\n          \"Chat2Build - \\u044d\\u0442\\u043e \\u0432\\u0435\\u0431-\\u043f\\u0440\\u0438\\u043b\\u043e\\u0436\\u0435\\u043d\\u0438\\u0435 \\u043d\\u0430 \\u0431\\u0430\\u0437\\u0435 \\u0438\\u0441\\u043a\\u0443\\u0441\\u0441\\u0442\\u0432\\u0435\\u043d\\u043d\\u043e\\u0433\\u043e \\u0438\\u043d\\u0442\\u0435\\u043b\\u043b\\u0435\\u043a\\u0442\\u0430, \\u043a\\u043e\\u0442\\u043e\\u0440\\u043e\\u0435 \\u0443\\u043f\\u0440\\u043e\\u0449\\u0430\\u0435\\u0442 \\u043f\\u0440\\u043e\\u0446\\u0435\\u0441\\u0441 \\u0441\\u043e\\u0437\\u0434\\u0430\\u043d\\u0438\\u044f \\u0432\\u0435\\u0431-\\u0441\\u0430\\u0439\\u0442\\u0430, \\u043f\\u043e\\u0437\\u0432\\u043e\\u043b\\u044f\\u044f \\u043f\\u043e\\u043b\\u044c\\u0437\\u043e\\u0432\\u0430\\u0442\\u0435\\u043b\\u044f\\u043c \\u043e\\u0431\\u0449\\u0430\\u0442\\u044c\\u0441\\u044f \\u0441 \\u0438\\u0441\\u043a\\u0443\\u0441\\u0441\\u0442\\u0432\\u0435\\u043d\\u043d\\u044b\\u043c \\u0438\\u043d\\u0442\\u0435\\u043b\\u043b\\u0435\\u043a\\u0442\\u043e\\u043c \\u0434\\u043b\\u044f \\u0441\\u043e\\u0437\\u0434\\u0430\\u043d\\u0438\\u044f \\u0438 \\u0434\\u0438\\u0437\\u0430\\u0439\\u043d\\u0430 \\u0432\\u0435\\u0431-\\u0441\\u0430\\u0439\\u0442\\u0430 \\u0431\\u0435\\u0437 \\u043d\\u0435\\u043e\\u0431\\u0445\\u043e\\u0434\\u0438\\u043c\\u043e\\u0441\\u0442\\u0438 \\u043a\\u0430\\u043a\\u043e\\u0433\\u043e-\\u043b\\u0438\\u0431\\u043e \\u043a\\u043e\\u0434\\u0438\\u0440\\u043e\\u0432\\u0430\\u043d\\u0438\\u044f \\u0438\\u043b\\u0438 \\u0445\\u043e\\u0441\\u0442\\u0438\\u043d\\u0433\\u0430.\"\n        ],\n        \"semantic_type\": \"\",\n        \"description\": \"\"\n      }\n    },\n    {\n      \"column\": \"\\u041e\\u0446\\u0435\\u043d\\u043a\\u0430\",\n      \"properties\": {\n        \"dtype\": \"number\",\n        \"std\": 1.9220921186138524,\n        \"min\": 0.0,\n        \"max\": 5.0,\n        \"num_unique_values\": 27,\n        \"samples\": [\n          3.0,\n          3.7,\n          4.9\n        ],\n        \"semantic_type\": \"\",\n        \"description\": \"\"\n      }\n    },\n    {\n      \"column\": \"\\u0421\\u0444\\u0435\\u0440\\u0430\",\n      \"properties\": {\n        \"dtype\": \"category\",\n        \"num_unique_values\": 1,\n        \"samples\": [\n          \"\\u0414\\u0430\\u043d\\u043d\\u044b\\u0435 \\u0438 IT\"\n        ],\n        \"semantic_type\": \"\",\n        \"description\": \"\"\n      }\n    }\n  ]\n}"
            }
          },
          "metadata": {},
          "execution_count": 4
        }
      ]
    },
    {
      "cell_type": "code",
      "source": [
        "midda=da['Оценка'].mean()\n",
        "midda"
      ],
      "metadata": {
        "colab": {
          "base_uri": "https://localhost:8080/"
        },
        "id": "dubrLq4Wzrta",
        "outputId": "6a30a715-c4a6-4b90-fe28-e7fc18d4200b"
      },
      "execution_count": null,
      "outputs": [
        {
          "output_type": "execute_result",
          "data": {
            "text/plain": [
              "1.0612530413625303"
            ]
          },
          "metadata": {},
          "execution_count": 5
        }
      ]
    },
    {
      "cell_type": "code",
      "source": [
        "lda=len(da)/len(df)\n",
        "lda"
      ],
      "metadata": {
        "colab": {
          "base_uri": "https://localhost:8080/"
        },
        "id": "37Ih9eeVzXzq",
        "outputId": "5ae08bed-3f54-41ec-b74b-91f32328dbae"
      },
      "execution_count": null,
      "outputs": [
        {
          "output_type": "execute_result",
          "data": {
            "text/plain": [
              "0.15060461707585196"
            ]
          },
          "metadata": {},
          "execution_count": 6
        }
      ]
    },
    {
      "cell_type": "code",
      "source": [
        "ad=df.loc[df['Сфера'] == 'Административные и канцелярские']\n",
        "ad"
      ],
      "metadata": {
        "colab": {
          "base_uri": "https://localhost:8080/",
          "height": 424
        },
        "id": "nRq0Fo4Kz58y",
        "outputId": "f41842bb-5215-4a76-f942-565f423892d8"
      },
      "execution_count": null,
      "outputs": [
        {
          "output_type": "execute_result",
          "data": {
            "text/plain": [
              "                 Модель                            Задача  \\\n",
              "0           Lumina Chat    Академические вопросы и ответы   \n",
              "1        Socratic Guide    Академические вопросы и ответы   \n",
              "2            Cambrianml                   Поиск статей ИИ   \n",
              "3     Airtable Hint GPT        Воздухопроницаемые формулы   \n",
              "4     Formula Assistant        Воздухопроницаемые формулы   \n",
              "...                 ...                               ...   \n",
              "1007        Stenography           Письменная документация   \n",
              "1008           Sveltron           Письменная документация   \n",
              "1009             Theneo           Письменная документация   \n",
              "1010              Wanda           Письменная документация   \n",
              "1011      KeywordSearch  Поиск по ключевым словам YouTube   \n",
              "\n",
              "                                               Описание  Оценка  \\\n",
              "0     Lumina - это исследовательский пакет на базе и...     0.0   \n",
              "1     The Socratic Guide - это GPT, применяющий прин...     0.0   \n",
              "2     Cambrian CoPilot for AI Research - это комплек...     0.0   \n",
              "3     Расширение Airtable Hint GPT для Chrome - это ...     0.0   \n",
              "4     Formula Assistant - это GPT, который специализ...     0.0   \n",
              "...                                                 ...     ...   \n",
              "1007  Stenography - это инструмент документирования ...     0.0   \n",
              "1008  Svelte Smart Doc - это инструмент искусственно...     0.0   \n",
              "1009  Theneo - это инструмент на базе искусственного...     0.0   \n",
              "1010  Wanda - это инструмент документирования на баз...     0.0   \n",
              "1011  Поиск по ключевым словам помогает пользователя...     5.0   \n",
              "\n",
              "                                Сфера  \n",
              "0     Административные и канцелярские  \n",
              "1     Административные и канцелярские  \n",
              "2     Административные и канцелярские  \n",
              "3     Административные и канцелярские  \n",
              "4     Административные и канцелярские  \n",
              "...                               ...  \n",
              "1007  Административные и канцелярские  \n",
              "1008  Административные и канцелярские  \n",
              "1009  Административные и канцелярские  \n",
              "1010  Административные и канцелярские  \n",
              "1011  Административные и канцелярские  \n",
              "\n",
              "[1012 rows x 5 columns]"
            ],
            "text/html": [
              "\n",
              "  <div id=\"df-c5b9d2b9-dd9d-4929-bcec-b5507931f93d\" class=\"colab-df-container\">\n",
              "    <div>\n",
              "<style scoped>\n",
              "    .dataframe tbody tr th:only-of-type {\n",
              "        vertical-align: middle;\n",
              "    }\n",
              "\n",
              "    .dataframe tbody tr th {\n",
              "        vertical-align: top;\n",
              "    }\n",
              "\n",
              "    .dataframe thead th {\n",
              "        text-align: right;\n",
              "    }\n",
              "</style>\n",
              "<table border=\"1\" class=\"dataframe\">\n",
              "  <thead>\n",
              "    <tr style=\"text-align: right;\">\n",
              "      <th></th>\n",
              "      <th>Модель</th>\n",
              "      <th>Задача</th>\n",
              "      <th>Описание</th>\n",
              "      <th>Оценка</th>\n",
              "      <th>Сфера</th>\n",
              "    </tr>\n",
              "  </thead>\n",
              "  <tbody>\n",
              "    <tr>\n",
              "      <th>0</th>\n",
              "      <td>Lumina Chat</td>\n",
              "      <td>Академические вопросы и ответы</td>\n",
              "      <td>Lumina - это исследовательский пакет на базе и...</td>\n",
              "      <td>0.0</td>\n",
              "      <td>Административные и канцелярские</td>\n",
              "    </tr>\n",
              "    <tr>\n",
              "      <th>1</th>\n",
              "      <td>Socratic Guide</td>\n",
              "      <td>Академические вопросы и ответы</td>\n",
              "      <td>The Socratic Guide - это GPT, применяющий прин...</td>\n",
              "      <td>0.0</td>\n",
              "      <td>Административные и канцелярские</td>\n",
              "    </tr>\n",
              "    <tr>\n",
              "      <th>2</th>\n",
              "      <td>Cambrianml</td>\n",
              "      <td>Поиск статей ИИ</td>\n",
              "      <td>Cambrian CoPilot for AI Research - это комплек...</td>\n",
              "      <td>0.0</td>\n",
              "      <td>Административные и канцелярские</td>\n",
              "    </tr>\n",
              "    <tr>\n",
              "      <th>3</th>\n",
              "      <td>Airtable Hint GPT</td>\n",
              "      <td>Воздухопроницаемые формулы</td>\n",
              "      <td>Расширение Airtable Hint GPT для Chrome - это ...</td>\n",
              "      <td>0.0</td>\n",
              "      <td>Административные и канцелярские</td>\n",
              "    </tr>\n",
              "    <tr>\n",
              "      <th>4</th>\n",
              "      <td>Formula Assistant</td>\n",
              "      <td>Воздухопроницаемые формулы</td>\n",
              "      <td>Formula Assistant - это GPT, который специализ...</td>\n",
              "      <td>0.0</td>\n",
              "      <td>Административные и канцелярские</td>\n",
              "    </tr>\n",
              "    <tr>\n",
              "      <th>...</th>\n",
              "      <td>...</td>\n",
              "      <td>...</td>\n",
              "      <td>...</td>\n",
              "      <td>...</td>\n",
              "      <td>...</td>\n",
              "    </tr>\n",
              "    <tr>\n",
              "      <th>1007</th>\n",
              "      <td>Stenography</td>\n",
              "      <td>Письменная документация</td>\n",
              "      <td>Stenography - это инструмент документирования ...</td>\n",
              "      <td>0.0</td>\n",
              "      <td>Административные и канцелярские</td>\n",
              "    </tr>\n",
              "    <tr>\n",
              "      <th>1008</th>\n",
              "      <td>Sveltron</td>\n",
              "      <td>Письменная документация</td>\n",
              "      <td>Svelte Smart Doc - это инструмент искусственно...</td>\n",
              "      <td>0.0</td>\n",
              "      <td>Административные и канцелярские</td>\n",
              "    </tr>\n",
              "    <tr>\n",
              "      <th>1009</th>\n",
              "      <td>Theneo</td>\n",
              "      <td>Письменная документация</td>\n",
              "      <td>Theneo - это инструмент на базе искусственного...</td>\n",
              "      <td>0.0</td>\n",
              "      <td>Административные и канцелярские</td>\n",
              "    </tr>\n",
              "    <tr>\n",
              "      <th>1010</th>\n",
              "      <td>Wanda</td>\n",
              "      <td>Письменная документация</td>\n",
              "      <td>Wanda - это инструмент документирования на баз...</td>\n",
              "      <td>0.0</td>\n",
              "      <td>Административные и канцелярские</td>\n",
              "    </tr>\n",
              "    <tr>\n",
              "      <th>1011</th>\n",
              "      <td>KeywordSearch</td>\n",
              "      <td>Поиск по ключевым словам YouTube</td>\n",
              "      <td>Поиск по ключевым словам помогает пользователя...</td>\n",
              "      <td>5.0</td>\n",
              "      <td>Административные и канцелярские</td>\n",
              "    </tr>\n",
              "  </tbody>\n",
              "</table>\n",
              "<p>1012 rows × 5 columns</p>\n",
              "</div>\n",
              "    <div class=\"colab-df-buttons\">\n",
              "\n",
              "  <div class=\"colab-df-container\">\n",
              "    <button class=\"colab-df-convert\" onclick=\"convertToInteractive('df-c5b9d2b9-dd9d-4929-bcec-b5507931f93d')\"\n",
              "            title=\"Convert this dataframe to an interactive table.\"\n",
              "            style=\"display:none;\">\n",
              "\n",
              "  <svg xmlns=\"http://www.w3.org/2000/svg\" height=\"24px\" viewBox=\"0 -960 960 960\">\n",
              "    <path d=\"M120-120v-720h720v720H120Zm60-500h600v-160H180v160Zm220 220h160v-160H400v160Zm0 220h160v-160H400v160ZM180-400h160v-160H180v160Zm440 0h160v-160H620v160ZM180-180h160v-160H180v160Zm440 0h160v-160H620v160Z\"/>\n",
              "  </svg>\n",
              "    </button>\n",
              "\n",
              "  <style>\n",
              "    .colab-df-container {\n",
              "      display:flex;\n",
              "      gap: 12px;\n",
              "    }\n",
              "\n",
              "    .colab-df-convert {\n",
              "      background-color: #E8F0FE;\n",
              "      border: none;\n",
              "      border-radius: 50%;\n",
              "      cursor: pointer;\n",
              "      display: none;\n",
              "      fill: #1967D2;\n",
              "      height: 32px;\n",
              "      padding: 0 0 0 0;\n",
              "      width: 32px;\n",
              "    }\n",
              "\n",
              "    .colab-df-convert:hover {\n",
              "      background-color: #E2EBFA;\n",
              "      box-shadow: 0px 1px 2px rgba(60, 64, 67, 0.3), 0px 1px 3px 1px rgba(60, 64, 67, 0.15);\n",
              "      fill: #174EA6;\n",
              "    }\n",
              "\n",
              "    .colab-df-buttons div {\n",
              "      margin-bottom: 4px;\n",
              "    }\n",
              "\n",
              "    [theme=dark] .colab-df-convert {\n",
              "      background-color: #3B4455;\n",
              "      fill: #D2E3FC;\n",
              "    }\n",
              "\n",
              "    [theme=dark] .colab-df-convert:hover {\n",
              "      background-color: #434B5C;\n",
              "      box-shadow: 0px 1px 3px 1px rgba(0, 0, 0, 0.15);\n",
              "      filter: drop-shadow(0px 1px 2px rgba(0, 0, 0, 0.3));\n",
              "      fill: #FFFFFF;\n",
              "    }\n",
              "  </style>\n",
              "\n",
              "    <script>\n",
              "      const buttonEl =\n",
              "        document.querySelector('#df-c5b9d2b9-dd9d-4929-bcec-b5507931f93d button.colab-df-convert');\n",
              "      buttonEl.style.display =\n",
              "        google.colab.kernel.accessAllowed ? 'block' : 'none';\n",
              "\n",
              "      async function convertToInteractive(key) {\n",
              "        const element = document.querySelector('#df-c5b9d2b9-dd9d-4929-bcec-b5507931f93d');\n",
              "        const dataTable =\n",
              "          await google.colab.kernel.invokeFunction('convertToInteractive',\n",
              "                                                    [key], {});\n",
              "        if (!dataTable) return;\n",
              "\n",
              "        const docLinkHtml = 'Like what you see? Visit the ' +\n",
              "          '<a target=\"_blank\" href=https://colab.research.google.com/notebooks/data_table.ipynb>data table notebook</a>'\n",
              "          + ' to learn more about interactive tables.';\n",
              "        element.innerHTML = '';\n",
              "        dataTable['output_type'] = 'display_data';\n",
              "        await google.colab.output.renderOutput(dataTable, element);\n",
              "        const docLink = document.createElement('div');\n",
              "        docLink.innerHTML = docLinkHtml;\n",
              "        element.appendChild(docLink);\n",
              "      }\n",
              "    </script>\n",
              "  </div>\n",
              "\n",
              "\n",
              "<div id=\"df-87c38b1f-bb18-496f-98d3-0d9b7656b1dc\">\n",
              "  <button class=\"colab-df-quickchart\" onclick=\"quickchart('df-87c38b1f-bb18-496f-98d3-0d9b7656b1dc')\"\n",
              "            title=\"Suggest charts\"\n",
              "            style=\"display:none;\">\n",
              "\n",
              "<svg xmlns=\"http://www.w3.org/2000/svg\" height=\"24px\"viewBox=\"0 0 24 24\"\n",
              "     width=\"24px\">\n",
              "    <g>\n",
              "        <path d=\"M19 3H5c-1.1 0-2 .9-2 2v14c0 1.1.9 2 2 2h14c1.1 0 2-.9 2-2V5c0-1.1-.9-2-2-2zM9 17H7v-7h2v7zm4 0h-2V7h2v10zm4 0h-2v-4h2v4z\"/>\n",
              "    </g>\n",
              "</svg>\n",
              "  </button>\n",
              "\n",
              "<style>\n",
              "  .colab-df-quickchart {\n",
              "      --bg-color: #E8F0FE;\n",
              "      --fill-color: #1967D2;\n",
              "      --hover-bg-color: #E2EBFA;\n",
              "      --hover-fill-color: #174EA6;\n",
              "      --disabled-fill-color: #AAA;\n",
              "      --disabled-bg-color: #DDD;\n",
              "  }\n",
              "\n",
              "  [theme=dark] .colab-df-quickchart {\n",
              "      --bg-color: #3B4455;\n",
              "      --fill-color: #D2E3FC;\n",
              "      --hover-bg-color: #434B5C;\n",
              "      --hover-fill-color: #FFFFFF;\n",
              "      --disabled-bg-color: #3B4455;\n",
              "      --disabled-fill-color: #666;\n",
              "  }\n",
              "\n",
              "  .colab-df-quickchart {\n",
              "    background-color: var(--bg-color);\n",
              "    border: none;\n",
              "    border-radius: 50%;\n",
              "    cursor: pointer;\n",
              "    display: none;\n",
              "    fill: var(--fill-color);\n",
              "    height: 32px;\n",
              "    padding: 0;\n",
              "    width: 32px;\n",
              "  }\n",
              "\n",
              "  .colab-df-quickchart:hover {\n",
              "    background-color: var(--hover-bg-color);\n",
              "    box-shadow: 0 1px 2px rgba(60, 64, 67, 0.3), 0 1px 3px 1px rgba(60, 64, 67, 0.15);\n",
              "    fill: var(--button-hover-fill-color);\n",
              "  }\n",
              "\n",
              "  .colab-df-quickchart-complete:disabled,\n",
              "  .colab-df-quickchart-complete:disabled:hover {\n",
              "    background-color: var(--disabled-bg-color);\n",
              "    fill: var(--disabled-fill-color);\n",
              "    box-shadow: none;\n",
              "  }\n",
              "\n",
              "  .colab-df-spinner {\n",
              "    border: 2px solid var(--fill-color);\n",
              "    border-color: transparent;\n",
              "    border-bottom-color: var(--fill-color);\n",
              "    animation:\n",
              "      spin 1s steps(1) infinite;\n",
              "  }\n",
              "\n",
              "  @keyframes spin {\n",
              "    0% {\n",
              "      border-color: transparent;\n",
              "      border-bottom-color: var(--fill-color);\n",
              "      border-left-color: var(--fill-color);\n",
              "    }\n",
              "    20% {\n",
              "      border-color: transparent;\n",
              "      border-left-color: var(--fill-color);\n",
              "      border-top-color: var(--fill-color);\n",
              "    }\n",
              "    30% {\n",
              "      border-color: transparent;\n",
              "      border-left-color: var(--fill-color);\n",
              "      border-top-color: var(--fill-color);\n",
              "      border-right-color: var(--fill-color);\n",
              "    }\n",
              "    40% {\n",
              "      border-color: transparent;\n",
              "      border-right-color: var(--fill-color);\n",
              "      border-top-color: var(--fill-color);\n",
              "    }\n",
              "    60% {\n",
              "      border-color: transparent;\n",
              "      border-right-color: var(--fill-color);\n",
              "    }\n",
              "    80% {\n",
              "      border-color: transparent;\n",
              "      border-right-color: var(--fill-color);\n",
              "      border-bottom-color: var(--fill-color);\n",
              "    }\n",
              "    90% {\n",
              "      border-color: transparent;\n",
              "      border-bottom-color: var(--fill-color);\n",
              "    }\n",
              "  }\n",
              "</style>\n",
              "\n",
              "  <script>\n",
              "    async function quickchart(key) {\n",
              "      const quickchartButtonEl =\n",
              "        document.querySelector('#' + key + ' button');\n",
              "      quickchartButtonEl.disabled = true;  // To prevent multiple clicks.\n",
              "      quickchartButtonEl.classList.add('colab-df-spinner');\n",
              "      try {\n",
              "        const charts = await google.colab.kernel.invokeFunction(\n",
              "            'suggestCharts', [key], {});\n",
              "      } catch (error) {\n",
              "        console.error('Error during call to suggestCharts:', error);\n",
              "      }\n",
              "      quickchartButtonEl.classList.remove('colab-df-spinner');\n",
              "      quickchartButtonEl.classList.add('colab-df-quickchart-complete');\n",
              "    }\n",
              "    (() => {\n",
              "      let quickchartButtonEl =\n",
              "        document.querySelector('#df-87c38b1f-bb18-496f-98d3-0d9b7656b1dc button');\n",
              "      quickchartButtonEl.style.display =\n",
              "        google.colab.kernel.accessAllowed ? 'block' : 'none';\n",
              "    })();\n",
              "  </script>\n",
              "</div>\n",
              "    </div>\n",
              "  </div>\n"
            ],
            "application/vnd.google.colaboratory.intrinsic+json": {
              "type": "dataframe",
              "variable_name": "ad",
              "summary": "{\n  \"name\": \"ad\",\n  \"rows\": 1012,\n  \"fields\": [\n    {\n      \"column\": \"\\u041c\\u043e\\u0434\\u0435\\u043b\\u044c\",\n      \"properties\": {\n        \"dtype\": \"string\",\n        \"num_unique_values\": 1004,\n        \"samples\": [\n          \"Summarizer.org\",\n          \"PRD Maker\",\n          \"PrompBase\"\n        ],\n        \"semantic_type\": \"\",\n        \"description\": \"\"\n      }\n    },\n    {\n      \"column\": \"\\u0417\\u0430\\u0434\\u0430\\u0447\\u0430\",\n      \"properties\": {\n        \"dtype\": \"category\",\n        \"num_unique_values\": 127,\n        \"samples\": [\n          \"\\u0412\\u0432\\u043e\\u0434 \\u0434\\u0430\\u043d\\u043d\\u044b\\u0445 \\u0441 \\u044d\\u043b\\u0435\\u043a\\u0442\\u0440\\u043e\\u043d\\u043d\\u043e\\u0439 \\u043f\\u043e\\u0447\\u0442\\u044b\",\n          \"\\u0421\\u0432\\u043e\\u0434\\u043a\\u0438 \\u0442\\u0435\\u0445\\u043d\\u0438\\u0447\\u0435\\u0441\\u043a\\u0438\\u0445/\\u0444\\u0438\\u043d\\u0430\\u043d\\u0441\\u043e\\u0432\\u044b\\u0445 \\u043d\\u043e\\u0432\\u043e\\u0441\\u0442\\u0435\\u0439\",\n          \"\\u041f\\u0440\\u0435\\u0437\\u0435\\u043d\\u0442\\u0430\\u0446\\u0438\\u0438\"\n        ],\n        \"semantic_type\": \"\",\n        \"description\": \"\"\n      }\n    },\n    {\n      \"column\": \"\\u041e\\u043f\\u0438\\u0441\\u0430\\u043d\\u0438\\u0435\",\n      \"properties\": {\n        \"dtype\": \"string\",\n        \"num_unique_values\": 1010,\n        \"samples\": [\n          \"\\u0418\\u043d\\u0441\\u0442\\u0440\\u0443\\u043c\\u0435\\u043d\\u0442 \\u043f\\u0440\\u0435\\u0434\\u043e\\u0441\\u0442\\u0430\\u0432\\u043b\\u044f\\u0435\\u0442 \\u043a\\u043e\\u043c\\u043f\\u043b\\u0435\\u043a\\u0441\\u043d\\u043e\\u0435 \\u0440\\u0435\\u0448\\u0435\\u043d\\u0438\\u0435 \\\"\\u0440\\u043e\\u0431\\u043e\\u0442\\u043e\\u0442\\u0435\\u0445\\u043d\\u0438\\u043a\\u0430 \\u043a\\u0430\\u043a \\u0443\\u0441\\u043b\\u0443\\u0433\\u0430\\\", \\u043e\\u0431\\u0435\\u0441\\u043f\\u0435\\u0447\\u0438\\u0432\\u0430\\u044e\\u0449\\u0435\\u0435 \\u044d\\u043a\\u043e\\u043d\\u043e\\u043c\\u0438\\u044e \\u0437\\u0430\\u0442\\u0440\\u0430\\u0442 \\u0438 \\u043a\\u043e\\u043b\\u0438\\u0447\\u0435\\u0441\\u0442\\u0432\\u0435\\u043d\\u043d\\u0443\\u044e \\u043e\\u0446\\u0435\\u043d\\u043a\\u0443 \\u043f\\u043e\\u043c\\u0435\\u0449\\u0435\\u043d\\u0438\\u0439. \\u041e\\u043d \\u043e\\u0431\\u043d\\u0430\\u0440\\u0443\\u0436\\u0438\\u0432\\u0430\\u0435\\u0442 \\u043b\\u044e\\u0434\\u0435\\u0439 \\u0432 \\u043f\\u043e\\u043c\\u0435\\u0449\\u0435\\u043d\\u0438\\u044f\\u0445, \\u043f\\u0440\\u043e\\u0432\\u0435\\u0440\\u044f\\u0435\\u0442 \\u0446\\u0435\\u043b\\u043e\\u0441\\u0442\\u043d\\u043e\\u0441\\u0442\\u044c \\u043f\\u0435\\u0440\\u0438\\u043c\\u0435\\u0442\\u0440\\u0430, \\u0440\\u0435\\u0433\\u0438\\u0441\\u0442\\u0440\\u0438\\u0440\\u0443\\u0435\\u0442 \\u043e\\u0441\\u0432\\u0435\\u0449\\u0435\\u043d\\u0438\\u0435 \\u043e\\u0431\\u044a\\u0435\\u043a\\u0442\\u043e\\u0432, \\u0441\\u043a\\u0430\\u043d\\u0438\\u0440\\u0443\\u0435\\u0442 \\u043d\\u0430 \\u043d\\u0430\\u043b\\u0438\\u0447\\u0438\\u0435 \\u0442\\u0435\\u043f\\u043b\\u043e\\u0432\\u044b\\u0445 \\u0430\\u043d\\u043e\\u043c\\u0430\\u043b\\u0438\\u0439, \\u043a\\u043e\\u043d\\u0442\\u0440\\u043e\\u043b\\u0438\\u0440\\u0443\\u0435\\u0442 \\u043f\\u0430\\u0440\\u043a\\u043e\\u0432\\u043a\\u0438 \\u0438 \\u043f\\u0440\\u043e\\u0432\\u0435\\u0440\\u044f\\u0435\\u0442 \\u0434\\u0432\\u0435\\u0440\\u0438 \\u0438 \\u043e\\u043a\\u043d\\u0430.\",\n          \"Embolden - \\u044d\\u0442\\u043e \\u0438\\u043d\\u0441\\u0442\\u0440\\u0443\\u043c\\u0435\\u043d\\u0442 \\u0434\\u043b\\u044f \\u043d\\u0430\\u043f\\u0438\\u0441\\u0430\\u043d\\u0438\\u044f \\u0442\\u0435\\u043a\\u0441\\u0442\\u043e\\u0432 \\u043d\\u0430 \\u0431\\u0430\\u0437\\u0435 \\u0438\\u0441\\u043a\\u0443\\u0441\\u0441\\u0442\\u0432\\u0435\\u043d\\u043d\\u043e\\u0433\\u043e \\u0438\\u043d\\u0442\\u0435\\u043b\\u043b\\u0435\\u043a\\u0442\\u0430 \\u0434\\u043b\\u044f \\u043f\\u0440\\u0435\\u0434\\u043f\\u0440\\u0438\\u044f\\u0442\\u0438\\u0439 \\u044d\\u043b\\u0435\\u043a\\u0442\\u0440\\u043e\\u043d\\u043d\\u043e\\u0439 \\u043a\\u043e\\u043c\\u043c\\u0435\\u0440\\u0446\\u0438\\u0438. \\u041e\\u043d \\u0433\\u0435\\u043d\\u0435\\u0440\\u0438\\u0440\\u0443\\u0435\\u0442 \\u043a\\u043e\\u043d\\u0442\\u0435\\u043d\\u0442 \\u043e\\u0442 \\u044d\\u043b\\u0435\\u043a\\u0442\\u0440\\u043e\\u043d\\u043d\\u044b\\u0445 \\u043f\\u0438\\u0441\\u0435\\u043c \\u0434\\u043e \\u043e\\u043f\\u0438\\u0441\\u0430\\u043d\\u0438\\u0439 \\u043f\\u0440\\u043e\\u0434\\u0443\\u043a\\u0442\\u043e\\u0432 \\u0441 \\u043f\\u043e\\u043c\\u043e\\u0449\\u044c\\u044e \\u0438\\u0441\\u043a\\u0443\\u0441\\u0441\\u0442\\u0432\\u0435\\u043d\\u043d\\u043e\\u0433\\u043e \\u0438\\u043d\\u0442\\u0435\\u043b\\u043b\\u0435\\u043a\\u0442\\u0430, \\u0447\\u0442\\u043e \\u0434\\u0435\\u043b\\u0430\\u0435\\u0442 \\u0435\\u0433\\u043e \\u0431\\u044b\\u0441\\u0442\\u0440\\u0435\\u0435 \\u0438 \\u044d\\u0444\\u0444\\u0435\\u043a\\u0442\\u0438\\u0432\\u043d\\u0435\\u0435, \\u0447\\u0435\\u043c \\u043d\\u0430\\u043f\\u0438\\u0441\\u0430\\u043d\\u0438\\u0435 \\u0432\\u0440\\u0443\\u0447\\u043d\\u0443\\u044e.\",\n          \"OctiAI - \\u044d\\u0442\\u043e \\u0433\\u0435\\u043d\\u0435\\u0440\\u0430\\u0442\\u043e\\u0440 \\u043f\\u043e\\u0434\\u0441\\u043a\\u0430\\u0437\\u043e\\u043a \\u0418\\u0418, \\u0441\\u043f\\u0435\\u0446\\u0438\\u0430\\u043b\\u044c\\u043d\\u043e \\u0440\\u0430\\u0437\\u0440\\u0430\\u0431\\u043e\\u0442\\u0430\\u043d\\u043d\\u044b\\u0439 \\u0434\\u043b\\u044f ChatGPT, Mid Journey \\u0438 \\u0434\\u0440\\u0443\\u0433\\u0438\\u0445 \\u0440\\u0430\\u0437\\u043d\\u043e\\u043e\\u0431\\u0440\\u0430\\u0437\\u043d\\u044b\\u0445 \\u043c\\u043e\\u0434\\u0435\\u043b\\u0435\\u0439 \\u0418\\u0418 \\u0434\\u043b\\u044f \\u0441\\u043e\\u0437\\u0434\\u0430\\u043d\\u0438\\u044f \\u043a\\u043e\\u043d\\u0442\\u0435\\u043d\\u0442\\u0430. \\u0415\\u0433\\u043e \\u043e\\u0441\\u043d\\u043e\\u0432\\u043d\\u0430\\u044f \\u0446\\u0435\\u043b\\u044c - \\u043f\\u043e\\u0432\\u044b\\u0441\\u0438\\u0442\\u044c \\u043a\\u0440\\u0435\\u0430\\u0442\\u0438\\u0432\\u043d\\u043e\\u0441\\u0442\\u044c \\u0438 \\u0443\\u043b\\u0443\\u0447\\u0448\\u0438\\u0442\\u044c \\u0440\\u0435\\u0437\\u0443\\u043b\\u044c\\u0442\\u0430\\u0442\\u044b \\u0437\\u0430 \\u0441\\u0447\\u0435\\u0442 \\u0438\\u0441\\u043f\\u043e\\u043b\\u044c\\u0437\\u043e\\u0432\\u0430\\u043d\\u0438\\u044f \\u0433\\u0440\\u0430\\u0444\\u0438\\u0447\\u0435\\u0441\\u043a\\u0438\\u0445 \\u0438 \\u0442\\u0435\\u043a\\u0441\\u0442\\u043e\\u0432\\u044b\\u0445 \\u043f\\u043e\\u0434\\u0441\\u043a\\u0430\\u0437\\u043e\\u043a.\"\n        ],\n        \"semantic_type\": \"\",\n        \"description\": \"\"\n      }\n    },\n    {\n      \"column\": \"\\u041e\\u0446\\u0435\\u043d\\u043a\\u0430\",\n      \"properties\": {\n        \"dtype\": \"number\",\n        \"std\": 1.8305465003294412,\n        \"min\": 0.0,\n        \"max\": 5.0,\n        \"num_unique_values\": 20,\n        \"samples\": [\n          0.0,\n          1.6,\n          4.9\n        ],\n        \"semantic_type\": \"\",\n        \"description\": \"\"\n      }\n    },\n    {\n      \"column\": \"\\u0421\\u0444\\u0435\\u0440\\u0430\",\n      \"properties\": {\n        \"dtype\": \"category\",\n        \"num_unique_values\": 1,\n        \"samples\": [\n          \"\\u0410\\u0434\\u043c\\u0438\\u043d\\u0438\\u0441\\u0442\\u0440\\u0430\\u0442\\u0438\\u0432\\u043d\\u044b\\u0435 \\u0438 \\u043a\\u0430\\u043d\\u0446\\u0435\\u043b\\u044f\\u0440\\u0441\\u043a\\u0438\\u0435\"\n        ],\n        \"semantic_type\": \"\",\n        \"description\": \"\"\n      }\n    }\n  ]\n}"
            }
          },
          "metadata": {},
          "execution_count": 7
        }
      ]
    },
    {
      "cell_type": "code",
      "source": [
        "midad=ad['Оценка'].mean()\n",
        "midad"
      ],
      "metadata": {
        "colab": {
          "base_uri": "https://localhost:8080/"
        },
        "id": "kMUtkKLI0FH8",
        "outputId": "b575c059-479a-47a2-e929-fbe23dc38276"
      },
      "execution_count": null,
      "outputs": [
        {
          "output_type": "execute_result",
          "data": {
            "text/plain": [
              "0.9193675889328063"
            ]
          },
          "metadata": {},
          "execution_count": 8
        }
      ]
    },
    {
      "cell_type": "code",
      "source": [
        "lad=len(ad)/len(df)\n",
        "lad"
      ],
      "metadata": {
        "colab": {
          "base_uri": "https://localhost:8080/"
        },
        "id": "aaViBUnqzgJu",
        "outputId": "0677f466-7fb2-4c5a-f205-a715399f8dfb"
      },
      "execution_count": null,
      "outputs": [
        {
          "output_type": "execute_result",
          "data": {
            "text/plain": [
              "0.09270795163063393"
            ]
          },
          "metadata": {},
          "execution_count": 9
        }
      ]
    },
    {
      "cell_type": "code",
      "source": [
        "co=df.loc[df['Сфера'] == 'Строительство']\n",
        "midco=co['Оценка'].mean()\n",
        "midco"
      ],
      "metadata": {
        "colab": {
          "base_uri": "https://localhost:8080/"
        },
        "id": "CiOn7kC_0SQR",
        "outputId": "656b1cef-42fa-4e62-967b-54d819b0fd67"
      },
      "execution_count": null,
      "outputs": [
        {
          "output_type": "execute_result",
          "data": {
            "text/plain": [
              "0.7654929577464789"
            ]
          },
          "metadata": {},
          "execution_count": 10
        }
      ]
    },
    {
      "cell_type": "code",
      "source": [
        "lco=len(co)/len(df)\n",
        "lco"
      ],
      "metadata": {
        "colab": {
          "base_uri": "https://localhost:8080/"
        },
        "id": "S7-Aye4MzmEb",
        "outputId": "c3b10b0c-69e4-4b20-ba05-ed28e062a057"
      },
      "execution_count": null,
      "outputs": [
        {
          "output_type": "execute_result",
          "data": {
            "text/plain": [
              "0.013008427995602785"
            ]
          },
          "metadata": {},
          "execution_count": 11
        }
      ]
    },
    {
      "cell_type": "code",
      "source": [
        "ho=df.loc[df['Сфера'] == 'Гостеприимство']\n",
        "midho=ho['Оценка'].mean()\n",
        "midho"
      ],
      "metadata": {
        "colab": {
          "base_uri": "https://localhost:8080/"
        },
        "id": "4nE8Ww7O0iuS",
        "outputId": "aeef3b04-d310-484f-9529-4b504a5a89a3"
      },
      "execution_count": null,
      "outputs": [
        {
          "output_type": "execute_result",
          "data": {
            "text/plain": [
              "1.4383826191913096"
            ]
          },
          "metadata": {},
          "execution_count": 12
        }
      ]
    },
    {
      "cell_type": "code",
      "source": [
        "lho=len(ho)/len(df)\n",
        "lho"
      ],
      "metadata": {
        "colab": {
          "base_uri": "https://localhost:8080/"
        },
        "id": "f-gylgzSzrdC",
        "outputId": "e8fbf511-a45e-496a-ea5b-a38ba01e2514"
      },
      "execution_count": null,
      "outputs": [
        {
          "output_type": "execute_result",
          "data": {
            "text/plain": [
              "0.1517955294979846"
            ]
          },
          "metadata": {},
          "execution_count": 13
        }
      ]
    },
    {
      "cell_type": "code",
      "source": [
        "me=df.loc[df['Сфера'] == 'Медицина и здравоохранение']\n",
        "midme=me['Оценка'].mean()\n",
        "midme"
      ],
      "metadata": {
        "colab": {
          "base_uri": "https://localhost:8080/"
        },
        "id": "pJiE7oOq02MD",
        "outputId": "7f616b19-bf4c-40fc-8449-25531c454222"
      },
      "execution_count": null,
      "outputs": [
        {
          "output_type": "execute_result",
          "data": {
            "text/plain": [
              "0.45216000000000006"
            ]
          },
          "metadata": {},
          "execution_count": 14
        }
      ]
    },
    {
      "cell_type": "code",
      "source": [
        "lme=len(me)/len(df)\n",
        "lme"
      ],
      "metadata": {
        "colab": {
          "base_uri": "https://localhost:8080/"
        },
        "id": "0se1j739zxFl",
        "outputId": "5c0836fd-aed5-4803-8df2-8552d90a46b6"
      },
      "execution_count": null,
      "outputs": [
        {
          "output_type": "execute_result",
          "data": {
            "text/plain": [
              "0.057255404910223524"
            ]
          },
          "metadata": {},
          "execution_count": 15
        }
      ]
    },
    {
      "cell_type": "code",
      "source": [
        "sa=df.loc[df['Сфера'] == 'Продажи и маркетинг']\n",
        "midsa=sa['Оценка'].mean()\n",
        "midsa"
      ],
      "metadata": {
        "colab": {
          "base_uri": "https://localhost:8080/"
        },
        "id": "6GVy6zxR1FCZ",
        "outputId": "9a0b2410-897f-4ab9-fee2-8fc86129b57a"
      },
      "execution_count": null,
      "outputs": [
        {
          "output_type": "execute_result",
          "data": {
            "text/plain": [
              "1.0037546933667083"
            ]
          },
          "metadata": {},
          "execution_count": 16
        }
      ]
    },
    {
      "cell_type": "code",
      "source": [
        "lsa=len(sa)/len(df)\n",
        "lsa"
      ],
      "metadata": {
        "colab": {
          "base_uri": "https://localhost:8080/"
        },
        "id": "jmjs0KMiz1lB",
        "outputId": "c7355a8a-dcb9-40d3-a48a-af7b83fca43f"
      },
      "execution_count": null,
      "outputs": [
        {
          "output_type": "execute_result",
          "data": {
            "text/plain": [
              "0.07319530963722976"
            ]
          },
          "metadata": {},
          "execution_count": 17
        }
      ]
    },
    {
      "cell_type": "code",
      "source": [
        "le=df.loc[df['Сфера'] == 'Лидерство и стратегия']\n",
        "midle=le['Оценка'].mean()\n",
        "midle"
      ],
      "metadata": {
        "colab": {
          "base_uri": "https://localhost:8080/"
        },
        "id": "cfBnVT2k1Y4a",
        "outputId": "56c95f1b-8294-4a43-d412-3fa84a453a59"
      },
      "execution_count": null,
      "outputs": [
        {
          "output_type": "execute_result",
          "data": {
            "text/plain": [
              "1.1123214285714285"
            ]
          },
          "metadata": {},
          "execution_count": 18
        }
      ]
    },
    {
      "cell_type": "code",
      "source": [
        "lle=len(le)/len(df)\n",
        "lle"
      ],
      "metadata": {
        "colab": {
          "base_uri": "https://localhost:8080/"
        },
        "id": "Y9evDf05z6B6",
        "outputId": "a20fee6f-ae79-4bd4-ed5f-74b6079336bd"
      },
      "execution_count": null,
      "outputs": [
        {
          "output_type": "execute_result",
          "data": {
            "text/plain": [
              "0.05130084279956028"
            ]
          },
          "metadata": {},
          "execution_count": 19
        }
      ]
    },
    {
      "cell_type": "code",
      "source": [
        "su=df.loc[df['Сфера'] == 'Цепочка поставок и логистика']\n",
        "midsu=su['Оценка'].mean()\n",
        "midsu"
      ],
      "metadata": {
        "colab": {
          "base_uri": "https://localhost:8080/"
        },
        "id": "X1WO5scE1z2-",
        "outputId": "e5c1c447-2fe9-421f-8124-e031853cd0a0"
      },
      "execution_count": null,
      "outputs": [
        {
          "output_type": "execute_result",
          "data": {
            "text/plain": [
              "0.4614457831325301"
            ]
          },
          "metadata": {},
          "execution_count": 20
        }
      ]
    },
    {
      "cell_type": "code",
      "source": [
        "lsu=len(su)/len(df)\n",
        "lsu"
      ],
      "metadata": {
        "colab": {
          "base_uri": "https://localhost:8080/"
        },
        "id": "Wg2pV2T20A0g",
        "outputId": "c7169693-b129-43d2-a8e6-eb4fd82c54c5"
      },
      "execution_count": null,
      "outputs": [
        {
          "output_type": "execute_result",
          "data": {
            "text/plain": [
              "0.0076035177720776845"
            ]
          },
          "metadata": {},
          "execution_count": 21
        }
      ]
    },
    {
      "cell_type": "code",
      "source": [
        "la=df.loc[df['Сфера'] == 'Правоохранительный']\n",
        "midla=la['Оценка'].mean()\n",
        "midla"
      ],
      "metadata": {
        "colab": {
          "base_uri": "https://localhost:8080/"
        },
        "id": "rtJH-bKV2JMh",
        "outputId": "ce9904ac-2b18-40dc-9d98-c7098b706b46"
      },
      "execution_count": null,
      "outputs": [
        {
          "output_type": "execute_result",
          "data": {
            "text/plain": [
              "0.605191256830601"
            ]
          },
          "metadata": {},
          "execution_count": 22
        }
      ]
    },
    {
      "cell_type": "code",
      "source": [
        "lla=len(la)/len(df)\n",
        "lla"
      ],
      "metadata": {
        "colab": {
          "base_uri": "https://localhost:8080/"
        },
        "id": "0yIO1nGG0G8A",
        "outputId": "445d2082-0c1c-4ab2-e704-191c32ab6b69"
      },
      "execution_count": null,
      "outputs": [
        {
          "output_type": "execute_result",
          "data": {
            "text/plain": [
              "0.0335287651154269"
            ]
          },
          "metadata": {},
          "execution_count": 23
        }
      ]
    },
    {
      "cell_type": "code",
      "source": [
        "com.groupby('Задача')['Сфера']. nunique ()"
      ],
      "metadata": {
        "colab": {
          "base_uri": "https://localhost:8080/"
        },
        "id": "Gt7KYLitAsL4",
        "outputId": "a9d4e2da-2a2e-428e-9965-71b62b650e52"
      },
      "execution_count": null,
      "outputs": [
        {
          "output_type": "execute_result",
          "data": {
            "text/plain": [
              "Задача\n",
              "360 фонов                                          1\n",
              "CRM                                                1\n",
              "ChatGPT для Android                                1\n",
              "ChatGPT для Gmail                                  1\n",
              "ChatGPT для Whatsapp                               1\n",
              "                                                  ..\n",
              "Электронные письма LinkedIn                        1\n",
              "Электронные письма с отказом в приеме на работу    1\n",
              "Эскизы                                             1\n",
              "аннотации на Youtube                               1\n",
              "обнаружение голоса ИИ                              1\n",
              "Name: Сфера, Length: 734, dtype: int64"
            ]
          },
          "metadata": {},
          "execution_count": 24
        }
      ]
    },
    {
      "cell_type": "code",
      "source": [
        "rcom=len(com.groupby('Задача')['Сфера']. nunique ())/len(com)\n",
        "rcom"
      ],
      "metadata": {
        "colab": {
          "base_uri": "https://localhost:8080/"
        },
        "id": "PYJq7_EwBkgn",
        "outputId": "d6a981f8-f429-4a10-9deb-5859bee93832"
      },
      "execution_count": null,
      "outputs": [
        {
          "output_type": "execute_result",
          "data": {
            "text/plain": [
              "0.18222442899702085"
            ]
          },
          "metadata": {},
          "execution_count": 25
        }
      ]
    },
    {
      "cell_type": "code",
      "source": [
        "lcom=len(com)/len(df)\n",
        "lcom"
      ],
      "metadata": {
        "colab": {
          "base_uri": "https://localhost:8080/"
        },
        "id": "l8IQE--0zFjW",
        "outputId": "70f5b401-8cea-4ae0-9363-6a479eecab99"
      },
      "execution_count": null,
      "outputs": [
        {
          "output_type": "execute_result",
          "data": {
            "text/plain": [
              "0.36899963356540855"
            ]
          },
          "metadata": {},
          "execution_count": 26
        }
      ]
    },
    {
      "cell_type": "code",
      "source": [
        "da.groupby('Задача')['Сфера']. nunique ()"
      ],
      "metadata": {
        "colab": {
          "base_uri": "https://localhost:8080/"
        },
        "id": "AXsMw8M6ADfO",
        "outputId": "e979603c-d20c-4984-9a6f-f6aef6dc80f9"
      },
      "execution_count": null,
      "outputs": [
        {
          "output_type": "execute_result",
          "data": {
            "text/plain": [
              "Задача\n",
              "3D анимация                          1\n",
              "3D игровые ресурсы                   1\n",
              "3D-объекты                           1\n",
              "3D-персонажи                         1\n",
              "3D-текстуры                          1\n",
              "                                    ..\n",
              "Целевые страницы                     1\n",
              "Цифровые руководства пользователя    1\n",
              "Шифрование и анализ данных           1\n",
              "Энергоэффективность                  1\n",
              "хранение информации ИИ               1\n",
              "Name: Сфера, Length: 412, dtype: int64"
            ]
          },
          "metadata": {},
          "execution_count": 29
        }
      ]
    },
    {
      "cell_type": "code",
      "source": [
        "rda=len(da.groupby('Задача')['Сфера']. nunique ())/len(da)\n",
        "rda"
      ],
      "metadata": {
        "colab": {
          "base_uri": "https://localhost:8080/"
        },
        "id": "pwBGzmWnBzqz",
        "outputId": "6696358f-00f1-4152-d627-3d10ebdaed1d"
      },
      "execution_count": null,
      "outputs": [
        {
          "output_type": "execute_result",
          "data": {
            "text/plain": [
              "0.25060827250608275"
            ]
          },
          "metadata": {},
          "execution_count": 27
        }
      ]
    },
    {
      "cell_type": "code",
      "source": [
        "ad.groupby('Задача')['Сфера']. nunique ()"
      ],
      "metadata": {
        "colab": {
          "base_uri": "https://localhost:8080/"
        },
        "id": "0X--NURDAOEN",
        "outputId": "211697d2-6d38-4861-a3ca-ee6e84ddf3d7"
      },
      "execution_count": null,
      "outputs": [
        {
          "output_type": "execute_result",
          "data": {
            "text/plain": [
              "Задача\n",
              "CSV-файл Вопросы и ответы                        1\n",
              "ChatGPT                                          1\n",
              "ChatGPT для Excel                                1\n",
              "ChatGPT для Wordpress                            1\n",
              "ChatGPT для Workspace                            1\n",
              "                                                ..\n",
              "Хранение и повторное использование информации    1\n",
              "Цифровые руководства пользователя                1\n",
              "Чтение документов                                1\n",
              "Чтение статьи                                    1\n",
              "Электронные письма о наборе персонала            1\n",
              "Name: Сфера, Length: 127, dtype: int64"
            ]
          },
          "metadata": {},
          "execution_count": 28
        }
      ]
    },
    {
      "cell_type": "code",
      "source": [
        "rad=len(ad.groupby('Задача')['Сфера']. nunique ())/len(ad)\n",
        "rad"
      ],
      "metadata": {
        "colab": {
          "base_uri": "https://localhost:8080/"
        },
        "id": "9_Qj3GPVB7uM",
        "outputId": "0a605dcc-609e-4e43-b2ab-dd938137141d"
      },
      "execution_count": null,
      "outputs": [
        {
          "output_type": "execute_result",
          "data": {
            "text/plain": [
              "0.12549407114624506"
            ]
          },
          "metadata": {},
          "execution_count": 29
        }
      ]
    },
    {
      "cell_type": "code",
      "source": [
        "co.groupby('Задача')['Сфера']. nunique ()"
      ],
      "metadata": {
        "colab": {
          "base_uri": "https://localhost:8080/"
        },
        "id": "IcubRdYMAX86",
        "outputId": "053e237c-7117-4bbc-ce8d-ac7d174e7e65"
      },
      "execution_count": null,
      "outputs": [
        {
          "output_type": "execute_result",
          "data": {
            "text/plain": [
              "Задача\n",
              "3D дизайн                                        1\n",
              "3D планирование этажа                            1\n",
              "3D экскурсии по дому                             1\n",
              "3D-реконструкция                                 1\n",
              "3D-текстуры                                      1\n",
              "Автомобильные обертывания                        1\n",
              "Архитектурное планирование                       1\n",
              "Архитектурный дизайн                             1\n",
              "Благоустройство дома                             1\n",
              "Видеоролики о полете                             1\n",
              "Вопросы и ответы по строительной документации    1\n",
              "Всплывающие сообщения                            1\n",
              "Дизайн                                           1\n",
              "Дизайн дома                                      1\n",
              "Дизайн домов                                     1\n",
              "Дизайн зданий                                    1\n",
              "Дизайн интерьера                                 1\n",
              "Дизайн интерьера/экстерьера                      1\n",
              "Дизайн мебели                                    1\n",
              "Дизайн мебели для спальни                        1\n",
              "Дизайн мягкой мебели                             1\n",
              "Дизайн офиса                                     1\n",
              "Изображения дома мечты                           1\n",
              "Изображения промышленного дизайна                1\n",
              "Ландшафтный дизайн                               1\n",
              "Мониторинг безопасности на рабочем месте         1\n",
              "Обжарка в помещении                              1\n",
              "Планы электроснабжения                           1\n",
              "Постановка комнаты                               1\n",
              "Проектирование зданий                            1\n",
              "Проекты своими руками                            1\n",
              "Реконструкция дома                               1\n",
              "Управление строительством                        1\n",
              "Физическое моделирование                         1\n",
              "Name: Сфера, dtype: int64"
            ]
          },
          "metadata": {},
          "execution_count": 30
        }
      ]
    },
    {
      "cell_type": "code",
      "source": [
        "rco=len(co.groupby('Задача')['Сфера']. nunique ())/len(co)\n",
        "rco"
      ],
      "metadata": {
        "colab": {
          "base_uri": "https://localhost:8080/"
        },
        "id": "sXYZPA6iCB3Y",
        "outputId": "f39319ce-b2e9-46aa-babc-bd09c579dbb7"
      },
      "execution_count": null,
      "outputs": [
        {
          "output_type": "execute_result",
          "data": {
            "text/plain": [
              "0.23943661971830985"
            ]
          },
          "metadata": {},
          "execution_count": 31
        }
      ]
    },
    {
      "cell_type": "code",
      "source": [
        "ho.groupby('Задача')['Сфера']. nunique ()"
      ],
      "metadata": {
        "colab": {
          "base_uri": "https://localhost:8080/"
        },
        "id": "YB0nRyrRAxHf",
        "outputId": "6abbdf76-d2e3-4329-b450-0aaf6193b78a"
      },
      "execution_count": null,
      "outputs": [
        {
          "output_type": "execute_result",
          "data": {
            "text/plain": [
              "Задача\n",
              "360 фонов                    1\n",
              "3D анимация                  1\n",
              "3D-аватары                   1\n",
              "3D-изображения               1\n",
              "3D-модели                    1\n",
              "                            ..\n",
              "Экскурсоводы-экскурсоводы    1\n",
              "Эмодзи                       1\n",
              "Эскиз к изображению          1\n",
              "Эскизы                       1\n",
              "аватары 18-го века           1\n",
              "Name: Сфера, Length: 435, dtype: int64"
            ]
          },
          "metadata": {},
          "execution_count": 32
        }
      ]
    },
    {
      "cell_type": "code",
      "source": [
        "rho=len(ho.groupby('Задача')['Сфера']. nunique ())/len(ho)\n",
        "rho"
      ],
      "metadata": {
        "colab": {
          "base_uri": "https://localhost:8080/"
        },
        "id": "8ambHP8aCHyz",
        "outputId": "bd201597-3230-4837-dbc2-887641ec7f85"
      },
      "execution_count": null,
      "outputs": [
        {
          "output_type": "execute_result",
          "data": {
            "text/plain": [
              "0.26252263126131564"
            ]
          },
          "metadata": {},
          "execution_count": 33
        }
      ]
    },
    {
      "cell_type": "code",
      "source": [
        "me.groupby('Задача')['Сфера']. nunique ()"
      ],
      "metadata": {
        "colab": {
          "base_uri": "https://localhost:8080/"
        },
        "id": "qv2tBPAeA6mz",
        "outputId": "829e8ada-f927-4840-d61b-e46128a52859"
      },
      "execution_count": null,
      "outputs": [
        {
          "output_type": "execute_result",
          "data": {
            "text/plain": [
              "Задача\n",
              "SEO-контент в области здравоохранения            1\n",
              "Автоматизация задач в области здравоохранения    1\n",
              "Автоматизация задач здравоохранения              1\n",
              "Автоматизированный биллинг                       1\n",
              "Анализ медицинских данных                        1\n",
              "                                                ..\n",
              "Физиотерапия                                     1\n",
              "Фитнес                                           1\n",
              "Чат-бот для СДВГ                                 1\n",
              "Эмоциональная поддержка                          1\n",
              "Эмоциональное благополучие подростков            1\n",
              "Name: Сфера, Length: 101, dtype: int64"
            ]
          },
          "metadata": {},
          "execution_count": 37
        }
      ]
    },
    {
      "cell_type": "code",
      "source": [
        "rme=len(me.groupby('Задача')['Сфера']. nunique ())/len(me)\n",
        "rme"
      ],
      "metadata": {
        "colab": {
          "base_uri": "https://localhost:8080/"
        },
        "id": "T42BzyUHCOcS",
        "outputId": "803f8047-06ee-415a-fb64-0b13901af753"
      },
      "execution_count": null,
      "outputs": [
        {
          "output_type": "execute_result",
          "data": {
            "text/plain": [
              "0.1616"
            ]
          },
          "metadata": {},
          "execution_count": 34
        }
      ]
    },
    {
      "cell_type": "code",
      "source": [
        "sa.groupby('Задача')['Сфера']. nunique ()"
      ],
      "metadata": {
        "colab": {
          "base_uri": "https://localhost:8080/"
        },
        "id": "v7wEmYg9BAQF",
        "outputId": "2df23709-5fc2-4451-dd5d-f11bf33a2d8c"
      },
      "execution_count": null,
      "outputs": [
        {
          "output_type": "execute_result",
          "data": {
            "text/plain": [
              "Задача\n",
              "3D экскурсии по дому             1\n",
              "ChatGPT для Amazon               1\n",
              "ChatGPT для дилерских центров    1\n",
              "ChatGPT на Mac                   1\n",
              "QR-коды                          1\n",
              "                                ..\n",
              "Формы для клиентов               1\n",
              "Фотография продукта              1\n",
              "Цены на недвижимость             1\n",
              "Чат-боты по продажам             1\n",
              "Чат-приложения                   1\n",
              "Name: Сфера, Length: 278, dtype: int64"
            ]
          },
          "metadata": {},
          "execution_count": 39
        }
      ]
    },
    {
      "cell_type": "code",
      "source": [
        "rsa=len(sa.groupby('Задача')['Сфера']. nunique ())/len(sa)\n",
        "rsa"
      ],
      "metadata": {
        "colab": {
          "base_uri": "https://localhost:8080/"
        },
        "id": "IwxCWg6NCTeI",
        "outputId": "914e9205-436f-4231-949f-25930c8e353e"
      },
      "execution_count": null,
      "outputs": [
        {
          "output_type": "execute_result",
          "data": {
            "text/plain": [
              "0.3479349186483104"
            ]
          },
          "metadata": {},
          "execution_count": 35
        }
      ]
    },
    {
      "cell_type": "code",
      "source": [
        "le.groupby('Задача')['Сфера']. nunique ()"
      ],
      "metadata": {
        "colab": {
          "base_uri": "https://localhost:8080/"
        },
        "id": "zgob6tbIBIRU",
        "outputId": "551d0410-7820-4b8b-ace5-60a935279e92"
      },
      "execution_count": null,
      "outputs": [
        {
          "output_type": "execute_result",
          "data": {
            "text/plain": [
              "Задача\n",
              "AgentGPT                            1\n",
              "ChatGPT для iMessage                1\n",
              "ChatGPT для электронных таблиц      1\n",
              "ChatGPT на Notion                   1\n",
              "ChatGPT по климату и энергетике     1\n",
              "                                   ..\n",
              "Цели                                1\n",
              "Чат-бот для WhatApp и Telegram      1\n",
              "Шахматы и общение в чате            1\n",
              "Эффективность работы сотрудников    1\n",
              "встречи один на один                1\n",
              "Name: Сфера, Length: 249, dtype: int64"
            ]
          },
          "metadata": {},
          "execution_count": 41
        }
      ]
    },
    {
      "cell_type": "code",
      "source": [
        "rle=len(le.groupby('Задача')['Сфера']. nunique ())/len(le)\n",
        "rle"
      ],
      "metadata": {
        "colab": {
          "base_uri": "https://localhost:8080/"
        },
        "id": "AUYdh1R-Cb61",
        "outputId": "379cd945-54a1-47bc-b9f6-21fd2defa593"
      },
      "execution_count": null,
      "outputs": [
        {
          "output_type": "execute_result",
          "data": {
            "text/plain": [
              "0.4446428571428571"
            ]
          },
          "metadata": {},
          "execution_count": 36
        }
      ]
    },
    {
      "cell_type": "code",
      "source": [
        "su.groupby('Задача')['Сфера']. nunique ()"
      ],
      "metadata": {
        "colab": {
          "base_uri": "https://localhost:8080/"
        },
        "id": "533MiNNPBK9-",
        "outputId": "9c2eb288-b682-485e-cd62-eccf26eab6ae"
      },
      "execution_count": null,
      "outputs": [
        {
          "output_type": "execute_result",
          "data": {
            "text/plain": [
              "Задача\n",
              "Автомобильная навигация                   1\n",
              "Анализ технического обслуживания дорог    1\n",
              "Безопасность велосипедиста                1\n",
              "Витрины ресторанов                        1\n",
              "Геопространственные данные                1\n",
              "Геопространственный анализ                1\n",
              "Глобальная инфраструктура                 1\n",
              "Дизайн упаковки                           1\n",
              "Дропшиппинг                               1\n",
              "Дропшиппинг-Дропшиппинг                   1\n",
              "Заказ еды                                 1\n",
              "Карты                                     1\n",
              "Краткое описание электромобилей           1\n",
              "Общение об авиации                        1\n",
              "Оптимизация цепочки поставок              1\n",
              "Отзывы о вождении                         1\n",
              "Отслеживание продукта                     1\n",
              "Парковка признаки значение                1\n",
              "Поиск по картам                           1\n",
              "Преобразование текста в речь              1\n",
              "Прогнозирование погоды                    1\n",
              "Рабочий дневник                           1\n",
              "Разбор полетов                            1\n",
              "Редактирование карты                      1\n",
              "Рецепты                                   1\n",
              "Рецепты из остатков                       1\n",
              "Управление космическим трафиком           1\n",
              "Name: Сфера, dtype: int64"
            ]
          },
          "metadata": {},
          "execution_count": 43
        }
      ]
    },
    {
      "cell_type": "code",
      "source": [
        "rsu=len(su.groupby('Задача')['Сфера']. nunique ())/len(su)\n",
        "rsu"
      ],
      "metadata": {
        "colab": {
          "base_uri": "https://localhost:8080/"
        },
        "id": "EwEma9ZsChn8",
        "outputId": "6aeb0cd1-c6d0-4899-b661-0f3bc69fd3e4"
      },
      "execution_count": null,
      "outputs": [
        {
          "output_type": "execute_result",
          "data": {
            "text/plain": [
              "0.3253012048192771"
            ]
          },
          "metadata": {},
          "execution_count": 37
        }
      ]
    },
    {
      "cell_type": "code",
      "source": [
        "la.groupby('Задача')['Сфера']. nunique ()"
      ],
      "metadata": {
        "colab": {
          "base_uri": "https://localhost:8080/"
        },
        "id": "Y1aNOmYKBSZh",
        "outputId": "d1d6ccb7-3ed3-4403-a820-3e618b2f6fe2"
      },
      "execution_count": null,
      "outputs": [
        {
          "output_type": "execute_result",
          "data": {
            "text/plain": [
              "Задача\n",
              "ChatGPT для юристов                             1\n",
              "Автоматизация задач для юридической практики    1\n",
              "Автоматизированный биллинг                      1\n",
              "Анализ выборов                                  1\n",
              "Анализ конфиденциальности веб-сайта             1\n",
              "                                               ..\n",
              "Юридическая консультация                        1\n",
              "Юридические вердикты                            1\n",
              "Юридические документы                           1\n",
              "Юридические переводы                            1\n",
              "Явное обнаружение веб-сайта                     1\n",
              "Name: Сфера, Length: 102, dtype: int64"
            ]
          },
          "metadata": {},
          "execution_count": 45
        }
      ]
    },
    {
      "cell_type": "code",
      "source": [
        "rla=len(la.groupby('Задача')['Сфера']. nunique ())/len(la)\n",
        "rla"
      ],
      "metadata": {
        "colab": {
          "base_uri": "https://localhost:8080/"
        },
        "id": "tVY_Zij8Cp5G",
        "outputId": "29335414-cab4-4b46-c394-90f1adf4ea73"
      },
      "execution_count": null,
      "outputs": [
        {
          "output_type": "execute_result",
          "data": {
            "text/plain": [
              "0.2786885245901639"
            ]
          },
          "metadata": {},
          "execution_count": 38
        }
      ]
    },
    {
      "cell_type": "code",
      "source": [
        "import seaborn as sns\n",
        "x=[midc, midsu, midho, midme, midla, midsa, midle, midco, midad, midda]\n",
        "y=[rcom, rsu, rho, rme, rla, rsa, rle, rco, rad, rda]\n",
        "ax=sns.scatterplot(x=x,y=y)\n",
        "ax.set (xlabel='Средняя оценка',\n",
        " ylabel='Рациональность использования')\n",
        "\n",
        "plt.show()"
      ],
      "metadata": {
        "colab": {
          "base_uri": "https://localhost:8080/",
          "height": 449
        },
        "id": "QKrcHBTsV7ZI",
        "outputId": "82e22ab6-f7ca-4c99-bba9-4616f728e06f"
      },
      "execution_count": null,
      "outputs": [
        {
          "output_type": "display_data",
          "data": {
            "text/plain": [
              "<Figure size 640x480 with 1 Axes>"
            ],
            "image/png": "[encoded data removed]"
          },
          "metadata": {}
        }
      ]
    },
    {
      "cell_type": "code",
      "source": [
        "from rpy2.robjects.vectors import FloatVector\n",
        "from rpy2.robjects.packages import importr\n",
        "\n",
        "stats = importr('stats')\n",
        "result = stats.cor(FloatVector(x), FloatVector(y))\n",
        "result"
      ],
      "metadata": {
        "colab": {
          "base_uri": "https://localhost:8080/",
          "height": 56
        },
        "id": "8bxThYDUZ0-A",
        "outputId": "5344d59c-8ff2-44b8-9509-dfd02a5affcf"
      },
      "execution_count": null,
      "outputs": [
        {
          "output_type": "execute_result",
          "data": {
            "text/plain": [
              "<rpy2.robjects.vectors.FloatVector object at 0x7a1d5d644180> [RTYPES.REALSXP]\n",
              "R classes: ('numeric',)\n",
              "[0.172641]"
            ],
            "text/html": [
              "\n",
              "        <span>FloatVector with 1 elements.</span>\n",
              "        <table>\n",
              "        <tbody>\n",
              "          <tr>\n",
              "          \n",
              "            <td>\n",
              "            0.172641\n",
              "            </td>\n",
              "          \n",
              "          </tr>\n",
              "        </tbody>\n",
              "        </table>\n",
              "        "
            ]
          },
          "metadata": {},
          "execution_count": 47
        }
      ]
    },
    {
      "cell_type": "code",
      "source": [
        "y=[len(com.groupby('Задача')['Сфера']. nunique ()),len(su.groupby('Задача')['Сфера']. nunique ()),len(ho.groupby('Задача')['Сфера']. nunique ()),len(me.groupby('Задача')['Сфера']. nunique ()),len(la.groupby('Задача')['Сфера']. nunique ()),len(sa.groupby('Задача')['Сфера']. nunique ()),len(le.groupby('Задача')['Сфера']. nunique ()),len(co.groupby('Задача')['Сфера']. nunique ()),len(ad.groupby('Задача')['Сфера']. nunique ()),len(da.groupby('Задача')['Сфера']. nunique ())]\n",
        "from rpy2.robjects.vectors import FloatVector\n",
        "from rpy2.robjects.packages import importr\n",
        "\n",
        "stats = importr('stats')\n",
        "result = stats.cor(FloatVector(x), FloatVector(y))\n",
        "result"
      ],
      "metadata": {
        "colab": {
          "base_uri": "https://localhost:8080/",
          "height": 56
        },
        "id": "SLQhn7dKh_mr",
        "outputId": "2cbbf6a5-9687-40a7-c2d0-ea08e3901956"
      },
      "execution_count": null,
      "outputs": [
        {
          "output_type": "execute_result",
          "data": {
            "text/plain": [
              "<rpy2.robjects.vectors.FloatVector object at 0x78ca3a1a56c0> [RTYPES.REALSXP]\n",
              "R classes: ('numeric',)\n",
              "[0.691307]"
            ],
            "text/html": [
              "\n",
              "        <span>FloatVector with 1 elements.</span>\n",
              "        <table>\n",
              "        <tbody>\n",
              "          <tr>\n",
              "          \n",
              "            <td>\n",
              "            0.691307\n",
              "            </td>\n",
              "          \n",
              "          </tr>\n",
              "        </tbody>\n",
              "        </table>\n",
              "        "
            ]
          },
          "metadata": {},
          "execution_count": 72
        }
      ]
    },
    {
      "cell_type": "code",
      "source": [
        "ax=sns.scatterplot(x=x,y=y)\n",
        "ax.set (xlabel='Средняя оценка',\n",
        " ylabel='Количество задач')\n",
        "\n",
        "plt.show()"
      ],
      "metadata": {
        "colab": {
          "base_uri": "https://localhost:8080/",
          "height": 449
        },
        "id": "amVeBqlEjYzb",
        "outputId": "546a1764-a604-4b17-d0f5-1dc01b5c4b2f"
      },
      "execution_count": null,
      "outputs": [
        {
          "output_type": "display_data",
          "data": {
            "text/plain": [
              "<Figure size 640x480 with 1 Axes>"
            ],
            "image/png": "[encoded data removed]"
          },
          "metadata": {}
        }
      ]
    },
    {
      "cell_type": "code",
      "source": [
        "y=['Коммуникации и PR','Цепочка поставок и логистика','Гостеприимство','Медицина и здравоохранение','Правоохранительный','Продажи и маркетинг','Лидерство и стратегия','Строительство', 'Административные и канцелярские', 'Данные и IT']\n",
        "ax=sns.scatterplot(x=x,y=y)\n",
        "ax.set (xlabel='Средняя оценка',\n",
        " ylabel='Сфера')\n",
        "\n",
        "plt.show()"
      ],
      "metadata": {
        "colab": {
          "base_uri": "https://localhost:8080/",
          "height": 449
        },
        "id": "dIxHQiw2YiBi",
        "outputId": "cac53ba4-f144-43bc-f6ce-4371c61f8f96"
      },
      "execution_count": null,
      "outputs": [
        {
          "output_type": "display_data",
          "data": {
            "text/plain": [
              "<Figure size 640x480 with 1 Axes>"
            ],
            "image/png": "[encoded data removed]"
          },
          "metadata": {}
        }
      ]
    },
    {
      "cell_type": "code",
      "source": [
        "y=[len(com),len(su),len(ho),len(me),len(la),len(sa),len(le),len(co),len(ad),len(da)]\n",
        "ax=sns.scatterplot(x=x,y=y)\n",
        "ax.set (xlabel='Средняя оценка',\n",
        " ylabel='Количество моделей')\n",
        "\n",
        "plt.show()"
      ],
      "metadata": {
        "colab": {
          "base_uri": "https://localhost:8080/",
          "height": 449
        },
        "id": "XLkS7Uy150SM",
        "outputId": "7eff79cb-bfe3-4f0b-9540-be85ac52d27d"
      },
      "execution_count": null,
      "outputs": [
        {
          "output_type": "display_data",
          "data": {
            "text/plain": [
              "<Figure size 640x480 with 1 Axes>"
            ],
            "image/png": "[encoded data removed]"
          },
          "metadata": {}
        }
      ]
    },
    {
      "cell_type": "code",
      "source": [
        "y=[1, 2, 3, 4, 5, 6, 7, 8, 9, 10]\n",
        "stats = importr('stats')\n",
        "result = stats.cor(FloatVector(x), FloatVector(y))\n",
        "result"
      ],
      "metadata": {
        "colab": {
          "base_uri": "https://localhost:8080/",
          "height": 56
        },
        "id": "zYwbJWlgf6cE",
        "outputId": "238c1819-eab5-4425-ae2b-e2b677ea83b4"
      },
      "execution_count": null,
      "outputs": [
        {
          "output_type": "execute_result",
          "data": {
            "text/plain": [
              "<rpy2.robjects.vectors.FloatVector object at 0x7a1d4ea880c0> [RTYPES.REALSXP]\n",
              "R classes: ('numeric',)\n",
              "[0.132119]"
            ],
            "text/html": [
              "\n",
              "        <span>FloatVector with 1 elements.</span>\n",
              "        <table>\n",
              "        <tbody>\n",
              "          <tr>\n",
              "          \n",
              "            <td>\n",
              "            0.132119\n",
              "            </td>\n",
              "          \n",
              "          </tr>\n",
              "        </tbody>\n",
              "        </table>\n",
              "        "
            ]
          },
          "metadata": {},
          "execution_count": 52
        }
      ]
    },
    {
      "cell_type": "code",
      "source": [
        "y=[len(com),len(su),len(ho),len(me),len(la),len(sa),len(le),len(co),len(ad),len(da)]\n",
        "stats = importr('stats')\n",
        "result = stats.cor(FloatVector(x), FloatVector(y))\n",
        "result"
      ],
      "metadata": {
        "colab": {
          "base_uri": "https://localhost:8080/",
          "height": 56
        },
        "id": "W2dSDy9jl5p4",
        "outputId": "0c881f01-e1f5-4c00-b9bf-a53d768d6d8f"
      },
      "execution_count": null,
      "outputs": [
        {
          "output_type": "execute_result",
          "data": {
            "text/plain": [
              "<rpy2.robjects.vectors.FloatVector object at 0x78ca3958b3c0> [RTYPES.REALSXP]\n",
              "R classes: ('numeric',)\n",
              "[0.513208]"
            ],
            "text/html": [
              "\n",
              "        <span>FloatVector with 1 elements.</span>\n",
              "        <table>\n",
              "        <tbody>\n",
              "          <tr>\n",
              "          \n",
              "            <td>\n",
              "            0.513208\n",
              "            </td>\n",
              "          \n",
              "          </tr>\n",
              "        </tbody>\n",
              "        </table>\n",
              "        "
            ]
          },
          "metadata": {},
          "execution_count": 76
        }
      ]
    },
    {
      "cell_type": "code",
      "source": [
        "x=[rcom, rsu, rho, rme, rla, rsa, rle, rco, rad, rda]\n",
        "y=['Коммуникации и PR','Цепочка поставок и логистика','Гостеприимство','Медицина и здравоохранение','Правоохранительный','Продажи и маркетинг','Лидерство и стратегия','Строительство', 'Административные и канцелярские', 'Данные и IT']\n",
        "ax=sns.scatterplot(x=x,y=y)\n",
        "ax.set (xlabel='Рациональность использования',\n",
        " ylabel='Сфера')\n",
        "\n",
        "plt.show()"
      ],
      "metadata": {
        "colab": {
          "base_uri": "https://localhost:8080/",
          "height": 449
        },
        "id": "byaTIdCnY8JB",
        "outputId": "b3a66811-0dc5-4f5b-8660-c37f5d9d477a"
      },
      "execution_count": null,
      "outputs": [
        {
          "output_type": "display_data",
          "data": {
            "text/plain": [
              "<Figure size 640x480 with 1 Axes>"
            ],
            "image/png": "[encoded data removed]"
          },
          "metadata": {}
        }
      ]
    },
    {
      "cell_type": "code",
      "source": [
        "y=[len(com.groupby('Задача')['Сфера']. nunique ()),len(su.groupby('Задача')['Сфера']. nunique ()),len(ho.groupby('Задача')['Сфера']. nunique ()),len(me.groupby('Задача')['Сфера']. nunique ()),len(la.groupby('Задача')['Сфера']. nunique ()),len(sa.groupby('Задача')['Сфера']. nunique ()),len(le.groupby('Задача')['Сфера']. nunique ()),len(co.groupby('Задача')['Сфера']. nunique ()),len(ad.groupby('Задача')['Сфера']. nunique ()),len(da.groupby('Задача')['Сфера']. nunique ())]\n",
        "from rpy2.robjects.vectors import FloatVector\n",
        "from rpy2.robjects.packages import importr\n",
        "\n",
        "stats = importr('stats')\n",
        "result = stats.cor(FloatVector(x), FloatVector(y))\n",
        "result"
      ],
      "metadata": {
        "colab": {
          "base_uri": "https://localhost:8080/",
          "height": 56
        },
        "id": "2Bq8hRBqjo_F",
        "outputId": "3127eb46-9f34-4ca0-e5b4-fdd50b1d5eeb"
      },
      "execution_count": null,
      "outputs": [
        {
          "output_type": "execute_result",
          "data": {
            "text/plain": [
              "<rpy2.robjects.vectors.FloatVector object at 0x78ca39553640> [RTYPES.REALSXP]\n",
              "R classes: ('numeric',)\n",
              "[-0.094831]"
            ],
            "text/html": [
              "\n",
              "        <span>FloatVector with 1 elements.</span>\n",
              "        <table>\n",
              "        <tbody>\n",
              "          <tr>\n",
              "          \n",
              "            <td>\n",
              "            -0.094831\n",
              "            </td>\n",
              "          \n",
              "          </tr>\n",
              "        </tbody>\n",
              "        </table>\n",
              "        "
            ]
          },
          "metadata": {},
          "execution_count": 78
        }
      ]
    },
    {
      "cell_type": "code",
      "source": [
        "ax=sns.scatterplot(x=x,y=y)\n",
        "ax.set (xlabel='Рациональность использования',\n",
        " ylabel='Количество задач')\n",
        "\n",
        "plt.show()"
      ],
      "metadata": {
        "colab": {
          "base_uri": "https://localhost:8080/",
          "height": 449
        },
        "id": "lM9iEG8GkFQ6",
        "outputId": "9c5bf831-e33b-4ccf-9d9e-3db22113838e"
      },
      "execution_count": null,
      "outputs": [
        {
          "output_type": "display_data",
          "data": {
            "text/plain": [
              "<Figure size 640x480 with 1 Axes>"
            ],
            "image/png": "[encoded data removed]"
          },
          "metadata": {}
        }
      ]
    },
    {
      "cell_type": "code",
      "source": [
        "y=[len(com),len(su),len(ho),len(me),len(la),len(sa),len(le),len(co),len(ad),len(da)]\n",
        "stats = importr('stats')\n",
        "result = stats.cor(FloatVector(x), FloatVector(y))\n",
        "result"
      ],
      "metadata": {
        "colab": {
          "base_uri": "https://localhost:8080/",
          "height": 56
        },
        "id": "PXoKHNPCmxJZ",
        "outputId": "4b9116e8-10e5-4565-9b26-f43dd1023a3a"
      },
      "execution_count": null,
      "outputs": [
        {
          "output_type": "execute_result",
          "data": {
            "text/plain": [
              "<rpy2.robjects.vectors.FloatVector object at 0x78ca3a65e740> [RTYPES.REALSXP]\n",
              "R classes: ('numeric',)\n",
              "[-0.360756]"
            ],
            "text/html": [
              "\n",
              "        <span>FloatVector with 1 elements.</span>\n",
              "        <table>\n",
              "        <tbody>\n",
              "          <tr>\n",
              "          \n",
              "            <td>\n",
              "            -0.360756\n",
              "            </td>\n",
              "          \n",
              "          </tr>\n",
              "        </tbody>\n",
              "        </table>\n",
              "        "
            ]
          },
          "metadata": {},
          "execution_count": 80
        }
      ]
    },
    {
      "cell_type": "code",
      "source": [
        "ax=sns.scatterplot(x=x,y=y)\n",
        "ax.set (xlabel='Рациональность использования',\n",
        " ylabel='Количество моделей')\n",
        "\n",
        "plt.show()"
      ],
      "metadata": {
        "colab": {
          "base_uri": "https://localhost:8080/",
          "height": 449
        },
        "id": "J2_wUEFGaFr9",
        "outputId": "2393511b-66f3-4562-d538-9d8f0564c977"
      },
      "execution_count": null,
      "outputs": [
        {
          "output_type": "display_data",
          "data": {
            "text/plain": [
              "<Figure size 640x480 with 1 Axes>"
            ],
            "image/png": "[encoded data removed]"
          },
          "metadata": {}
        }
      ]
    },
    {
      "cell_type": "code",
      "source": [
        "y=[1,2,3,4,5,6,7,8,9,10]\n",
        "stats = importr('stats')\n",
        "result = stats.cor(FloatVector(x), FloatVector(y))\n",
        "result"
      ],
      "metadata": {
        "colab": {
          "base_uri": "https://localhost:8080/",
          "height": 56
        },
        "id": "MgeGahvcenpA",
        "outputId": "9b852702-fa04-44c3-b9ab-9685ae7b4736"
      },
      "execution_count": null,
      "outputs": [
        {
          "output_type": "execute_result",
          "data": {
            "text/plain": [
              "<rpy2.robjects.vectors.FloatVector object at 0x78ca3a0f5dc0> [RTYPES.REALSXP]\n",
              "R classes: ('numeric',)\n",
              "[0.003826]"
            ],
            "text/html": [
              "\n",
              "        <span>FloatVector with 1 elements.</span>\n",
              "        <table>\n",
              "        <tbody>\n",
              "          <tr>\n",
              "          \n",
              "            <td>\n",
              "            0.003826\n",
              "            </td>\n",
              "          \n",
              "          </tr>\n",
              "        </tbody>\n",
              "        </table>\n",
              "        "
            ]
          },
          "metadata": {},
          "execution_count": 61
        }
      ]
    },
    {
      "cell_type": "code",
      "source": [
        "x=[midc, midsu, midho, midme, midla, midsa, midle, midco, midad, midda]\n",
        "y=[lcom, lsu, lho, lme, lla, lsa, lle, lco, lad, lda]\n",
        "ax=sns.scatterplot(x=x,y=y)\n",
        "ax.set (xlabel='Средняя оценка',\n",
        " ylabel='Влияние ИИ')\n",
        "\n",
        "plt.show()"
      ],
      "metadata": {
        "colab": {
          "base_uri": "https://localhost:8080/",
          "height": 449
        },
        "id": "0vgKAUbV0XDH",
        "outputId": "57acbb3e-9909-476d-c756-0176cd4c280c"
      },
      "execution_count": null,
      "outputs": [
        {
          "output_type": "display_data",
          "data": {
            "text/plain": [
              "<Figure size 640x480 with 1 Axes>"
            ],
            "image/png": "[encoded data removed]"
          },
          "metadata": {}
        }
      ]
    },
    {
      "cell_type": "code",
      "source": [
        "stats = importr('stats')\n",
        "result = stats.cor(FloatVector(x), FloatVector(y))\n",
        "result"
      ],
      "metadata": {
        "colab": {
          "base_uri": "https://localhost:8080/",
          "height": 56
        },
        "id": "3OJfGhKA0qkT",
        "outputId": "2480602d-1af1-48cc-c2f5-7682454ca45e"
      },
      "execution_count": null,
      "outputs": [
        {
          "output_type": "execute_result",
          "data": {
            "text/plain": [
              "<rpy2.robjects.vectors.FloatVector object at 0x7eb06cc4a880> [RTYPES.REALSXP]\n",
              "R classes: ('numeric',)\n",
              "[0.473994]"
            ],
            "text/html": [
              "\n",
              "        <span>FloatVector with 1 elements.</span>\n",
              "        <table>\n",
              "        <tbody>\n",
              "          <tr>\n",
              "          \n",
              "            <td>\n",
              "            0.473994\n",
              "            </td>\n",
              "          \n",
              "          </tr>\n",
              "        </tbody>\n",
              "        </table>\n",
              "        "
            ]
          },
          "metadata": {},
          "execution_count": 59
        }
      ]
    },
    {
      "cell_type": "code",
      "source": [
        "x=[len(com.groupby('Задача')['Сфера']. nunique ()),len(su.groupby('Задача')['Сфера']. nunique ()),len(ho.groupby('Задача')['Сфера']. nunique ()),len(me.groupby('Задача')['Сфера']. nunique ()),len(la.groupby('Задача')['Сфера']. nunique ()),len(sa.groupby('Задача')['Сфера']. nunique ()),len(le.groupby('Задача')['Сфера']. nunique ()),len(co.groupby('Задача')['Сфера']. nunique ()),len(ad.groupby('Задача')['Сфера']. nunique ()),len(da.groupby('Задача')['Сфера']. nunique ())]\n",
        "from rpy2.robjects.vectors import FloatVector\n",
        "from rpy2.robjects.packages import importr\n",
        "\n",
        "stats = importr('stats')\n",
        "result = stats.cor(FloatVector(x), FloatVector(y))\n",
        "result"
      ],
      "metadata": {
        "colab": {
          "base_uri": "https://localhost:8080/",
          "height": 56
        },
        "id": "gEUwVH481Zaj",
        "outputId": "b9b8f89c-e8e0-4c90-91c7-47981fb43b73"
      },
      "execution_count": null,
      "outputs": [
        {
          "output_type": "execute_result",
          "data": {
            "text/plain": [
              "<rpy2.robjects.vectors.FloatVector object at 0x78ca3a1eb040> [RTYPES.REALSXP]\n",
              "R classes: ('numeric',)\n",
              "[0.944866]"
            ],
            "text/html": [
              "\n",
              "        <span>FloatVector with 1 elements.</span>\n",
              "        <table>\n",
              "        <tbody>\n",
              "          <tr>\n",
              "          \n",
              "            <td>\n",
              "            0.944866\n",
              "            </td>\n",
              "          \n",
              "          </tr>\n",
              "        </tbody>\n",
              "        </table>\n",
              "        "
            ]
          },
          "metadata": {},
          "execution_count": 84
        }
      ]
    },
    {
      "cell_type": "code",
      "source": [
        "ax=sns.scatterplot(x=x,y=y)\n",
        "ax.set (xlabel='Количество задач',\n",
        " ylabel='Влияние ИИ')\n",
        "\n",
        "plt.show()"
      ],
      "metadata": {
        "colab": {
          "base_uri": "https://localhost:8080/",
          "height": 449
        },
        "id": "nOsM5lh91rRk",
        "outputId": "deeefeeb-25e9-47b7-a5fd-fdf85f2bcfb7"
      },
      "execution_count": null,
      "outputs": [
        {
          "output_type": "display_data",
          "data": {
            "text/plain": [
              "<Figure size 640x480 with 1 Axes>"
            ],
            "image/png": "[encoded data removed]"
          },
          "metadata": {}
        }
      ]
    },
    {
      "cell_type": "code",
      "source": [
        "x=[rcom, rsu, rho, rme, rla, rsa, rle, rco, rad, rda]\n",
        "from rpy2.robjects.vectors import FloatVector\n",
        "from rpy2.robjects.packages import importr\n",
        "\n",
        "stats = importr('stats')\n",
        "result = stats.cor(FloatVector(x), FloatVector(y))\n",
        "result"
      ],
      "metadata": {
        "colab": {
          "base_uri": "https://localhost:8080/",
          "height": 56
        },
        "id": "IxuhpYDD0vGG",
        "outputId": "8302472f-7818-4c2f-d056-d940ee290dc8"
      },
      "execution_count": null,
      "outputs": [
        {
          "output_type": "execute_result",
          "data": {
            "text/plain": [
              "<rpy2.robjects.vectors.FloatVector object at 0x78ca395a1f40> [RTYPES.REALSXP]\n",
              "R classes: ('numeric',)\n",
              "[-0.360756]"
            ],
            "text/html": [
              "\n",
              "        <span>FloatVector with 1 elements.</span>\n",
              "        <table>\n",
              "        <tbody>\n",
              "          <tr>\n",
              "          \n",
              "            <td>\n",
              "            -0.360756\n",
              "            </td>\n",
              "          \n",
              "          </tr>\n",
              "        </tbody>\n",
              "        </table>\n",
              "        "
            ]
          },
          "metadata": {},
          "execution_count": 66
        }
      ]
    },
    {
      "cell_type": "code",
      "source": [
        "ax=sns.scatterplot(x=x,y=y)\n",
        "ax.set (xlabel='Рациональность',\n",
        " ylabel='Влияние ИИ')\n",
        "\n",
        "plt.show()"
      ],
      "metadata": {
        "colab": {
          "base_uri": "https://localhost:8080/",
          "height": 449
        },
        "id": "8I-buaer1EDu",
        "outputId": "e5cf5e27-69e7-4f50-f986-826962826f42"
      },
      "execution_count": null,
      "outputs": [
        {
          "output_type": "display_data",
          "data": {
            "text/plain": [
              "<Figure size 640x480 with 1 Axes>"
            ],
            "image/png": "[encoded data removed]"
          },
          "metadata": {}
        }
      ]
    },
    {
      "cell_type": "code",
      "source": [
        "d = df[df['Оценка']>0]\n",
        "d"
      ],
      "metadata": {
        "colab": {
          "base_uri": "https://localhost:8080/",
          "height": 424
        },
        "id": "s0GEFMHZvttr",
        "outputId": "319e5587-c483-42ac-9cc8-bb397493d67b"
      },
      "execution_count": null,
      "outputs": [
        {
          "output_type": "execute_result",
          "data": {
            "text/plain": [
              "                 Модель                        Задача  \\\n",
              "7            GistReader                 Чтение статьи   \n",
              "11      Article Summary     Краткое содержание статей   \n",
              "15             Distillr     Краткое содержание статей   \n",
              "18           RecapioGPT     Краткое содержание статей   \n",
              "19                 SMRY     Краткое содержание статей   \n",
              "...                 ...                           ...   \n",
              "10883          Mr. Cook                       Рецепты   \n",
              "10891           rexipie                       Рецепты   \n",
              "10896     What the Chef                       Рецепты   \n",
              "10908  AI Car Diagnosis  Преобразование текста в речь   \n",
              "10910           Atmo AI        Прогнозирование погоды   \n",
              "\n",
              "                                                Описание  Оценка  \\\n",
              "7      GistReader - это RSS-ридер с поддержкой искусс...     3.0   \n",
              "11     Article Summary - это веб-инструмент искусстве...     1.0   \n",
              "15     Distillr - это инструмент на базе искусственно...     2.0   \n",
              "18     RecapioGPT - это инструмент для составления ре...     5.0   \n",
              "19     SMRY AI - это инструмент искусственного интелл...     5.0   \n",
              "...                                                  ...     ...   \n",
              "10883  Основные функции: Создание уникальных рецептов...     5.0   \n",
              "10891  Rexipie предлагает широкий выбор рецептов, вкл...     5.0   \n",
              "10896  Кулинарные идеи сопровождаются четкими инструк...     3.0   \n",
              "10908  Car Diagnostics AI - это инструмент автомобиль...     1.3   \n",
              "10910  Atmo AI - это аппаратно-программная система с ...     4.0   \n",
              "\n",
              "                                 Сфера  \n",
              "7      Административные и канцелярские  \n",
              "11     Административные и канцелярские  \n",
              "15     Административные и канцелярские  \n",
              "18     Административные и канцелярские  \n",
              "19     Административные и канцелярские  \n",
              "...                                ...  \n",
              "10883     Цепочка поставок и логистика  \n",
              "10891     Цепочка поставок и логистика  \n",
              "10896     Цепочка поставок и логистика  \n",
              "10908     Цепочка поставок и логистика  \n",
              "10910     Цепочка поставок и логистика  \n",
              "\n",
              "[2937 rows x 5 columns]"
            ],
            "text/html": [
              "\n",
              "  <div id=\"df-6681d4ca-51b6-4aab-b04e-184ebcaf19ba\" class=\"colab-df-container\">\n",
              "    <div>\n",
              "<style scoped>\n",
              "    .dataframe tbody tr th:only-of-type {\n",
              "        vertical-align: middle;\n",
              "    }\n",
              "\n",
              "    .dataframe tbody tr th {\n",
              "        vertical-align: top;\n",
              "    }\n",
              "\n",
              "    .dataframe thead th {\n",
              "        text-align: right;\n",
              "    }\n",
              "</style>\n",
              "<table border=\"1\" class=\"dataframe\">\n",
              "  <thead>\n",
              "    <tr style=\"text-align: right;\">\n",
              "      <th></th>\n",
              "      <th>Модель</th>\n",
              "      <th>Задача</th>\n",
              "      <th>Описание</th>\n",
              "      <th>Оценка</th>\n",
              "      <th>Сфера</th>\n",
              "    </tr>\n",
              "  </thead>\n",
              "  <tbody>\n",
              "    <tr>\n",
              "      <th>7</th>\n",
              "      <td>GistReader</td>\n",
              "      <td>Чтение статьи</td>\n",
              "      <td>GistReader - это RSS-ридер с поддержкой искусс...</td>\n",
              "      <td>3.0</td>\n",
              "      <td>Административные и канцелярские</td>\n",
              "    </tr>\n",
              "    <tr>\n",
              "      <th>11</th>\n",
              "      <td>Article Summary</td>\n",
              "      <td>Краткое содержание статей</td>\n",
              "      <td>Article Summary - это веб-инструмент искусстве...</td>\n",
              "      <td>1.0</td>\n",
              "      <td>Административные и канцелярские</td>\n",
              "    </tr>\n",
              "    <tr>\n",
              "      <th>15</th>\n",
              "      <td>Distillr</td>\n",
              "      <td>Краткое содержание статей</td>\n",
              "      <td>Distillr - это инструмент на базе искусственно...</td>\n",
              "      <td>2.0</td>\n",
              "      <td>Административные и канцелярские</td>\n",
              "    </tr>\n",
              "    <tr>\n",
              "      <th>18</th>\n",
              "      <td>RecapioGPT</td>\n",
              "      <td>Краткое содержание статей</td>\n",
              "      <td>RecapioGPT - это инструмент для составления ре...</td>\n",
              "      <td>5.0</td>\n",
              "      <td>Административные и канцелярские</td>\n",
              "    </tr>\n",
              "    <tr>\n",
              "      <th>19</th>\n",
              "      <td>SMRY</td>\n",
              "      <td>Краткое содержание статей</td>\n",
              "      <td>SMRY AI - это инструмент искусственного интелл...</td>\n",
              "      <td>5.0</td>\n",
              "      <td>Административные и канцелярские</td>\n",
              "    </tr>\n",
              "    <tr>\n",
              "      <th>...</th>\n",
              "      <td>...</td>\n",
              "      <td>...</td>\n",
              "      <td>...</td>\n",
              "      <td>...</td>\n",
              "      <td>...</td>\n",
              "    </tr>\n",
              "    <tr>\n",
              "      <th>10883</th>\n",
              "      <td>Mr. Cook</td>\n",
              "      <td>Рецепты</td>\n",
              "      <td>Основные функции: Создание уникальных рецептов...</td>\n",
              "      <td>5.0</td>\n",
              "      <td>Цепочка поставок и логистика</td>\n",
              "    </tr>\n",
              "    <tr>\n",
              "      <th>10891</th>\n",
              "      <td>rexipie</td>\n",
              "      <td>Рецепты</td>\n",
              "      <td>Rexipie предлагает широкий выбор рецептов, вкл...</td>\n",
              "      <td>5.0</td>\n",
              "      <td>Цепочка поставок и логистика</td>\n",
              "    </tr>\n",
              "    <tr>\n",
              "      <th>10896</th>\n",
              "      <td>What the Chef</td>\n",
              "      <td>Рецепты</td>\n",
              "      <td>Кулинарные идеи сопровождаются четкими инструк...</td>\n",
              "      <td>3.0</td>\n",
              "      <td>Цепочка поставок и логистика</td>\n",
              "    </tr>\n",
              "    <tr>\n",
              "      <th>10908</th>\n",
              "      <td>AI Car Diagnosis</td>\n",
              "      <td>Преобразование текста в речь</td>\n",
              "      <td>Car Diagnostics AI - это инструмент автомобиль...</td>\n",
              "      <td>1.3</td>\n",
              "      <td>Цепочка поставок и логистика</td>\n",
              "    </tr>\n",
              "    <tr>\n",
              "      <th>10910</th>\n",
              "      <td>Atmo AI</td>\n",
              "      <td>Прогнозирование погоды</td>\n",
              "      <td>Atmo AI - это аппаратно-программная система с ...</td>\n",
              "      <td>4.0</td>\n",
              "      <td>Цепочка поставок и логистика</td>\n",
              "    </tr>\n",
              "  </tbody>\n",
              "</table>\n",
              "<p>2937 rows × 5 columns</p>\n",
              "</div>\n",
              "    <div class=\"colab-df-buttons\">\n",
              "\n",
              "  <div class=\"colab-df-container\">\n",
              "    <button class=\"colab-df-convert\" onclick=\"convertToInteractive('df-6681d4ca-51b6-4aab-b04e-184ebcaf19ba')\"\n",
              "            title=\"Convert this dataframe to an interactive table.\"\n",
              "            style=\"display:none;\">\n",
              "\n",
              "  <svg xmlns=\"http://www.w3.org/2000/svg\" height=\"24px\" viewBox=\"0 -960 960 960\">\n",
              "    <path d=\"M120-120v-720h720v720H120Zm60-500h600v-160H180v160Zm220 220h160v-160H400v160Zm0 220h160v-160H400v160ZM180-400h160v-160H180v160Zm440 0h160v-160H620v160ZM180-180h160v-160H180v160Zm440 0h160v-160H620v160Z\"/>\n",
              "  </svg>\n",
              "    </button>\n",
              "\n",
              "  <style>\n",
              "    .colab-df-container {\n",
              "      display:flex;\n",
              "      gap: 12px;\n",
              "    }\n",
              "\n",
              "    .colab-df-convert {\n",
              "      background-color: #E8F0FE;\n",
              "      border: none;\n",
              "      border-radius: 50%;\n",
              "      cursor: pointer;\n",
              "      display: none;\n",
              "      fill: #1967D2;\n",
              "      height: 32px;\n",
              "      padding: 0 0 0 0;\n",
              "      width: 32px;\n",
              "    }\n",
              "\n",
              "    .colab-df-convert:hover {\n",
              "      background-color: #E2EBFA;\n",
              "      box-shadow: 0px 1px 2px rgba(60, 64, 67, 0.3), 0px 1px 3px 1px rgba(60, 64, 67, 0.15);\n",
              "      fill: #174EA6;\n",
              "    }\n",
              "\n",
              "    .colab-df-buttons div {\n",
              "      margin-bottom: 4px;\n",
              "    }\n",
              "\n",
              "    [theme=dark] .colab-df-convert {\n",
              "      background-color: #3B4455;\n",
              "      fill: #D2E3FC;\n",
              "    }\n",
              "\n",
              "    [theme=dark] .colab-df-convert:hover {\n",
              "      background-color: #434B5C;\n",
              "      box-shadow: 0px 1px 3px 1px rgba(0, 0, 0, 0.15);\n",
              "      filter: drop-shadow(0px 1px 2px rgba(0, 0, 0, 0.3));\n",
              "      fill: #FFFFFF;\n",
              "    }\n",
              "  </style>\n",
              "\n",
              "    <script>\n",
              "      const buttonEl =\n",
              "        document.querySelector('#df-6681d4ca-51b6-4aab-b04e-184ebcaf19ba button.colab-df-convert');\n",
              "      buttonEl.style.display =\n",
              "        google.colab.kernel.accessAllowed ? 'block' : 'none';\n",
              "\n",
              "      async function convertToInteractive(key) {\n",
              "        const element = document.querySelector('#df-6681d4ca-51b6-4aab-b04e-184ebcaf19ba');\n",
              "        const dataTable =\n",
              "          await google.colab.kernel.invokeFunction('convertToInteractive',\n",
              "                                                    [key], {});\n",
              "        if (!dataTable) return;\n",
              "\n",
              "        const docLinkHtml = 'Like what you see? Visit the ' +\n",
              "          '<a target=\"_blank\" href=https://colab.research.google.com/notebooks/data_table.ipynb>data table notebook</a>'\n",
              "          + ' to learn more about interactive tables.';\n",
              "        element.innerHTML = '';\n",
              "        dataTable['output_type'] = 'display_data';\n",
              "        await google.colab.output.renderOutput(dataTable, element);\n",
              "        const docLink = document.createElement('div');\n",
              "        docLink.innerHTML = docLinkHtml;\n",
              "        element.appendChild(docLink);\n",
              "      }\n",
              "    </script>\n",
              "  </div>\n",
              "\n",
              "\n",
              "<div id=\"df-f0820363-46b4-43ba-ae5a-cc67b5ee3fe3\">\n",
              "  <button class=\"colab-df-quickchart\" onclick=\"quickchart('df-f0820363-46b4-43ba-ae5a-cc67b5ee3fe3')\"\n",
              "            title=\"Suggest charts\"\n",
              "            style=\"display:none;\">\n",
              "\n",
              "<svg xmlns=\"http://www.w3.org/2000/svg\" height=\"24px\"viewBox=\"0 0 24 24\"\n",
              "     width=\"24px\">\n",
              "    <g>\n",
              "        <path d=\"M19 3H5c-1.1 0-2 .9-2 2v14c0 1.1.9 2 2 2h14c1.1 0 2-.9 2-2V5c0-1.1-.9-2-2-2zM9 17H7v-7h2v7zm4 0h-2V7h2v10zm4 0h-2v-4h2v4z\"/>\n",
              "    </g>\n",
              "</svg>\n",
              "  </button>\n",
              "\n",
              "<style>\n",
              "  .colab-df-quickchart {\n",
              "      --bg-color: #E8F0FE;\n",
              "      --fill-color: #1967D2;\n",
              "      --hover-bg-color: #E2EBFA;\n",
              "      --hover-fill-color: #174EA6;\n",
              "      --disabled-fill-color: #AAA;\n",
              "      --disabled-bg-color: #DDD;\n",
              "  }\n",
              "\n",
              "  [theme=dark] .colab-df-quickchart {\n",
              "      --bg-color: #3B4455;\n",
              "      --fill-color: #D2E3FC;\n",
              "      --hover-bg-color: #434B5C;\n",
              "      --hover-fill-color: #FFFFFF;\n",
              "      --disabled-bg-color: #3B4455;\n",
              "      --disabled-fill-color: #666;\n",
              "  }\n",
              "\n",
              "  .colab-df-quickchart {\n",
              "    background-color: var(--bg-color);\n",
              "    border: none;\n",
              "    border-radius: 50%;\n",
              "    cursor: pointer;\n",
              "    display: none;\n",
              "    fill: var(--fill-color);\n",
              "    height: 32px;\n",
              "    padding: 0;\n",
              "    width: 32px;\n",
              "  }\n",
              "\n",
              "  .colab-df-quickchart:hover {\n",
              "    background-color: var(--hover-bg-color);\n",
              "    box-shadow: 0 1px 2px rgba(60, 64, 67, 0.3), 0 1px 3px 1px rgba(60, 64, 67, 0.15);\n",
              "    fill: var(--button-hover-fill-color);\n",
              "  }\n",
              "\n",
              "  .colab-df-quickchart-complete:disabled,\n",
              "  .colab-df-quickchart-complete:disabled:hover {\n",
              "    background-color: var(--disabled-bg-color);\n",
              "    fill: var(--disabled-fill-color);\n",
              "    box-shadow: none;\n",
              "  }\n",
              "\n",
              "  .colab-df-spinner {\n",
              "    border: 2px solid var(--fill-color);\n",
              "    border-color: transparent;\n",
              "    border-bottom-color: var(--fill-color);\n",
              "    animation:\n",
              "      spin 1s steps(1) infinite;\n",
              "  }\n",
              "\n",
              "  @keyframes spin {\n",
              "    0% {\n",
              "      border-color: transparent;\n",
              "      border-bottom-color: var(--fill-color);\n",
              "      border-left-color: var(--fill-color);\n",
              "    }\n",
              "    20% {\n",
              "      border-color: transparent;\n",
              "      border-left-color: var(--fill-color);\n",
              "      border-top-color: var(--fill-color);\n",
              "    }\n",
              "    30% {\n",
              "      border-color: transparent;\n",
              "      border-left-color: var(--fill-color);\n",
              "      border-top-color: var(--fill-color);\n",
              "      border-right-color: var(--fill-color);\n",
              "    }\n",
              "    40% {\n",
              "      border-color: transparent;\n",
              "      border-right-color: var(--fill-color);\n",
              "      border-top-color: var(--fill-color);\n",
              "    }\n",
              "    60% {\n",
              "      border-color: transparent;\n",
              "      border-right-color: var(--fill-color);\n",
              "    }\n",
              "    80% {\n",
              "      border-color: transparent;\n",
              "      border-right-color: var(--fill-color);\n",
              "      border-bottom-color: var(--fill-color);\n",
              "    }\n",
              "    90% {\n",
              "      border-color: transparent;\n",
              "      border-bottom-color: var(--fill-color);\n",
              "    }\n",
              "  }\n",
              "</style>\n",
              "\n",
              "  <script>\n",
              "    async function quickchart(key) {\n",
              "      const quickchartButtonEl =\n",
              "        document.querySelector('#' + key + ' button');\n",
              "      quickchartButtonEl.disabled = true;  // To prevent multiple clicks.\n",
              "      quickchartButtonEl.classList.add('colab-df-spinner');\n",
              "      try {\n",
              "        const charts = await google.colab.kernel.invokeFunction(\n",
              "            'suggestCharts', [key], {});\n",
              "      } catch (error) {\n",
              "        console.error('Error during call to suggestCharts:', error);\n",
              "      }\n",
              "      quickchartButtonEl.classList.remove('colab-df-spinner');\n",
              "      quickchartButtonEl.classList.add('colab-df-quickchart-complete');\n",
              "    }\n",
              "    (() => {\n",
              "      let quickchartButtonEl =\n",
              "        document.querySelector('#df-f0820363-46b4-43ba-ae5a-cc67b5ee3fe3 button');\n",
              "      quickchartButtonEl.style.display =\n",
              "        google.colab.kernel.accessAllowed ? 'block' : 'none';\n",
              "    })();\n",
              "  </script>\n",
              "</div>\n",
              "    </div>\n",
              "  </div>\n"
            ],
            "application/vnd.google.colaboratory.intrinsic+json": {
              "type": "dataframe",
              "variable_name": "d",
              "summary": "{\n  \"name\": \"d\",\n  \"rows\": 2937,\n  \"fields\": [\n    {\n      \"column\": \"\\u041c\\u043e\\u0434\\u0435\\u043b\\u044c\",\n      \"properties\": {\n        \"dtype\": \"string\",\n        \"num_unique_values\": 2696,\n        \"samples\": [\n          \"Flowpoint\",\n          \"GhostTheWriter\",\n          \"FabFab AI\"\n        ],\n        \"semantic_type\": \"\",\n        \"description\": \"\"\n      }\n    },\n    {\n      \"column\": \"\\u0417\\u0430\\u0434\\u0430\\u0447\\u0430\",\n      \"properties\": {\n        \"dtype\": \"category\",\n        \"num_unique_values\": 832,\n        \"samples\": [\n          \"\\u0418\\u0441\\u0441\\u043b\\u0435\\u0434\\u043e\\u0432\\u0430\\u043d\\u0438\\u0435 \\u043f\\u043e \\u0442\\u0435\\u043c\\u0435 \\u0438 \\u043a\\u043b\\u044e\\u0447\\u0435\\u0432\\u044b\\u043c \\u0441\\u043b\\u043e\\u0432\\u0430\\u043c\",\n          \"\\u041d\\u043e\\u0432\\u043e\\u0441\\u0442\\u0438 \\u0444\\u043e\\u043d\\u0434\\u043e\\u0432\\u043e\\u0433\\u043e \\u0440\\u044b\\u043d\\u043a\\u0430\",\n          \"\\u041a\\u043e\\u0434\\u0438\\u0440\\u043e\\u0432\\u0430\\u043d\\u0438\\u0435 \\u0432 Google Colab\"\n        ],\n        \"semantic_type\": \"\",\n        \"description\": \"\"\n      }\n    },\n    {\n      \"column\": \"\\u041e\\u043f\\u0438\\u0441\\u0430\\u043d\\u0438\\u0435\",\n      \"properties\": {\n        \"dtype\": \"string\",\n        \"num_unique_values\": 2741,\n        \"samples\": [\n          \"Scarlett Panda - \\u044d\\u0442\\u043e \\u0438\\u043d\\u0441\\u0442\\u0440\\u0443\\u043c\\u0435\\u043d\\u0442 \\u043d\\u0430 \\u0431\\u0430\\u0437\\u0435 \\u0438\\u0441\\u043a\\u0443\\u0441\\u0441\\u0442\\u0432\\u0435\\u043d\\u043d\\u043e\\u0433\\u043e \\u0438\\u043d\\u0442\\u0435\\u043b\\u043b\\u0435\\u043a\\u0442\\u0430, \\u043a\\u043e\\u0442\\u043e\\u0440\\u044b\\u0439 \\u0441\\u043e\\u0437\\u0434\\u0430\\u0435\\u0442 \\u0438\\u043d\\u0434\\u0438\\u0432\\u0438\\u0434\\u0443\\u0430\\u043b\\u044c\\u043d\\u044b\\u0435 \\u0441\\u043a\\u0430\\u0437\\u043a\\u0438 \\u043d\\u0430 \\u043d\\u043e\\u0447\\u044c \\u0441 \\u0443\\u0447\\u0430\\u0441\\u0442\\u0438\\u0435\\u043c \\u0434\\u0440\\u0443\\u0437\\u0435\\u0439 \\u0438 \\u0441\\u0435\\u043c\\u044c\\u0438. \\u042d\\u0442\\u043e \\u043f\\u043e\\u0437\\u0432\\u043e\\u043b\\u044f\\u0435\\u0442 \\u0440\\u043e\\u0434\\u0438\\u0442\\u0435\\u043b\\u044f\\u043c \\u0441\\u043e\\u0437\\u0434\\u0430\\u0432\\u0430\\u0442\\u044c \\u0443\\u043d\\u0438\\u043a\\u0430\\u043b\\u044c\\u043d\\u044b\\u0435 \\u0438\\u0441\\u0442\\u043e\\u0440\\u0438\\u0438 \\u0434\\u043b\\u044f \\u0441\\u0432\\u043e\\u0438\\u0445 \\u0434\\u0435\\u0442\\u0435\\u0439, \\u0441\\u043e\\u043e\\u0442\\u0432\\u0435\\u0442\\u0441\\u0442\\u0432\\u0443\\u044e\\u0449\\u0438\\u0435 \\u0438\\u0445 \\u0432\\u043e\\u0437\\u0440\\u0430\\u0441\\u0442\\u0443 \\u0438 \\u0438\\u043d\\u0442\\u0435\\u0440\\u0435\\u0441\\u0430\\u043c.\",\n          \"\\u0413\\u0435\\u043d\\u0435\\u0440\\u0430\\u0442\\u043e\\u0440 \\u044d\\u043c\\u043e\\u0434\\u0437\\u0438 \\u0441 \\u0438\\u0441\\u043a\\u0443\\u0441\\u0441\\u0442\\u0432\\u0435\\u043d\\u043d\\u044b\\u043c \\u0438\\u043d\\u0442\\u0435\\u043b\\u043b\\u0435\\u043a\\u0442\\u043e\\u043c - \\u044d\\u0442\\u043e \\u0438\\u043d\\u0441\\u0442\\u0440\\u0443\\u043c\\u0435\\u043d\\u0442, \\u043a\\u043e\\u0442\\u043e\\u0440\\u044b\\u0439 \\u043f\\u043e\\u0437\\u0432\\u043e\\u043b\\u044f\\u0435\\u0442 \\u043f\\u043e\\u043b\\u044c\\u0437\\u043e\\u0432\\u0430\\u0442\\u0435\\u043b\\u044f\\u043c \\u0431\\u044b\\u0441\\u0442\\u0440\\u043e \\u043f\\u0440\\u0435\\u043e\\u0431\\u0440\\u0430\\u0437\\u043e\\u0432\\u044b\\u0432\\u0430\\u0442\\u044c \\u0441\\u0432\\u043e\\u0438 \\u0438\\u0434\\u0435\\u0438 \\u0432 \\u044d\\u043c\\u043e\\u0434\\u0437\\u0438. \\u0412\\u0441\\u0435\\u0433\\u043e \\u043e\\u0434\\u043d\\u0438\\u043c \\u0449\\u0435\\u043b\\u0447\\u043a\\u043e\\u043c \\u043c\\u044b\\u0448\\u0438 \\u043f\\u043e\\u043b\\u044c\\u0437\\u043e\\u0432\\u0430\\u0442\\u0435\\u043b\\u0438 \\u043c\\u043e\\u0433\\u0443\\u0442 \\u0441\\u043e\\u0437\\u0434\\u0430\\u0432\\u0430\\u0442\\u044c \\u0441\\u0432\\u043e\\u0438 \\u043b\\u044e\\u0431\\u0438\\u043c\\u044b\\u0435 \\u044d\\u043c\\u043e\\u0434\\u0437\\u0438 Slack.\",\n          \"Gleek - \\u044d\\u0442\\u043e \\u043c\\u043e\\u0449\\u043d\\u044b\\u0439 \\u043d\\u0430\\u0431\\u043e\\u0440 \\u0434\\u043b\\u044f \\u043a\\u043e\\u043d\\u0446\\u0435\\u043f\\u0442\\u0443\\u0430\\u043b\\u0438\\u0437\\u0430\\u0446\\u0438\\u0438, \\u043a\\u043e\\u0442\\u043e\\u0440\\u044b\\u0439 \\u043f\\u043e\\u0437\\u0432\\u043e\\u043b\\u044f\\u0435\\u0442 \\u0440\\u0430\\u0437\\u0440\\u0430\\u0431\\u043e\\u0442\\u0447\\u0438\\u043a\\u0430\\u043c \\u0441\\u043e\\u0437\\u0434\\u0430\\u0432\\u0430\\u0442\\u044c \\u0434\\u0438\\u0430\\u0433\\u0440\\u0430\\u043c\\u043c\\u044b, \\u0438\\u0441\\u043f\\u043e\\u043b\\u044c\\u0437\\u0443\\u044f \\u0442\\u043e\\u043b\\u044c\\u043a\\u043e \\u043a\\u043b\\u0430\\u0432\\u0438\\u0430\\u0442\\u0443\\u0440\\u0443. \\u0421 \\u043f\\u043e\\u043c\\u043e\\u0449\\u044c\\u044e Gleek \\u043f\\u043e\\u043b\\u044c\\u0437\\u043e\\u0432\\u0430\\u0442\\u0435\\u043b\\u0438 \\u043c\\u043e\\u0433\\u0443\\u0442 \\u0441\\u043e\\u0437\\u0434\\u0430\\u0432\\u0430\\u0442\\u044c \\u043d\\u0435\\u0444\\u043e\\u0440\\u043c\\u0430\\u043b\\u044c\\u043d\\u044b\\u0435 \\u0434\\u0438\\u0430\\u0433\\u0440\\u0430\\u043c\\u043c\\u044b, \\u0434\\u0438\\u0430\\u0433\\u0440\\u0430\\u043c\\u043c\\u044b \\u043a\\u043b\\u0430\\u0441\\u0441\\u043e\\u0432, \\u0434\\u0438\\u0430\\u0433\\u0440\\u0430\\u043c\\u043c \\u043f\\u043e\\u0441\\u043b\\u0435\\u0434\\u043e\\u0432\\u0430\\u0442\\u0435\\u043b\\u044c\\u043d\\u043e\\u0441\\u0442\\u0435\\u0439 \\u0438 \\u0434\\u0438\\u0430\\u0433\\u0440\\u0430\\u043c\\u043c \\u0432\\u0437\\u0430\\u0438\\u043c\\u043e\\u0441\\u0432\\u044f\\u0437\\u0435\\u0439 \\u0441\\u0443\\u0449\\u043d\\u043e\\u0441\\u0442\\u0435\\u0439 \\u0431\\u0435\\u0437 \\u043d\\u0435\\u043e\\u0431\\u0445\\u043e\\u0434\\u0438\\u043c\\u043e\\u0441\\u0442\\u0438 \\u043a\\u0430\\u0441\\u0430\\u0442\\u044c\\u0441\\u044f \\u043c\\u044b\\u0448\\u0438.\"\n        ],\n        \"semantic_type\": \"\",\n        \"description\": \"\"\n      }\n    },\n    {\n      \"column\": \"\\u041e\\u0446\\u0435\\u043d\\u043a\\u0430\",\n      \"properties\": {\n        \"dtype\": \"number\",\n        \"std\": 1.50495308728688,\n        \"min\": 1.0,\n        \"max\": 5.0,\n        \"num_unique_values\": 37,\n        \"samples\": [\n          3.5,\n          4.2,\n          4.0\n        ],\n        \"semantic_type\": \"\",\n        \"description\": \"\"\n      }\n    },\n    {\n      \"column\": \"\\u0421\\u0444\\u0435\\u0440\\u0430\",\n      \"properties\": {\n        \"dtype\": \"category\",\n        \"num_unique_values\": 10,\n        \"samples\": [\n          \"\\u0421\\u0442\\u0440\\u043e\\u0438\\u0442\\u0435\\u043b\\u044c\\u0441\\u0442\\u0432\\u043e\",\n          \"\\u0413\\u043e\\u0441\\u0442\\u0435\\u043f\\u0440\\u0438\\u0438\\u043c\\u0441\\u0442\\u0432\\u043e\",\n          \"\\u041c\\u0435\\u0434\\u0438\\u0446\\u0438\\u043d\\u0430 \\u0438 \\u0437\\u0434\\u0440\\u0430\\u0432\\u043e\\u043e\\u0445\\u0440\\u0430\\u043d\\u0435\\u043d\\u0438\\u0435\"\n        ],\n        \"semantic_type\": \"\",\n        \"description\": \"\"\n      }\n    }\n  ]\n}"
            }
          },
          "metadata": {},
          "execution_count": 86
        }
      ]
    },
    {
      "cell_type": "code",
      "source": [
        "com2=d.loc[d['Сфера'] == 'Коммуникация и PR']\n",
        "midcom2=com2['Оценка'].mean()\n",
        "midcom2"
      ],
      "metadata": {
        "id": "TM0BbMWHvWLx",
        "colab": {
          "base_uri": "https://localhost:8080/"
        },
        "outputId": "067d99c9-977c-4057-c2fe-bba3380ef536"
      },
      "execution_count": null,
      "outputs": [
        {
          "output_type": "execute_result",
          "data": {
            "text/plain": [
              "4.001317027281279"
            ]
          },
          "metadata": {},
          "execution_count": 87
        }
      ]
    },
    {
      "cell_type": "code",
      "source": [
        "lcom2=len(com2)/len(d)\n",
        "lcom2"
      ],
      "metadata": {
        "colab": {
          "base_uri": "https://localhost:8080/"
        },
        "id": "6_XQkRTF1-6v",
        "outputId": "4a9e096a-40f5-49c5-f3d5-dc8bdf1c3b0b"
      },
      "execution_count": null,
      "outputs": [
        {
          "output_type": "execute_result",
          "data": {
            "text/plain": [
              "0.36193394620360914"
            ]
          },
          "metadata": {},
          "execution_count": 88
        }
      ]
    },
    {
      "cell_type": "code",
      "source": [
        "rcom2=len(com2.groupby('Задача')['Сфера']. nunique ())/len(com2)\n",
        "rcom2"
      ],
      "metadata": {
        "colab": {
          "base_uri": "https://localhost:8080/"
        },
        "id": "NQbmdxcIeYOl",
        "outputId": "4413f3c8-a35b-4521-a269-97123c5abf4e"
      },
      "execution_count": null,
      "outputs": [
        {
          "output_type": "execute_result",
          "data": {
            "text/plain": [
              "0.3047977422389464"
            ]
          },
          "metadata": {},
          "execution_count": 89
        }
      ]
    },
    {
      "cell_type": "code",
      "source": [
        "su2=d.loc[d['Сфера'] == 'Цепочка поставок и логистика']\n",
        "midsu2=su2['Оценка'].mean()\n",
        "midsu2"
      ],
      "metadata": {
        "colab": {
          "base_uri": "https://localhost:8080/"
        },
        "id": "SD4RhjZEemmL",
        "outputId": "a49b2c30-e791-4355-860c-2d04b8a6f2c1"
      },
      "execution_count": null,
      "outputs": [
        {
          "output_type": "execute_result",
          "data": {
            "text/plain": [
              "3.4818181818181815"
            ]
          },
          "metadata": {},
          "execution_count": 90
        }
      ]
    },
    {
      "cell_type": "code",
      "source": [
        "lsu2=len(su2)/len(d)\n",
        "lsu2"
      ],
      "metadata": {
        "colab": {
          "base_uri": "https://localhost:8080/"
        },
        "id": "AzZd8IF12Fxv",
        "outputId": "cedf39d8-0aaa-41c6-c332-46d9f5e0ab1d"
      },
      "execution_count": null,
      "outputs": [
        {
          "output_type": "execute_result",
          "data": {
            "text/plain": [
              "0.003745318352059925"
            ]
          },
          "metadata": {},
          "execution_count": 91
        }
      ]
    },
    {
      "cell_type": "code",
      "source": [
        "rsu2=len(su2.groupby('Задача')['Сфера']. nunique ())/len(su2)\n",
        "rsu2"
      ],
      "metadata": {
        "colab": {
          "base_uri": "https://localhost:8080/"
        },
        "id": "4AW-aYhre4Xa",
        "outputId": "945ed89d-cb82-402c-b323-3c46dcc4aa16"
      },
      "execution_count": null,
      "outputs": [
        {
          "output_type": "execute_result",
          "data": {
            "text/plain": [
              "0.7272727272727273"
            ]
          },
          "metadata": {},
          "execution_count": 92
        }
      ]
    },
    {
      "cell_type": "code",
      "source": [
        "ho2=d.loc[d['Сфера'] == 'Гостеприимство']\n",
        "midho2=ho2['Оценка'].mean()\n",
        "midho2"
      ],
      "metadata": {
        "colab": {
          "base_uri": "https://localhost:8080/"
        },
        "id": "Rx9fjS85fUxB",
        "outputId": "57ca6f2b-54fa-4fb6-9192-382cb97f5295"
      },
      "execution_count": null,
      "outputs": [
        {
          "output_type": "execute_result",
          "data": {
            "text/plain": [
              "3.5101620029455076"
            ]
          },
          "metadata": {},
          "execution_count": 93
        }
      ]
    },
    {
      "cell_type": "code",
      "source": [
        "lho2=len(ho2)/len(d)\n",
        "lho2"
      ],
      "metadata": {
        "colab": {
          "base_uri": "https://localhost:8080/"
        },
        "id": "mLtBLhOr2SlW",
        "outputId": "84db6f73-dd4f-4e27-fea9-209358872a5a"
      },
      "execution_count": null,
      "outputs": [
        {
          "output_type": "execute_result",
          "data": {
            "text/plain": [
              "0.23118828736806266"
            ]
          },
          "metadata": {},
          "execution_count": 94
        }
      ]
    },
    {
      "cell_type": "code",
      "source": [
        "rho2=len(ho2.groupby('Задача')['Сфера']. nunique ())/len(ho2)\n",
        "rho2"
      ],
      "metadata": {
        "colab": {
          "base_uri": "https://localhost:8080/"
        },
        "id": "7HNntdRjfjV3",
        "outputId": "17730580-b1ce-4394-e1ac-27ffb09ec855"
      },
      "execution_count": null,
      "outputs": [
        {
          "output_type": "execute_result",
          "data": {
            "text/plain": [
              "0.2974963181148748"
            ]
          },
          "metadata": {},
          "execution_count": 95
        }
      ]
    },
    {
      "cell_type": "code",
      "source": [
        "me2=d.loc[d['Сфера'] == 'Медицина и здравоохранение']\n",
        "midme2=me2['Оценка'].mean()\n",
        "midme2"
      ],
      "metadata": {
        "colab": {
          "base_uri": "https://localhost:8080/"
        },
        "id": "KvxSh-wXftPx",
        "outputId": "c81cf81c-22b2-4ee3-a37f-5b68e262df43"
      },
      "execution_count": null,
      "outputs": [
        {
          "output_type": "execute_result",
          "data": {
            "text/plain": [
              "3.9250000000000003"
            ]
          },
          "metadata": {},
          "execution_count": 96
        }
      ]
    },
    {
      "cell_type": "code",
      "source": [
        "lme2=len(me2)/len(d)\n",
        "lme2"
      ],
      "metadata": {
        "colab": {
          "base_uri": "https://localhost:8080/"
        },
        "id": "Pgd495ZC2eoC",
        "outputId": "8390992a-eae3-4ee9-ac91-5c757e17f29a"
      },
      "execution_count": null,
      "outputs": [
        {
          "output_type": "execute_result",
          "data": {
            "text/plain": [
              "0.024514811031664963"
            ]
          },
          "metadata": {},
          "execution_count": 97
        }
      ]
    },
    {
      "cell_type": "code",
      "source": [
        "rme2=len(me2.groupby('Задача')['Сфера']. nunique ())/len(me2)\n",
        "rme2"
      ],
      "metadata": {
        "colab": {
          "base_uri": "https://localhost:8080/"
        },
        "id": "FqAsccmpgECv",
        "outputId": "62173d4a-ec70-4d77-a0b8-b837f7a7be4e"
      },
      "execution_count": null,
      "outputs": [
        {
          "output_type": "execute_result",
          "data": {
            "text/plain": [
              "0.4444444444444444"
            ]
          },
          "metadata": {},
          "execution_count": 98
        }
      ]
    },
    {
      "cell_type": "code",
      "source": [
        "la2=d.loc[d['Сфера'] == 'Правоохранительный']\n",
        "midla2=la2['Оценка'].mean()\n",
        "midla2"
      ],
      "metadata": {
        "colab": {
          "base_uri": "https://localhost:8080/"
        },
        "id": "ayrS2IdrgTjk",
        "outputId": "11ee2f91-abc8-4758-b1ed-47cff1a5a9ed"
      },
      "execution_count": null,
      "outputs": [
        {
          "output_type": "execute_result",
          "data": {
            "text/plain": [
              "3.8859649122807016"
            ]
          },
          "metadata": {},
          "execution_count": 99
        }
      ]
    },
    {
      "cell_type": "code",
      "source": [
        "lla2=len(la2)/len(d)\n",
        "lla2"
      ],
      "metadata": {
        "colab": {
          "base_uri": "https://localhost:8080/"
        },
        "id": "WlGpQAXe2nWp",
        "outputId": "0aa5eefe-f50e-404c-8754-ac9e2cc72ca5"
      },
      "execution_count": null,
      "outputs": [
        {
          "output_type": "execute_result",
          "data": {
            "text/plain": [
              "0.01940755873340143"
            ]
          },
          "metadata": {},
          "execution_count": 100
        }
      ]
    },
    {
      "cell_type": "code",
      "source": [
        "rla2=len(la2.groupby('Задача')['Сфера']. nunique ())/len(la2)\n",
        "rla2"
      ],
      "metadata": {
        "colab": {
          "base_uri": "https://localhost:8080/"
        },
        "id": "kaQlHzv8gjno",
        "outputId": "9487c77d-63a4-41c4-bbc7-19933461b021"
      },
      "execution_count": null,
      "outputs": [
        {
          "output_type": "execute_result",
          "data": {
            "text/plain": [
              "0.6140350877192983"
            ]
          },
          "metadata": {},
          "execution_count": 101
        }
      ]
    },
    {
      "cell_type": "code",
      "source": [
        "sa2=d.loc[d['Сфера'] == 'Продажи и маркетинг']\n",
        "midsa2=sa2['Оценка'].mean()\n",
        "midsa2"
      ],
      "metadata": {
        "colab": {
          "base_uri": "https://localhost:8080/"
        },
        "id": "MSG5N1mSgxDu",
        "outputId": "939c3eb0-a501-43e6-c5bc-35664c8336bd"
      },
      "execution_count": null,
      "outputs": [
        {
          "output_type": "execute_result",
          "data": {
            "text/plain": [
              "3.8932038834951457"
            ]
          },
          "metadata": {},
          "execution_count": 102
        }
      ]
    },
    {
      "cell_type": "code",
      "source": [
        "lsa2=len(sa2)/len(d)\n",
        "lsa2"
      ],
      "metadata": {
        "colab": {
          "base_uri": "https://localhost:8080/"
        },
        "id": "pWTS7uaN2uI1",
        "outputId": "3457a109-de8c-4f42-ede7-4e06595dadac"
      },
      "execution_count": null,
      "outputs": [
        {
          "output_type": "execute_result",
          "data": {
            "text/plain": [
              "0.07013959822948587"
            ]
          },
          "metadata": {},
          "execution_count": 103
        }
      ]
    },
    {
      "cell_type": "code",
      "source": [
        "rsa2=len(sa2.groupby('Задача')['Сфера']. nunique ())/len(sa2)\n",
        "rsa2"
      ],
      "metadata": {
        "colab": {
          "base_uri": "https://localhost:8080/"
        },
        "id": "eAR150pCjmar",
        "outputId": "f07fe00f-ac8d-40c5-fcbf-4fed2fa4a297"
      },
      "execution_count": null,
      "outputs": [
        {
          "output_type": "execute_result",
          "data": {
            "text/plain": [
              "0.46601941747572817"
            ]
          },
          "metadata": {},
          "execution_count": 104
        }
      ]
    },
    {
      "cell_type": "code",
      "source": [
        "le2=d.loc[d['Сфера'] == 'Лидерство и стратегия']\n",
        "midle2=le2['Оценка'].mean()\n",
        "midle2"
      ],
      "metadata": {
        "colab": {
          "base_uri": "https://localhost:8080/"
        },
        "id": "mR06vUjOhFfa",
        "outputId": "088f5adf-c62a-47e6-c35b-7af56fcea048"
      },
      "execution_count": null,
      "outputs": [
        {
          "output_type": "execute_result",
          "data": {
            "text/plain": [
              "4.018709677419355"
            ]
          },
          "metadata": {},
          "execution_count": 105
        }
      ]
    },
    {
      "cell_type": "code",
      "source": [
        "lle2=len(le2)/len(d)\n",
        "lle2"
      ],
      "metadata": {
        "colab": {
          "base_uri": "https://localhost:8080/"
        },
        "id": "Fj0gOQK9214Q",
        "outputId": "28f219e9-8f58-4ce1-ed8b-db7480b4d640"
      },
      "execution_count": null,
      "outputs": [
        {
          "output_type": "execute_result",
          "data": {
            "text/plain": [
              "0.052774940415389854"
            ]
          },
          "metadata": {},
          "execution_count": 106
        }
      ]
    },
    {
      "cell_type": "code",
      "source": [
        "rle2=len(le2.groupby('Задача')['Сфера']. nunique ())/len(le2)\n",
        "rle2"
      ],
      "metadata": {
        "colab": {
          "base_uri": "https://localhost:8080/"
        },
        "id": "p7t2QqIlhTmG",
        "outputId": "681ebd71-4268-4057-cfbc-68814db47876"
      },
      "execution_count": null,
      "outputs": [
        {
          "output_type": "execute_result",
          "data": {
            "text/plain": [
              "0.5548387096774193"
            ]
          },
          "metadata": {},
          "execution_count": 107
        }
      ]
    },
    {
      "cell_type": "code",
      "source": [
        "co2=d.loc[d['Сфера'] == 'Строительство']\n",
        "midco2=co2['Оценка'].mean()\n",
        "midco2"
      ],
      "metadata": {
        "colab": {
          "base_uri": "https://localhost:8080/"
        },
        "id": "sfGhEdpAheF2",
        "outputId": "629b2028-6011-4488-b2ed-d2722049e2c9"
      },
      "execution_count": null,
      "outputs": [
        {
          "output_type": "execute_result",
          "data": {
            "text/plain": [
              "4.025925925925925"
            ]
          },
          "metadata": {},
          "execution_count": 108
        }
      ]
    },
    {
      "cell_type": "code",
      "source": [
        "lco2=len(co2)/len(d)\n",
        "lco2"
      ],
      "metadata": {
        "colab": {
          "base_uri": "https://localhost:8080/"
        },
        "id": "ClkUxBIn3Uy9",
        "outputId": "c8c1d8a9-6882-4e4c-a992-a9c71d10a63b"
      },
      "execution_count": null,
      "outputs": [
        {
          "output_type": "execute_result",
          "data": {
            "text/plain": [
              "0.009193054136874362"
            ]
          },
          "metadata": {},
          "execution_count": 109
        }
      ]
    },
    {
      "cell_type": "code",
      "source": [
        "rco2=len(co2.groupby('Задача')['Сфера']. nunique ())/len(co2)\n",
        "rco2"
      ],
      "metadata": {
        "colab": {
          "base_uri": "https://localhost:8080/"
        },
        "id": "LxfBVRALh1F1",
        "outputId": "c168f35f-6a06-4565-f933-37485fc487e3"
      },
      "execution_count": null,
      "outputs": [
        {
          "output_type": "execute_result",
          "data": {
            "text/plain": [
              "0.3333333333333333"
            ]
          },
          "metadata": {},
          "execution_count": 110
        }
      ]
    },
    {
      "cell_type": "code",
      "source": [
        "ad2=d.loc[d['Сфера'] == 'Административные и канцелярские']\n",
        "midad2=ad2['Оценка'].mean()\n",
        "midad2"
      ],
      "metadata": {
        "colab": {
          "base_uri": "https://localhost:8080/"
        },
        "id": "8l_O45oYiEd1",
        "outputId": "8d759afe-69b1-4234-d4eb-7b7e86fdeee3"
      },
      "execution_count": null,
      "outputs": [
        {
          "output_type": "execute_result",
          "data": {
            "text/plain": [
              "4.080701754385965"
            ]
          },
          "metadata": {},
          "execution_count": 111
        }
      ]
    },
    {
      "cell_type": "code",
      "source": [
        "lad2=len(ad2)/len(d)\n",
        "lad2"
      ],
      "metadata": {
        "colab": {
          "base_uri": "https://localhost:8080/"
        },
        "id": "mjnNOVew3aeX",
        "outputId": "c69a1c9f-2d2b-49c5-d313-790107aa59c8"
      },
      "execution_count": null,
      "outputs": [
        {
          "output_type": "execute_result",
          "data": {
            "text/plain": [
              "0.07763023493360573"
            ]
          },
          "metadata": {},
          "execution_count": 112
        }
      ]
    },
    {
      "cell_type": "code",
      "source": [
        "rad2=len(ad2.groupby('Задача')['Сфера']. nunique ())/len(ad2)\n",
        "rad2"
      ],
      "metadata": {
        "colab": {
          "base_uri": "https://localhost:8080/"
        },
        "id": "Yuf1bSG9iZAb",
        "outputId": "f6ba9216-64bc-4c60-ea74-073ed0455936"
      },
      "execution_count": null,
      "outputs": [
        {
          "output_type": "execute_result",
          "data": {
            "text/plain": [
              "0.21052631578947367"
            ]
          },
          "metadata": {},
          "execution_count": 113
        }
      ]
    },
    {
      "cell_type": "code",
      "source": [
        "da2=d.loc[d['Сфера'] == 'Данные и IT']\n",
        "midda2=da2['Оценка'].mean()\n",
        "midda2"
      ],
      "metadata": {
        "colab": {
          "base_uri": "https://localhost:8080/"
        },
        "id": "5MJJsldliqj5",
        "outputId": "f0a51fb0-1350-4ab0-8fbe-2c6247889bfc"
      },
      "execution_count": null,
      "outputs": [
        {
          "output_type": "execute_result",
          "data": {
            "text/plain": [
              "3.974259681093394"
            ]
          },
          "metadata": {},
          "execution_count": 114
        }
      ]
    },
    {
      "cell_type": "code",
      "source": [
        "lda2=len(da2)/len(d)\n",
        "lda2"
      ],
      "metadata": {
        "colab": {
          "base_uri": "https://localhost:8080/"
        },
        "id": "4MH3tRPE3hnm",
        "outputId": "23280234-e014-407e-b63b-a7b5fcd8e1a8"
      },
      "execution_count": null,
      "outputs": [
        {
          "output_type": "execute_result",
          "data": {
            "text/plain": [
              "0.1494722505958461"
            ]
          },
          "metadata": {},
          "execution_count": 115
        }
      ]
    },
    {
      "cell_type": "code",
      "source": [
        "rda2=len(da2.groupby('Задача')['Сфера']. nunique ())/len(da2)\n",
        "rda2"
      ],
      "metadata": {
        "colab": {
          "base_uri": "https://localhost:8080/"
        },
        "id": "bipqIlOyi3IB",
        "outputId": "d8c633f4-1204-40cb-d57c-e75777e39dd6"
      },
      "execution_count": null,
      "outputs": [
        {
          "output_type": "execute_result",
          "data": {
            "text/plain": [
              "0.33029612756264237"
            ]
          },
          "metadata": {},
          "execution_count": 116
        }
      ]
    },
    {
      "cell_type": "code",
      "source": [
        "x=[midcom2, midsu2, midho2, midme2, midla2, midsa2, midle2, midco2, midad2, midda2]\n",
        "y=[rcom2, rsu2, rho2, rme2, rla2, rsa2, rle2, rco2, rad2, rda2]\n",
        "ax=sns.scatterplot(x=x,y=y)\n",
        "ax.set (xlabel='Средняя оценка',\n",
        " ylabel='Рациональность использования')\n",
        "\n",
        "plt.show()"
      ],
      "metadata": {
        "colab": {
          "base_uri": "https://localhost:8080/",
          "height": 449
        },
        "id": "_NNpi1KEjEK5",
        "outputId": "2a457523-0851-4645-ea33-0533414a748c"
      },
      "execution_count": null,
      "outputs": [
        {
          "output_type": "display_data",
          "data": {
            "text/plain": [
              "<Figure size 640x480 with 1 Axes>"
            ],
            "image/png": "[encoded data removed]"
          },
          "metadata": {}
        }
      ]
    },
    {
      "cell_type": "code",
      "source": [
        "from rpy2.robjects.vectors import FloatVector\n",
        "from rpy2.robjects.packages import importr\n",
        "\n",
        "stats = importr('stats')\n",
        "result = stats.cor(FloatVector(x), FloatVector(y))\n",
        "result"
      ],
      "metadata": {
        "colab": {
          "base_uri": "https://localhost:8080/",
          "height": 56
        },
        "id": "fbrewargjvcR",
        "outputId": "b36fb8cb-8e21-4291-dbb7-8cabab412c76"
      },
      "execution_count": null,
      "outputs": [
        {
          "output_type": "execute_result",
          "data": {
            "text/plain": [
              "<rpy2.robjects.vectors.FloatVector object at 0x78ca3a8d6a00> [RTYPES.REALSXP]\n",
              "R classes: ('numeric',)\n",
              "[-0.426825]"
            ],
            "text/html": [
              "\n",
              "        <span>FloatVector with 1 elements.</span>\n",
              "        <table>\n",
              "        <tbody>\n",
              "          <tr>\n",
              "          \n",
              "            <td>\n",
              "            -0.426825\n",
              "            </td>\n",
              "          \n",
              "          </tr>\n",
              "        </tbody>\n",
              "        </table>\n",
              "        "
            ]
          },
          "metadata": {},
          "execution_count": 118
        }
      ]
    },
    {
      "cell_type": "code",
      "source": [
        "y=[len(com2.groupby('Задача')['Сфера']. nunique ()),len(su2.groupby('Задача')['Сфера']. nunique ()),len(ho2.groupby('Задача')['Сфера']. nunique ()),len(me2.groupby('Задача')['Сфера']. nunique ()),len(la2.groupby('Задача')['Сфера']. nunique ()),len(sa2.groupby('Задача')['Сфера']. nunique ()),len(le2.groupby('Задача')['Сфера']. nunique ()),len(co2.groupby('Задача')['Сфера']. nunique ()),len(ad2.groupby('Задача')['Сфера']. nunique ()),len(da2.groupby('Задача')['Сфера']. nunique ())]\n",
        "from rpy2.robjects.vectors import FloatVector\n",
        "from rpy2.robjects.packages import importr\n",
        "\n",
        "stats = importr('stats')\n",
        "result = stats.cor(FloatVector(x), FloatVector(y))\n",
        "result"
      ],
      "metadata": {
        "colab": {
          "base_uri": "https://localhost:8080/",
          "height": 56
        },
        "id": "AVmeTi6YkjoA",
        "outputId": "223fd6b4-8e90-4bc9-cab9-20143d778859"
      },
      "execution_count": null,
      "outputs": [
        {
          "output_type": "execute_result",
          "data": {
            "text/plain": [
              "<rpy2.robjects.vectors.FloatVector object at 0x78ca3a1975c0> [RTYPES.REALSXP]\n",
              "R classes: ('numeric',)\n",
              "[0.006079]"
            ],
            "text/html": [
              "\n",
              "        <span>FloatVector with 1 elements.</span>\n",
              "        <table>\n",
              "        <tbody>\n",
              "          <tr>\n",
              "          \n",
              "            <td>\n",
              "            0.006079\n",
              "            </td>\n",
              "          \n",
              "          </tr>\n",
              "        </tbody>\n",
              "        </table>\n",
              "        "
            ]
          },
          "metadata": {},
          "execution_count": 119
        }
      ]
    },
    {
      "cell_type": "code",
      "source": [
        "ax=sns.scatterplot(x=x,y=y)\n",
        "ax.set (xlabel='Средняя оценка',\n",
        " ylabel='Количество задач')\n",
        "\n",
        "plt.show()"
      ],
      "metadata": {
        "colab": {
          "base_uri": "https://localhost:8080/",
          "height": 449
        },
        "id": "fI6zQhvbk6pP",
        "outputId": "af03c58f-0403-4ee3-c699-8f0128a23606"
      },
      "execution_count": null,
      "outputs": [
        {
          "output_type": "display_data",
          "data": {
            "text/plain": [
              "<Figure size 640x480 with 1 Axes>"
            ],
            "image/png": "[encoded data removed]"
          },
          "metadata": {}
        }
      ]
    },
    {
      "cell_type": "code",
      "source": [
        "y=['Коммуникации и PR','Цепочка поставок и логистика','Гостеприимство','Медицина и здравоохранение','Правоохранительный','Продажи и маркетинг','Лидерство и стратегия','Строительство', 'Административные и канцелярские', 'Данные и IT']\n",
        "ax=sns.scatterplot(x=x,y=y)\n",
        "ax.set (xlabel='Средняя оценка',\n",
        " ylabel='Сфера')\n",
        "\n",
        "plt.show()"
      ],
      "metadata": {
        "colab": {
          "base_uri": "https://localhost:8080/",
          "height": 449
        },
        "id": "yg1hQ5jLkEIC",
        "outputId": "71504689-04c5-4640-e591-479ee5886039"
      },
      "execution_count": null,
      "outputs": [
        {
          "output_type": "display_data",
          "data": {
            "text/plain": [
              "<Figure size 640x480 with 1 Axes>"
            ],
            "image/png": "[encoded data removed]"
          },
          "metadata": {}
        }
      ]
    },
    {
      "cell_type": "code",
      "source": [
        "y=[len(com2),len(su2),len(ho2),len(me2),len(la2),len(sa2),len(le2),len(co2),len(ad2),len(da2)]\n",
        "ax=sns.scatterplot(x=x,y=y)\n",
        "ax.set (xlabel='Средняя оценка',\n",
        " ylabel='Количество моделей')\n",
        "\n",
        "plt.show()"
      ],
      "metadata": {
        "colab": {
          "base_uri": "https://localhost:8080/",
          "height": 449
        },
        "id": "5mX4m58G7tWK",
        "outputId": "03f3531a-cdcb-43c4-b312-8ca426195ca1"
      },
      "execution_count": null,
      "outputs": [
        {
          "output_type": "display_data",
          "data": {
            "text/plain": [
              "<Figure size 640x480 with 1 Axes>"
            ],
            "image/png": "[encoded data removed]"
          },
          "metadata": {}
        }
      ]
    },
    {
      "cell_type": "code",
      "source": [
        "y=[1, 2, 3, 4, 5, 6, 7, 8, 9, 10]\n",
        "stats = importr('stats')\n",
        "result = stats.cor(FloatVector(x), FloatVector(y))\n",
        "result"
      ],
      "metadata": {
        "colab": {
          "base_uri": "https://localhost:8080/",
          "height": 56
        },
        "id": "wa9E-0hXmbGc",
        "outputId": "c2b4893b-55b4-4349-c3a2-4336ef9940c6"
      },
      "execution_count": null,
      "outputs": [
        {
          "output_type": "execute_result",
          "data": {
            "text/plain": [
              "<rpy2.robjects.vectors.FloatVector object at 0x7a1d4e8d0280> [RTYPES.REALSXP]\n",
              "R classes: ('numeric',)\n",
              "[0.591780]"
            ],
            "text/html": [
              "\n",
              "        <span>FloatVector with 1 elements.</span>\n",
              "        <table>\n",
              "        <tbody>\n",
              "          <tr>\n",
              "          \n",
              "            <td>\n",
              "            0.591780\n",
              "            </td>\n",
              "          \n",
              "          </tr>\n",
              "        </tbody>\n",
              "        </table>\n",
              "        "
            ]
          },
          "metadata": {},
          "execution_count": 94
        }
      ]
    },
    {
      "cell_type": "code",
      "source": [
        "y=[len(com2),len(su2),len(ho2),len(me2),len(la2),len(sa2),len(le2),len(co2),len(ad2),len(da2)]\n",
        "stats = importr('stats')\n",
        "result = stats.cor(FloatVector(x), FloatVector(y))\n",
        "result"
      ],
      "metadata": {
        "colab": {
          "base_uri": "https://localhost:8080/",
          "height": 56
        },
        "id": "yhyIyKxvfTae",
        "outputId": "195167dc-680a-4b4d-de83-6665e2851854"
      },
      "execution_count": null,
      "outputs": [
        {
          "output_type": "execute_result",
          "data": {
            "text/plain": [
              "<rpy2.robjects.vectors.FloatVector object at 0x78ca4b358c40> [RTYPES.REALSXP]\n",
              "R classes: ('numeric',)\n",
              "[-0.010468]"
            ],
            "text/html": [
              "\n",
              "        <span>FloatVector with 1 elements.</span>\n",
              "        <table>\n",
              "        <tbody>\n",
              "          <tr>\n",
              "          \n",
              "            <td>\n",
              "            -0.010468\n",
              "            </td>\n",
              "          \n",
              "          </tr>\n",
              "        </tbody>\n",
              "        </table>\n",
              "        "
            ]
          },
          "metadata": {},
          "execution_count": 123
        }
      ]
    },
    {
      "cell_type": "code",
      "source": [
        "x=[rcom2, rsu2, rho2, rme2, rla2, rsa2, rle2, rco2, rad2, rda2]\n",
        "y=['Коммуникации и PR','Цепочка поставок и логистика','Гостеприимство','Медицина и здравоохранение','Правоохранительный','Продажи и маркетинг','Лидерство и стратегия','Строительство', 'Административные и канцелярские', 'Данные и IT']\n",
        "ax=sns.scatterplot(x=x,y=y)\n",
        "ax.set (xlabel='Рациональность использования',\n",
        " ylabel='Сфера')\n",
        "\n",
        "plt.show()"
      ],
      "metadata": {
        "colab": {
          "base_uri": "https://localhost:8080/",
          "height": 449
        },
        "id": "co3cfFwDkWJY",
        "outputId": "8cc7da21-b83f-47f5-e64e-9961b428b768"
      },
      "execution_count": null,
      "outputs": [
        {
          "output_type": "display_data",
          "data": {
            "text/plain": [
              "<Figure size 640x480 with 1 Axes>"
            ],
            "image/png": "[encoded data removed]"
          },
          "metadata": {}
        }
      ]
    },
    {
      "cell_type": "code",
      "source": [
        "y=[len(com2),len(su2),len(ho2),len(me2),len(la2),len(sa2),len(le2),len(co2),len(ad2),len(da2)]\n",
        "stats = importr('stats')\n",
        "result = stats.cor(FloatVector(x), FloatVector(y))\n",
        "result"
      ],
      "metadata": {
        "colab": {
          "base_uri": "https://localhost:8080/",
          "height": 56
        },
        "id": "hyYj3LOIfpsY",
        "outputId": "f6b94b2c-b4a1-4adb-e03c-fa25a5e5b7bf"
      },
      "execution_count": null,
      "outputs": [
        {
          "output_type": "execute_result",
          "data": {
            "text/plain": [
              "<rpy2.robjects.vectors.FloatVector object at 0x78ca3a53ce40> [RTYPES.REALSXP]\n",
              "R classes: ('numeric',)\n",
              "[-0.544007]"
            ],
            "text/html": [
              "\n",
              "        <span>FloatVector with 1 elements.</span>\n",
              "        <table>\n",
              "        <tbody>\n",
              "          <tr>\n",
              "          \n",
              "            <td>\n",
              "            -0.544007\n",
              "            </td>\n",
              "          \n",
              "          </tr>\n",
              "        </tbody>\n",
              "        </table>\n",
              "        "
            ]
          },
          "metadata": {},
          "execution_count": 125
        }
      ]
    },
    {
      "cell_type": "code",
      "source": [
        "ax=sns.scatterplot(x=x,y=y)\n",
        "ax.set (xlabel='Рациональность использования',\n",
        " ylabel='Количество моделей')\n",
        "\n",
        "plt.show()"
      ],
      "metadata": {
        "colab": {
          "base_uri": "https://localhost:8080/",
          "height": 449
        },
        "id": "HeLcaF0V8u9J",
        "outputId": "cd74f399-30bd-4f4c-804b-0f844d49ccba"
      },
      "execution_count": null,
      "outputs": [
        {
          "output_type": "display_data",
          "data": {
            "text/plain": [
              "<Figure size 640x480 with 1 Axes>"
            ],
            "image/png": "[encoded data removed]"
          },
          "metadata": {}
        }
      ]
    },
    {
      "cell_type": "code",
      "source": [
        "y=[len(com2.groupby('Задача')['Сфера']. nunique ()),len(su2.groupby('Задача')['Сфера']. nunique ()),len(ho2.groupby('Задача')['Сфера']. nunique ()),len(me2.groupby('Задача')['Сфера']. nunique ()),len(la2.groupby('Задача')['Сфера']. nunique ()),len(sa2.groupby('Задача')['Сфера']. nunique ()),len(le2.groupby('Задача')['Сфера']. nunique ()),len(co2.groupby('Задача')['Сфера']. nunique ()),len(ad2.groupby('Задача')['Сфера']. nunique ()),len(da2.groupby('Задача')['Сфера']. nunique())]\n",
        "from rpy2.robjects.vectors import FloatVector\n",
        "from rpy2.robjects.packages import importr\n",
        "\n",
        "stats = importr('stats')\n",
        "result = stats.cor(FloatVector(x), FloatVector(y))\n",
        "result"
      ],
      "metadata": {
        "colab": {
          "base_uri": "https://localhost:8080/",
          "height": 56
        },
        "id": "AOQDyPYolL_D",
        "outputId": "39446153-527e-45ab-a5d2-472d5fa3aec6"
      },
      "execution_count": null,
      "outputs": [
        {
          "output_type": "execute_result",
          "data": {
            "text/plain": [
              "<rpy2.robjects.vectors.FloatVector object at 0x78ca3a60ca80> [RTYPES.REALSXP]\n",
              "R classes: ('numeric',)\n",
              "[0.006079]"
            ],
            "text/html": [
              "\n",
              "        <span>FloatVector with 1 elements.</span>\n",
              "        <table>\n",
              "        <tbody>\n",
              "          <tr>\n",
              "          \n",
              "            <td>\n",
              "            0.006079\n",
              "            </td>\n",
              "          \n",
              "          </tr>\n",
              "        </tbody>\n",
              "        </table>\n",
              "        "
            ]
          },
          "metadata": {},
          "execution_count": 133
        }
      ]
    },
    {
      "cell_type": "code",
      "source": [
        "ax=sns.scatterplot(x=x,y=y)\n",
        "ax.set (xlabel='Количество задач',\n",
        " ylabel='Влияние ИИ')\n",
        "\n",
        "plt.show()"
      ],
      "metadata": {
        "colab": {
          "base_uri": "https://localhost:8080/",
          "height": 449
        },
        "id": "hZbJgnFSlSa5",
        "outputId": "64667ee7-5520-439d-fe05-ebf4ae387645"
      },
      "execution_count": null,
      "outputs": [
        {
          "output_type": "display_data",
          "data": {
            "text/plain": [
              "<Figure size 640x480 with 1 Axes>"
            ],
            "image/png": "[encoded data removed]"
          },
          "metadata": {}
        }
      ]
    },
    {
      "cell_type": "code",
      "source": [
        "y=[1, 2, 3, 4, 5, 6, 7, 8, 9, 10]\n",
        "stats = importr('stats')\n",
        "result = stats.cor(FloatVector(x), FloatVector(y))\n",
        "result"
      ],
      "metadata": {
        "colab": {
          "base_uri": "https://localhost:8080/",
          "height": 56
        },
        "id": "QsIZGMfJnVUH",
        "outputId": "d9542ec3-0d46-4ed9-e6b7-1e9d27051922"
      },
      "execution_count": null,
      "outputs": [
        {
          "output_type": "execute_result",
          "data": {
            "text/plain": [
              "<rpy2.robjects.vectors.FloatVector object at 0x7eb06c927fc0> [RTYPES.REALSXP]\n",
              "R classes: ('numeric',)\n",
              "[-0.339960]"
            ],
            "text/html": [
              "\n",
              "        <span>FloatVector with 1 elements.</span>\n",
              "        <table>\n",
              "        <tbody>\n",
              "          <tr>\n",
              "          \n",
              "            <td>\n",
              "            -0.339960\n",
              "            </td>\n",
              "          \n",
              "          </tr>\n",
              "        </tbody>\n",
              "        </table>\n",
              "        "
            ]
          },
          "metadata": {},
          "execution_count": 106
        }
      ]
    },
    {
      "cell_type": "code",
      "source": [
        "x=[midcom2, midsu2, midho2, midme2, midla2, midsa2, midle2, midco2, midad2, midda2]\n",
        "y=[lcom2, lsu2, lho2, lme2, lla2, lsa2, lle2, lco2, lad2, lda2]\n",
        "ax=sns.scatterplot(x=x,y=y)\n",
        "ax.set (xlabel='Средняя оценка',\n",
        " ylabel='Влияние ИИ')\n",
        "\n",
        "plt.show()"
      ],
      "metadata": {
        "colab": {
          "base_uri": "https://localhost:8080/",
          "height": 449
        },
        "id": "qEio5ac13pCg",
        "outputId": "2523ba73-75b6-4b29-f07d-c7d157f37585"
      },
      "execution_count": null,
      "outputs": [
        {
          "output_type": "display_data",
          "data": {
            "text/plain": [
              "<Figure size 640x480 with 1 Axes>"
            ],
            "image/png": "[encoded data removed]"
          },
          "metadata": {}
        }
      ]
    },
    {
      "cell_type": "code",
      "source": [
        "stats = importr('stats')\n",
        "result = stats.cor(FloatVector(x), FloatVector(y))\n",
        "result"
      ],
      "metadata": {
        "colab": {
          "base_uri": "https://localhost:8080/",
          "height": 56
        },
        "id": "F8HhQyV74AYg",
        "outputId": "946a1389-5cbf-4d76-f131-97d6d3d5cd36"
      },
      "execution_count": null,
      "outputs": [
        {
          "output_type": "execute_result",
          "data": {
            "text/plain": [
              "<rpy2.robjects.vectors.FloatVector object at 0x78ca3a43f580> [RTYPES.REALSXP]\n",
              "R classes: ('numeric',)\n",
              "[-0.010468]"
            ],
            "text/html": [
              "\n",
              "        <span>FloatVector with 1 elements.</span>\n",
              "        <table>\n",
              "        <tbody>\n",
              "          <tr>\n",
              "          \n",
              "            <td>\n",
              "            -0.010468\n",
              "            </td>\n",
              "          \n",
              "          </tr>\n",
              "        </tbody>\n",
              "        </table>\n",
              "        "
            ]
          },
          "metadata": {},
          "execution_count": 131
        }
      ]
    },
    {
      "cell_type": "code",
      "source": [
        "x=[len(com2.groupby('Задача')['Сфера']. nunique ()),len(su2.groupby('Задача')['Сфера']. nunique ()),len(ho2.groupby('Задача')['Сфера']. nunique ()),len(me2.groupby('Задача')['Сфера']. nunique ()),len(la2.groupby('Задача')['Сфера']. nunique ()),len(sa2.groupby('Задача')['Сфера']. nunique ()),len(le2.groupby('Задача')['Сфера']. nunique ()),len(co2.groupby('Задача')['Сфера']. nunique ()),len(ad2.groupby('Задача')['Сфера']. nunique ()),len(da2.groupby('Задача')['Сфера']. nunique())]\n",
        "from rpy2.robjects.vectors import FloatVector\n",
        "from rpy2.robjects.packages import importr\n",
        "\n",
        "stats = importr('stats')\n",
        "result = stats.cor(FloatVector(x), FloatVector(y))\n",
        "result"
      ],
      "metadata": {
        "colab": {
          "base_uri": "https://localhost:8080/",
          "height": 56
        },
        "id": "lLSaDcaT4RYX",
        "outputId": "d5f55202-5c4f-4114-8476-1753beb477d7"
      },
      "execution_count": null,
      "outputs": [
        {
          "output_type": "execute_result",
          "data": {
            "text/plain": [
              "<rpy2.robjects.vectors.FloatVector object at 0x78ca3a8bb8c0> [RTYPES.REALSXP]\n",
              "R classes: ('numeric',)\n",
              "[0.985472]"
            ],
            "text/html": [
              "\n",
              "        <span>FloatVector with 1 elements.</span>\n",
              "        <table>\n",
              "        <tbody>\n",
              "          <tr>\n",
              "          \n",
              "            <td>\n",
              "            0.985472\n",
              "            </td>\n",
              "          \n",
              "          </tr>\n",
              "        </tbody>\n",
              "        </table>\n",
              "        "
            ]
          },
          "metadata": {},
          "execution_count": 139
        }
      ]
    },
    {
      "cell_type": "code",
      "source": [
        "ax=sns.scatterplot(x=x,y=y)\n",
        "ax.set (xlabel='Количество задач',\n",
        " ylabel='Влияние ИИ')\n",
        "\n",
        "plt.show()"
      ],
      "metadata": {
        "colab": {
          "base_uri": "https://localhost:8080/",
          "height": 449
        },
        "id": "ztWL7DKD4c6d",
        "outputId": "fa2681ae-f8dd-45fc-e1ab-f362d6519104"
      },
      "execution_count": null,
      "outputs": [
        {
          "output_type": "display_data",
          "data": {
            "text/plain": [
              "<Figure size 640x480 with 1 Axes>"
            ],
            "image/png": "[encoded data removed]"
          },
          "metadata": {}
        }
      ]
    },
    {
      "cell_type": "code",
      "source": [
        "x=[rcom2, rsu2, rho2, rme2, rla2, rsa2, rle2, rco2, rad2, rda2]\n",
        "from rpy2.robjects.vectors import FloatVector\n",
        "from rpy2.robjects.packages import importr\n",
        "\n",
        "stats = importr('stats')\n",
        "result = stats.cor(FloatVector(x), FloatVector(y))\n",
        "result"
      ],
      "metadata": {
        "colab": {
          "base_uri": "https://localhost:8080/",
          "height": 56
        },
        "id": "xzcrOgdZ4nGT",
        "outputId": "876578e1-e43b-44fa-883b-468e743cb29a"
      },
      "execution_count": null,
      "outputs": [
        {
          "output_type": "execute_result",
          "data": {
            "text/plain": [
              "<rpy2.robjects.vectors.FloatVector object at 0x78ca3a6ee540> [RTYPES.REALSXP]\n",
              "R classes: ('numeric',)\n",
              "[-0.544007]"
            ],
            "text/html": [
              "\n",
              "        <span>FloatVector with 1 elements.</span>\n",
              "        <table>\n",
              "        <tbody>\n",
              "          <tr>\n",
              "          \n",
              "            <td>\n",
              "            -0.544007\n",
              "            </td>\n",
              "          \n",
              "          </tr>\n",
              "        </tbody>\n",
              "        </table>\n",
              "        "
            ]
          },
          "metadata": {},
          "execution_count": 143
        }
      ]
    },
    {
      "cell_type": "code",
      "source": [
        "ax=sns.scatterplot(x=x,y=y)\n",
        "ax.set (xlabel='Рациональность',\n",
        " ylabel='Влияние ИИ')\n",
        "\n",
        "plt.show()"
      ],
      "metadata": {
        "colab": {
          "base_uri": "https://localhost:8080/",
          "height": 449
        },
        "id": "xz_e13TM41Lh",
        "outputId": "7f9b0bbe-5442-493c-a0a2-f84aaa4cd5b1"
      },
      "execution_count": null,
      "outputs": [
        {
          "output_type": "display_data",
          "data": {
            "text/plain": [
              "<Figure size 640x480 with 1 Axes>"
            ],
            "image/png": "[encoded data removed]"
          },
          "metadata": {}
        }
      ]
    },
    {
      "cell_type": "code",
      "source": [
        "y=['Коммуникации и PR','Цепочка поставок и логистика','Гостеприимство','Медицина и здравоохранение','Правоохранительный','Продажи и маркетинг','Лидерство и стратегия','Строительство', 'Административные и канцелярские', 'Данные и IT']\n",
        "x=[lcom2, lsu2, lho2, lme2, lla2, lsa2, lle2, lco2, lad2, lda2]\n",
        "sns.scatterplot(x=x,y=y)"
      ],
      "metadata": {
        "colab": {
          "base_uri": "https://localhost:8080/",
          "height": 447
        },
        "id": "jGTuwKY44-1l",
        "outputId": "be0c1e2b-bd08-466d-cc90-e59d9039db40"
      },
      "execution_count": null,
      "outputs": [
        {
          "output_type": "execute_result",
          "data": {
            "text/plain": [
              "<Axes: >"
            ]
          },
          "metadata": {},
          "execution_count": 113
        },
        {
          "output_type": "display_data",
          "data": {
            "text/plain": [
              "<Figure size 640x480 with 1 Axes>"
            ],
            "image/png": "[encoded data removed]"
          },
          "metadata": {}
        }
      ]
    },
    {
      "cell_type": "code",
      "source": [
        "y=[1, 2, 3, 4, 5, 6, 7, 8, 9, 10]\n",
        "stats = importr('stats')\n",
        "result = stats.cor(FloatVector(x), FloatVector(y))\n",
        "result"
      ],
      "metadata": {
        "colab": {
          "base_uri": "https://localhost:8080/",
          "height": 56
        },
        "id": "AiaAVltq5Vcz",
        "outputId": "ae3b0c46-41c5-4335-b46e-f3311dc7a9ff"
      },
      "execution_count": null,
      "outputs": [
        {
          "output_type": "execute_result",
          "data": {
            "text/plain": [
              "<rpy2.robjects.vectors.FloatVector object at 0x7eb06cd84f80> [RTYPES.REALSXP]\n",
              "R classes: ('numeric',)\n",
              "[-0.374051]"
            ],
            "text/html": [
              "\n",
              "        <span>FloatVector with 1 elements.</span>\n",
              "        <table>\n",
              "        <tbody>\n",
              "          <tr>\n",
              "          \n",
              "            <td>\n",
              "            -0.374051\n",
              "            </td>\n",
              "          \n",
              "          </tr>\n",
              "        </tbody>\n",
              "        </table>\n",
              "        "
            ]
          },
          "metadata": {},
          "execution_count": 114
        }
      ]
    }
  ]
}